{
 "cells": [
  {
   "cell_type": "code",
   "execution_count": null,
   "metadata": {},
   "outputs": [],
   "source": [
    "from src.filehandler import DataHandler\n",
    "from src.regressor import Regressor, r_square, rmse\n",
    "from stop_words import get_stop_words\n",
    "import src.utils as utils"
   ]
  },
  {
   "cell_type": "code",
   "execution_count": null,
   "metadata": {},
   "outputs": [],
   "source": [
    "stop_words = get_stop_words('spanish')\n",
    "data_A = DataHandler(root_folder=\"./data\", train_folder=\"/train_data\", test_folder=\"/test_A_data\")\n",
    "data_B = DataHandler(root_folder=\"./data\", train_folder=\"/train_data\", test_folder=\"/test_B_data\")\n",
    "data_C = DataHandler(root_folder=\"./data\", train_folder=\"/train_data\", test_folder=\"/test_C_data\")\n",
    "X_test1= data_A.get_data_test(method=\"count-vectorizer\", stop_words=None, ngram_range=(1,1), verbose=False)\n",
    "X_test2= data_A.get_data_test(method=\"count-vectorizer\", stop_words=None, ngram_range=(1,4), verbose=False)\n",
    "X_test3= data_A.get_data_test(method=\"count-vectorizer\", stop_words=stop_words, ngram_range=(1,4), verbose=False)\n",
    "X_test4= data_A.get_data_test(method=\"tf-idf\", stop_words=None, ngram_range=(1,1), verbose=False)\n",
    "X_test5= data_A.get_data_test(method=\"tf-idf\", stop_words=None, ngram_range=(1,4), verbose=False)\n",
    "X_test6= data_A.get_data_test(method=\"tf-idf\", stop_words=stop_words, ngram_range=(1,4), verbose=False)"
   ]
  },
  {
   "cell_type": "markdown",
   "metadata": {},
   "source": [
    "# Crear descriptores para los test A, B y C"
   ]
  },
  {
   "cell_type": "code",
   "execution_count": null,
   "metadata": {},
   "outputs": [],
   "source": [
    "#stop_words = get_stop_words('spanish')\n",
    "#data_A = DataHandler(root_folder=\"./data\", train_folder=\"/train_data\", test_folder=\"/test_A_data\")\n",
    "#data_B = DataHandler(root_folder=\"./data\", train_folder=\"/train_data\", test_folder=\"/test_B_data\")\n",
    "#data_C = DataHandler(root_folder=\"./data\", train_folder=\"/train_data\", test_folder=\"/test_C_data\")\n",
    "#usamos el metodo get data para obtener el X_test de largo 5000 para cada vectorizer mencionado en las regresiones\n",
    "#test para Count-vectorizer con ngram_range = (1,1) y sin stop_words\n",
    "#X_test_A_1= data_A.get_data(method=\"count-vectorizer\", stop_words=None, ngram_range=(1,1))[1]\n",
    "#print(\"X_test_A:\", X_test_A_1.shape)\n",
    "#X_test_B_1= data_B.get_data(method=\"count-vectorizer\", stop_words=None, ngram_range=(1,1))[1]\n",
    "#print(\"X_test_B:\", X_test_B_1.shape)\n",
    "#X_test_C_1= data_C.get_data(method=\"count-vectorizer\", stop_words=None, ngram_range=(1,1))[1]\n",
    "#print(\"X_test_C:\", X_test_C_1.shape)"
   ]
  },
  {
   "cell_type": "markdown",
   "metadata": {},
   "source": [
    "# Leer Data"
   ]
  },
  {
   "cell_type": "code",
   "execution_count": null,
   "metadata": {},
   "outputs": [],
   "source": [
    "#stop_words = get_stop_words('spanish')\n",
    "#data = DataHandler(root_folder=\"./data\", train_folder=\"/train_data\", test_folder=\"/test_A_data\")\n",
    "#X_train, X_test, y_train, y_test = data.get_data_count_vectorizer()\n",
    "#X_train, X_test, y_train, y_test = data.get_data(method=\"tf-idf\", stop_words=stop_words, ngram_range=(1,1))\n",
    "#print(\"shapes\")\n",
    "#print(\"X_train:\", X_train.shape)\n",
    "#print(\"y_train:\", y_train.shape)\n",
    "#print(\"X_test:\", X_test.shape)\n",
    "#print(\"y_test:\", y_test.shape)"
   ]
  },
  {
   "cell_type": "markdown",
   "metadata": {},
   "source": [
    "# Cargar modelos ya entrenados"
   ]
  },
  {
   "cell_type": "code",
   "execution_count": null,
   "metadata": {},
   "outputs": [],
   "source": [
    "reg1 = Regressor()\n",
    "reg2 = Regressor()\n",
    "reg3 = Regressor()\n",
    "reg4 = Regressor()\n",
    "reg5 = Regressor()\n",
    "reg6 = Regressor()\n",
    "reg1.load(\"cv_ngram11_none\", custom_objects={\"rmse\": rmse, \"r_square\": r_square})\n",
    "metrics = reg1.plot_metrics(\"metricas en Count-Vectorizer, ngram-range=(1, 1)\")\n",
    "reg2.load(\"cv_ngram14_none\", custom_objects={\"rmse\": rmse, \"r_square\": r_square})\n",
    "metrics = reg2.plot_metrics(\"metricas en Count-Vectorizer, ngram-range=(1, 4)\")\n",
    "reg3.load(\"cv_ngram14_stop_words\", custom_objects={\"rmse\": rmse, \"r_square\": r_square})\n",
    "metrics = reg3.plot_metrics(\"metricas en Count-Vectorizer, ngram-range=(1, 4), con stop_words\")\n",
    "reg4.load(\"tf_idf_ngram11_none\", custom_objects={\"rmse\": rmse, \"r_square\": r_square})\n",
    "metrics = reg4.plot_metrics(\"metricas en TF-IDF, ngram-range=(1, 1)\")\n",
    "reg5.load(\"tf_idf_ngram14_none\", custom_objects={\"rmse\": rmse, \"r_square\": r_square})\n",
    "metrics = reg5.plot_metrics(\"metricas en TF-IDF, ngram-range=(1, 4)\")\n",
    "reg6.load(\"tf_idf_ngram14_stop_words\", custom_objects={\"rmse\": rmse, \"r_square\": r_square})\n",
    "metrics = reg6.plot_metrics(\"metricas en TF-IDF, ngram-range=(1, 4), con stop_words\")"
   ]
  },
  {
   "cell_type": "markdown",
   "metadata": {},
   "source": [
    "# Calcular indicadores"
   ]
  },
  {
   "cell_type": "code",
   "execution_count": null,
   "metadata": {},
   "outputs": [],
   "source": [
    "#calculamos los vectores resultantes del predict para cada test\n",
    "vectores_1 = reg1.predict(X_test1)\n",
    "vectores_2 = reg2.predict(X_test2)\n",
    "vectores_3 = reg3.predict(X_test3)\n",
    "vectores_4 = reg4.predict(X_test4)\n",
    "vectores_5 = reg5.predict(X_test5)\n",
    "vectores_6 = reg6.predict(X_test6)\n",
    "#cargamos los descriptores de imagenes\n",
    "y_simple_test_A = data_A.load_simple_test(\"A\") #este es el que usaremos a priori\n",
    "#los test B y C se usaran para hacer una validacion final para ver si hay overfitting\n",
    "y_simple_test_B = data_B.load_simple_test(\"B\")\n",
    "y_simple_test_C = data_C.load_simple_test(\"C\")"
   ]
  },
  {
   "cell_type": "code",
   "execution_count": null,
   "metadata": {},
   "outputs": [],
   "source": [
    "#vectores_1A = reg1.predict(X_test_A_1)\n",
    "#vectores_1B = reg1.predict(X_test_B_1)\n",
    "#vectores_1C = reg1.predict(X_test_C_1)\n",
    "#este se puede hacer una vez y listo\n",
    "#y_simple_test_A = data_A.load_simple_test(\"A\")\n",
    "#y_simple_test_B = data_B.load_simple_test(\"B\")\n",
    "#y_simple_test_C = data_C.load_simple_test(\"C\")"
   ]
  },
  {
   "cell_type": "code",
   "execution_count": null,
   "metadata": {},
   "outputs": [],
   "source": [
    "#cargar medidor de indicadores para Similarity search, recall at k, MRR y Mean\n",
    "from src.indicators import Indicators\n",
    "ind = Indicators()"
   ]
  },
  {
   "cell_type": "code",
   "execution_count": null,
   "metadata": {},
   "outputs": [],
   "source": [
    "rank_1 = ind.similarity_search(y_simple_test_A, vectores_1)\n",
    "datos_1 = ind.get_formated_data()\n",
    "rank_2 = ind.similarity_search(y_simple_test_A, vectores_2)\n",
    "datos_2 = ind.get_formated_data()\n",
    "rank_3 = ind.similarity_search(y_simple_test_A, vectores_3)\n",
    "datos_3 = ind.get_formated_data()\n",
    "rank_4 = ind.similarity_search(y_simple_test_A, vectores_4)\n",
    "datos_4 = ind.get_formated_data()\n",
    "rank_5 = ind.similarity_search(y_simple_test_A, vectores_5)\n",
    "datos_5 = ind.get_formated_data()\n",
    "rank_6 = ind.similarity_search(y_simple_test_A, vectores_6)\n",
    "datos_6 = ind.get_formated_data()"
   ]
  },
  {
   "cell_type": "code",
   "execution_count": null,
   "metadata": {},
   "outputs": [],
   "source": []
  },
  {
   "cell_type": "code",
   "execution_count": null,
   "metadata": {},
   "outputs": [],
   "source": [
    "#rank_1A = ind.similarity_search(y_simple_test_A, vectores_1A)\n",
    "#datos_1A = ind.get_formated_data()"
   ]
  },
  {
   "cell_type": "code",
   "execution_count": null,
   "metadata": {},
   "outputs": [],
   "source": [
    "#rank_1B = ind.similarity_search(y_simple_test_B, vectores_1B)\n",
    "#datos_1B = ind.get_formated_data()"
   ]
  },
  {
   "cell_type": "code",
   "execution_count": null,
   "metadata": {},
   "outputs": [],
   "source": [
    "#rank_1C = ind.similarity_search(y_simple_test_C, vectores_1C)\n",
    "#datos_1C = ind.get_formated_data()"
   ]
  },
  {
   "cell_type": "code",
   "execution_count": null,
   "metadata": {},
   "outputs": [],
   "source": [
    "labels = ['recall@1','recall@5','recall@10','MRR','Mean']\n",
    "index = ['CV_ngram11_none', 'CV_ngram14_none','CV_ngram14_StopWords',\n",
    "         'tf-idf_ngram11_none', 'tf-idf_ngram14_none','tf-idf_ngram14_StopWords']\n",
    "datos = [datos_1, datos_2, datos_3,datos_4, datos_5, datos_6]\n",
    "tabla = utils.get_table(datos, index, labels)\n",
    "utils.print_histo(rank_1,index[0])\n",
    "utils.print_histo(rank_2,index[1])\n",
    "utils.print_histo(rank_3,index[2])\n",
    "utils.print_histo(rank_4,index[3])\n",
    "utils.print_histo(rank_5,index[4])\n",
    "utils.print_histo(rank_6,index[5])"
   ]
  },
  {
   "cell_type": "code",
   "execution_count": null,
   "metadata": {},
   "outputs": [],
   "source": [
    "tabla"
   ]
  },
  {
   "cell_type": "markdown",
   "metadata": {},
   "source": [
    "Se observa que todos los experimentos tienen metricas muy parecidas, pero el que tiene las mejores métricas en general es el TF-IDF con ngram_range = (1,4) y con stop_words de español. Entonces probaremos con los test B y C para ver si tienen metricas similares tambien."
   ]
  },
  {
   "cell_type": "code",
   "execution_count": null,
   "metadata": {},
   "outputs": [],
   "source": [
    "X_test6_B= data_B.get_data_test(method=\"tf-idf\", stop_words=stop_words, ngram_range=(1,4))\n",
    "X_test6_C= data_C.get_data_test(method=\"tf-idf\", stop_words=stop_words, ngram_range=(1,4))\n",
    "vectores_6_B = reg6.predict(X_test6_B)\n",
    "vectores_6_C = reg6.predict(X_test6_C)\n",
    "rank_6_B = ind.similarity_search(y_simple_test_B, vectores_6_B)\n",
    "datos_6_B = ind.get_formated_data()\n",
    "rank_6_C = ind.similarity_search(y_simple_test_C, vectores_6_C)\n",
    "datos_6_C = ind.get_formated_data()"
   ]
  },
  {
   "cell_type": "code",
   "execution_count": null,
   "metadata": {},
   "outputs": [],
   "source": [
    "index = ['Test_A', 'Test_B','Test_C']\n",
    "datos = [datos_6, datos_6_B, datos_6_C]\n",
    "tabla = utils.get_table(datos, index, labels)\n",
    "tabla"
   ]
  }
 ],
 "metadata": {
  "kernelspec": {
   "display_name": "Python 3",
   "language": "python",
   "name": "python3"
  },
  "language_info": {
   "codemirror_mode": {
    "name": "ipython",
    "version": 3
   },
   "file_extension": ".py",
   "mimetype": "text/x-python",
   "name": "python",
   "nbconvert_exporter": "python",
   "pygments_lexer": "ipython3",
   "version": "3.6.8"
  }
 },
 "nbformat": 4,
 "nbformat_minor": 2
}
