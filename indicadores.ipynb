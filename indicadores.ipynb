{
 "cells": [
  {
   "cell_type": "code",
   "execution_count": 1,
   "metadata": {},
   "outputs": [
    {
     "name": "stderr",
     "output_type": "stream",
     "text": [
      "Using TensorFlow backend.\n"
     ]
    }
   ],
   "source": [
    "from src.filehandler import DataHandler\n",
    "from src.regressor import Regressor, r_square, rmse\n",
    "from stop_words import get_stop_words\n",
    "import src.utils as utils"
   ]
  },
  {
   "cell_type": "markdown",
   "metadata": {},
   "source": [
    "### Análisis de datos\n",
    "\n",
    "Para analizar los resultados obtenidos por la regresión vamos a calcular varias métricas, las que son:\n",
    "* Silimarity search, busqueda de los más cercanos. Para los 5000 vectores de test se guardan\n",
    "  las posiciones de los 1000 vectores más cercanos, de 1000 vectores, lo que se traduce en un\n",
    "  ordenamiento de las predicciones segun distancia entre el descriptor de texto y el de imagen.\n",
    "* Un vector de posiciones correctas, para cada descriptor de texto se calcula donde está ubicada\n",
    "  la respuesta correcta dada la matriz obtenida en similarity search, serian 5000 números entre\n",
    "  el 1 y el 1000. Con esto se muestra un histograma para visualizar mejor la frecuencia de las posiciones.\n",
    "* Recall@k, que correspode al porcentaje de esos 5000 números que son menores o iguales a K.\n",
    "  Especificamente se calcula recall@1, recall@5 y recall@10.\n",
    "* MRR o mean reciprocal rank\n",
    "* Posición promedio del vector de posiciones correctas.\n"
   ]
  },
  {
   "cell_type": "markdown",
   "metadata": {},
   "source": [
    "## Crear descriptores de texto para los test propuestos\n",
    "\n",
    "Primero cargamos los datos necesarios para calcular los descriptores de texto, para los 6 test\n",
    "descritos más arriba."
   ]
  },
  {
   "cell_type": "code",
   "execution_count": 2,
   "metadata": {},
   "outputs": [],
   "source": [
    "stop_words = get_stop_words('spanish')\n",
    "data_A = DataHandler(root_folder=\"./data\", train_folder=\"/train_data\", test_folder=\"/test_A_data\")\n",
    "data_B = DataHandler(root_folder=\"./data\", train_folder=\"/train_data\", test_folder=\"/test_B_data\")\n",
    "data_C = DataHandler(root_folder=\"./data\", train_folder=\"/train_data\", test_folder=\"/test_C_data\")\n",
    "X_test1= data_A.get_data_test(method=\"count-vectorizer\", stop_words=None, ngram_range=(1,1), verbose=False)\n",
    "X_test2= data_A.get_data_test(method=\"count-vectorizer\", stop_words=None, ngram_range=(1,4), verbose=False)\n",
    "X_test3= data_A.get_data_test(method=\"count-vectorizer\", stop_words=stop_words, ngram_range=(1,4), verbose=False)\n",
    "X_test4= data_A.get_data_test(method=\"tf-idf\", stop_words=None, ngram_range=(1,1), verbose=False)\n",
    "X_test5= data_A.get_data_test(method=\"tf-idf\", stop_words=None, ngram_range=(1,4), verbose=False)\n",
    "X_test6= data_A.get_data_test(method=\"tf-idf\", stop_words=stop_words, ngram_range=(1,4), verbose=False)"
   ]
  },
  {
   "cell_type": "markdown",
   "metadata": {},
   "source": [
    "# Cargar modelos ya entrenados"
   ]
  },
  {
   "cell_type": "code",
   "execution_count": 19,
   "metadata": {},
   "outputs": [
    {
     "name": "stdout",
     "output_type": "stream",
     "text": [
      "loading model from disk ... done!\n",
      "loading model from disk ... done!\n",
      "loading model from disk ... done!\n",
      "loading model from disk ... done!\n",
      "loading model from disk ... done!\n",
      "loading model from disk ... done!\n"
     ]
    },
    {
     "data": {
      "text/plain": [
       "{'val_loss': [0.5650842899084091,\n",
       "  0.5327450925111771,\n",
       "  0.5234263491630554,\n",
       "  0.5188657006621361,\n",
       "  0.5152706876397133,\n",
       "  0.5133718013763428,\n",
       "  0.5115069505572319,\n",
       "  0.5101133632659912,\n",
       "  0.5095411774516105,\n",
       "  0.5087075477838516,\n",
       "  0.5082444640994072,\n",
       "  0.5077093371748924,\n",
       "  0.5072874450683593,\n",
       "  0.5068290036916733,\n",
       "  0.5067006722092628,\n",
       "  0.506496100127697,\n",
       "  0.5061767566204071,\n",
       "  0.5063279980421066,\n",
       "  0.506118289232254,\n",
       "  0.5061190876364708,\n",
       "  0.5058612051606178],\n",
       " 'val_mean_absolute_error': [0.45666539132595063,\n",
       "  0.44752243340015413,\n",
       "  0.44464411824941635,\n",
       "  0.44640072613954546,\n",
       "  0.43592496335506437,\n",
       "  0.43497498661279677,\n",
       "  0.4374319511651993,\n",
       "  0.4366004964709282,\n",
       "  0.4337594589591026,\n",
       "  0.4371562367677689,\n",
       "  0.43017113745212554,\n",
       "  0.4311803212761879,\n",
       "  0.4330332165956497,\n",
       "  0.4345514303445816,\n",
       "  0.4387482297420502,\n",
       "  0.43252440214157106,\n",
       "  0.4358582961559296,\n",
       "  0.4310702058672905,\n",
       "  0.43213445544242857,\n",
       "  0.4374802678823471,\n",
       "  0.43448262989521025],\n",
       " 'val_rmse': [0.740090799331665,\n",
       "  0.7169344931840896,\n",
       "  0.7102581495046616,\n",
       "  0.7070994871854782,\n",
       "  0.7040994399785996,\n",
       "  0.7026964783668518,\n",
       "  0.7015792334079742,\n",
       "  0.700589302778244,\n",
       "  0.7000949805974961,\n",
       "  0.699606596827507,\n",
       "  0.6989996558427811,\n",
       "  0.6986209934949875,\n",
       "  0.6984293639659882,\n",
       "  0.6982275623083115,\n",
       "  0.6984188085794449,\n",
       "  0.6978589981794358,\n",
       "  0.6977406144142151,\n",
       "  0.6976554721593857,\n",
       "  0.6975911796092987,\n",
       "  0.6979178893566131,\n",
       "  0.6975286346673966],\n",
       " 'val_r_square': [0.2322891789674759,\n",
       "  0.2762237584590912,\n",
       "  0.28888392329216006,\n",
       "  0.2950815409421921,\n",
       "  0.2999694311618805,\n",
       "  0.3025540727376938,\n",
       "  0.3050805330276489,\n",
       "  0.3069730716943741,\n",
       "  0.3077501326799393,\n",
       "  0.30887908160686495,\n",
       "  0.30951509535312655,\n",
       "  0.31023564815521243,\n",
       "  0.31081396162509917,\n",
       "  0.3114313805103302,\n",
       "  0.3115996986627579,\n",
       "  0.31188034057617187,\n",
       "  0.31231130540370944,\n",
       "  0.3121098554134369,\n",
       "  0.3123903238773346,\n",
       "  0.31239027082920073,\n",
       "  0.3127423334121704],\n",
       " 'loss': [0.6445391951501369,\n",
       "  0.5449012780934572,\n",
       "  0.526945658326149,\n",
       "  0.5194881313294172,\n",
       "  0.514965090379119,\n",
       "  0.5116141251474619,\n",
       "  0.5090837156772614,\n",
       "  0.5070076175779105,\n",
       "  0.5052533762156963,\n",
       "  0.503709297478199,\n",
       "  0.5023202885687351,\n",
       "  0.5011479745805264,\n",
       "  0.5000198309868574,\n",
       "  0.49900596871972086,\n",
       "  0.49811756901443005,\n",
       "  0.4972466162592173,\n",
       "  0.49647307209670544,\n",
       "  0.4957199726253748,\n",
       "  0.495059010758996,\n",
       "  0.4943509648740292,\n",
       "  0.4937800378352404],\n",
       " 'mean_absolute_error': [0.4866120137274265,\n",
       "  0.4514020048081875,\n",
       "  0.443414578512311,\n",
       "  0.44003420807421206,\n",
       "  0.4380796950310469,\n",
       "  0.43659499123692513,\n",
       "  0.43548218928277493,\n",
       "  0.43463751330971717,\n",
       "  0.433895308598876,\n",
       "  0.4332714445888996,\n",
       "  0.4326922832429409,\n",
       "  0.4322722007334232,\n",
       "  0.43183911360800264,\n",
       "  0.4314345096796751,\n",
       "  0.43111883603036405,\n",
       "  0.4308517488092184,\n",
       "  0.43055124782025816,\n",
       "  0.43028298318386077,\n",
       "  0.4300651778280735,\n",
       "  0.4297731357067823,\n",
       "  0.42959497079253195],\n",
       " 'rmse': [0.7910046054422856,\n",
       "  0.7257751047611236,\n",
       "  0.7127345980703831,\n",
       "  0.7074068982899189,\n",
       "  0.7042026245594024,\n",
       "  0.7018407014012337,\n",
       "  0.7000562810897827,\n",
       "  0.6986023902893066,\n",
       "  0.6973755551874637,\n",
       "  0.6963125424087048,\n",
       "  0.6953386946022511,\n",
       "  0.6945281717181205,\n",
       "  0.6937427127361298,\n",
       "  0.6930451267957687,\n",
       "  0.6924332505464554,\n",
       "  0.6918342301249504,\n",
       "  0.6913152062892913,\n",
       "  0.6907929010689259,\n",
       "  0.690339688360691,\n",
       "  0.6898500545322895,\n",
       "  0.6894641537964344],\n",
       " 'r_square': [0.12271072655916214,\n",
       "  0.2582275587320328,\n",
       "  0.28267056226730347,\n",
       "  0.2928384205698967,\n",
       "  0.2989596122503281,\n",
       "  0.3035228642821312,\n",
       "  0.30697530150413516,\n",
       "  0.30980596974492075,\n",
       "  0.3121956971287727,\n",
       "  0.31430384442210196,\n",
       "  0.3161925184726715,\n",
       "  0.3177673928439617,\n",
       "  0.31932529747486116,\n",
       "  0.3206880828738213,\n",
       "  0.3219016173481941,\n",
       "  0.3230902668833733,\n",
       "  0.32412238761782647,\n",
       "  0.32517182007431983,\n",
       "  0.32605717599391937,\n",
       "  0.32702947840094565,\n",
       "  0.3277927666902542]}"
      ]
     },
     "execution_count": 19,
     "metadata": {},
     "output_type": "execute_result"
    }
   ],
   "source": [
    "reg1 = Regressor()\n",
    "reg2 = Regressor()\n",
    "reg3 = Regressor()\n",
    "reg4 = Regressor()\n",
    "reg5 = Regressor()\n",
    "reg6 = Regressor()\n",
    "reg1.load(\"cv_ngram11_none\", custom_objects={\"rmse\": rmse, \"r_square\": r_square})\n",
    "#metrics = reg1.plot_metrics(\"metricas en Count-Vectorizer, ngram-range=(1, 1)\")\n",
    "reg2.load(\"cv_ngram14_none\", custom_objects={\"rmse\": rmse, \"r_square\": r_square})\n",
    "#metrics = reg2.plot_metrics(\"metricas en Count-Vectorizer, ngram-range=(1, 4)\")\n",
    "reg3.load(\"cv_ngram14_stop_words\", custom_objects={\"rmse\": rmse, \"r_square\": r_square})\n",
    "#metrics = reg3.plot_metrics(\"metricas en Count-Vectorizer, ngram-range=(1, 4), con stop_words\")\n",
    "reg4.load(\"tf_idf_ngram11_none\", custom_objects={\"rmse\": rmse, \"r_square\": r_square})\n",
    "#metrics = reg4.plot_metrics(\"metricas en TF-IDF, ngram-range=(1, 1)\")\n",
    "reg5.load(\"tf_idf_ngram14_none\", custom_objects={\"rmse\": rmse, \"r_square\": r_square})\n",
    "#metrics = reg5.plot_metrics(\"metricas en TF-IDF, ngram-range=(1, 4)\")\n",
    "reg6.load(\"tf_idf_ngram14_stop_words\", custom_objects={\"rmse\": rmse, \"r_square\": r_square})\n",
    "#metrics = reg6.plot_metrics(\"metricas en TF-IDF, ngram-range=(1, 4), con stop_words\")"
   ]
  },
  {
   "cell_type": "markdown",
   "metadata": {},
   "source": [
    "# Calcular indicadores\n",
    "\n",
    "Calculamos los vectores resultantes de evaluar los test en las regresiones, y se cargan tambien los descriptores de imagen de largo 1000, para hacer luego el similarity search."
   ]
  },
  {
   "cell_type": "code",
   "execution_count": 6,
   "metadata": {},
   "outputs": [
    {
     "name": "stdout",
     "output_type": "stream",
     "text": [
      "leyendo ./data/test_A_data/test_A_images_names.txt\n",
      "leyendo ./data/test_A_data/test_A_images_vectors.bin\n",
      "1000 vectores de largo 2048\n",
      "leyendo ./data/test_B_data/test_B_images_names.txt\n",
      "leyendo ./data/test_B_data/test_B_images_vectors.bin\n",
      "1000 vectores de largo 2048\n",
      "leyendo ./data/test_C_data/test_C_images_names.txt\n",
      "leyendo ./data/test_C_data/test_C_images_vectors.bin\n",
      "1000 vectores de largo 2048\n"
     ]
    }
   ],
   "source": [
    "#calculamos los vectores resultantes del predict para cada test\n",
    "vectores_1 = reg1.predict(X_test1)\n",
    "vectores_2 = reg2.predict(X_test2)\n",
    "vectores_3 = reg3.predict(X_test3)\n",
    "vectores_4 = reg4.predict(X_test4)\n",
    "vectores_5 = reg5.predict(X_test5)\n",
    "vectores_6 = reg6.predict(X_test6)\n",
    "#cargamos los descriptores de imagenes\n",
    "y_simple_test_A = data_A.load_simple_test(\"A\") #este es el que usaremos a priori\n",
    "#los test B y C se usaran para hacer una validacion final para ver si hay overfitting\n",
    "y_simple_test_B = data_B.load_simple_test(\"B\")\n",
    "y_simple_test_C = data_C.load_simple_test(\"C\")"
   ]
  },
  {
   "cell_type": "code",
   "execution_count": 8,
   "metadata": {},
   "outputs": [],
   "source": [
    "#cargar medidor de indicadores para Similarity search, recall at k, MRR y Mean\n",
    "from src.indicators import Indicators\n",
    "ind = Indicators()"
   ]
  },
  {
   "cell_type": "code",
   "execution_count": 9,
   "metadata": {
    "scrolled": true
   },
   "outputs": [
    {
     "name": "stdout",
     "output_type": "stream",
     "text": [
      "initializing KDTRee ... done!\n",
      "computing distances with L2 metric ..."
     ]
    },
    {
     "name": "stderr",
     "output_type": "stream",
     "text": [
      "[Parallel(n_jobs=-1)]: Using backend MultiprocessingBackend with 4 concurrent workers.\n",
      "[Parallel(n_jobs=-1)]: Done  42 tasks      | elapsed:    1.5s\n",
      "[Parallel(n_jobs=-1)]: Done 188 tasks      | elapsed:    6.6s\n",
      "[Parallel(n_jobs=-1)]: Done 434 tasks      | elapsed:   14.8s\n",
      "[Parallel(n_jobs=-1)]: Done 776 tasks      | elapsed:   27.9s\n",
      "[Parallel(n_jobs=-1)]: Done 1218 tasks      | elapsed:   44.3s\n",
      "[Parallel(n_jobs=-1)]: Done 1756 tasks      | elapsed:  1.0min\n",
      "[Parallel(n_jobs=-1)]: Done 2394 tasks      | elapsed:  1.4min\n",
      "[Parallel(n_jobs=-1)]: Done 3128 tasks      | elapsed:  1.8min\n",
      "[Parallel(n_jobs=-1)]: Done 3962 tasks      | elapsed:  2.3min\n",
      "[Parallel(n_jobs=-1)]: Done 4892 tasks      | elapsed:  2.9min\n",
      "[Parallel(n_jobs=-1)]: Done 5000 out of 5000 | elapsed:  2.9min finished\n"
     ]
    },
    {
     "name": "stdout",
     "output_type": "stream",
     "text": [
      "done! (elapse time: 176.81 secs.)\n",
      "getting sorted ranking ...done! (elapse time: 0.05 secs.)\n",
      "done!\n",
      "initializing KDTRee ... done!\n",
      "computing distances with L2 metric ..."
     ]
    },
    {
     "name": "stderr",
     "output_type": "stream",
     "text": [
      "[Parallel(n_jobs=-1)]: Using backend MultiprocessingBackend with 4 concurrent workers.\n",
      "[Parallel(n_jobs=-1)]: Done  42 tasks      | elapsed:    1.6s\n",
      "[Parallel(n_jobs=-1)]: Done 188 tasks      | elapsed:    7.1s\n",
      "[Parallel(n_jobs=-1)]: Done 434 tasks      | elapsed:   15.9s\n",
      "[Parallel(n_jobs=-1)]: Done 776 tasks      | elapsed:   28.3s\n",
      "[Parallel(n_jobs=-1)]: Done 1218 tasks      | elapsed:   44.3s\n",
      "[Parallel(n_jobs=-1)]: Done 1756 tasks      | elapsed:  1.1min\n",
      "[Parallel(n_jobs=-1)]: Done 2394 tasks      | elapsed:  1.4min\n",
      "[Parallel(n_jobs=-1)]: Done 3128 tasks      | elapsed:  1.9min\n",
      "[Parallel(n_jobs=-1)]: Done 3962 tasks      | elapsed:  2.4min\n",
      "[Parallel(n_jobs=-1)]: Done 4892 tasks      | elapsed:  3.0min\n",
      "[Parallel(n_jobs=-1)]: Done 5000 out of 5000 | elapsed:  3.1min finished\n"
     ]
    },
    {
     "name": "stdout",
     "output_type": "stream",
     "text": [
      "done! (elapse time: 183.82 secs.)\n",
      "getting sorted ranking ...done! (elapse time: 0.05 secs.)\n",
      "done!\n",
      "initializing KDTRee ... done!\n",
      "computing distances with L2 metric ..."
     ]
    },
    {
     "name": "stderr",
     "output_type": "stream",
     "text": [
      "[Parallel(n_jobs=-1)]: Using backend MultiprocessingBackend with 4 concurrent workers.\n",
      "[Parallel(n_jobs=-1)]: Done  42 tasks      | elapsed:    1.9s\n",
      "[Parallel(n_jobs=-1)]: Done 188 tasks      | elapsed:    7.6s\n",
      "[Parallel(n_jobs=-1)]: Done 434 tasks      | elapsed:   17.2s\n",
      "[Parallel(n_jobs=-1)]: Done 776 tasks      | elapsed:   30.4s\n",
      "[Parallel(n_jobs=-1)]: Done 1218 tasks      | elapsed:   49.7s\n",
      "[Parallel(n_jobs=-1)]: Done 1756 tasks      | elapsed:  1.2min\n",
      "[Parallel(n_jobs=-1)]: Done 2394 tasks      | elapsed:  1.6min\n",
      "[Parallel(n_jobs=-1)]: Done 3128 tasks      | elapsed:  2.1min\n",
      "[Parallel(n_jobs=-1)]: Done 3962 tasks      | elapsed:  2.6min\n",
      "[Parallel(n_jobs=-1)]: Done 4892 tasks      | elapsed:  3.2min\n",
      "[Parallel(n_jobs=-1)]: Done 5000 out of 5000 | elapsed:  3.3min finished\n"
     ]
    },
    {
     "name": "stdout",
     "output_type": "stream",
     "text": [
      "done! (elapse time: 197.6 secs.)\n",
      "getting sorted ranking ...done! (elapse time: 0.05 secs.)\n",
      "done!\n",
      "initializing KDTRee ... done!\n",
      "computing distances with L2 metric ..."
     ]
    },
    {
     "name": "stderr",
     "output_type": "stream",
     "text": [
      "[Parallel(n_jobs=-1)]: Using backend MultiprocessingBackend with 4 concurrent workers.\n",
      "[Parallel(n_jobs=-1)]: Done  42 tasks      | elapsed:    1.9s\n",
      "[Parallel(n_jobs=-1)]: Done 188 tasks      | elapsed:    7.5s\n",
      "[Parallel(n_jobs=-1)]: Done 434 tasks      | elapsed:   16.8s\n",
      "[Parallel(n_jobs=-1)]: Done 776 tasks      | elapsed:   30.3s\n",
      "[Parallel(n_jobs=-1)]: Done 1218 tasks      | elapsed:   49.2s\n",
      "[Parallel(n_jobs=-1)]: Done 1756 tasks      | elapsed:  1.2min\n",
      "[Parallel(n_jobs=-1)]: Done 2394 tasks      | elapsed:  1.5min\n",
      "[Parallel(n_jobs=-1)]: Done 3128 tasks      | elapsed:  2.0min\n",
      "[Parallel(n_jobs=-1)]: Done 3962 tasks      | elapsed:  2.5min\n",
      "[Parallel(n_jobs=-1)]: Done 4892 tasks      | elapsed:  3.1min\n",
      "[Parallel(n_jobs=-1)]: Done 5000 out of 5000 | elapsed:  3.1min finished\n"
     ]
    },
    {
     "name": "stdout",
     "output_type": "stream",
     "text": [
      "done! (elapse time: 187.8 secs.)\n",
      "getting sorted ranking ...done! (elapse time: 0.05 secs.)\n",
      "done!\n",
      "initializing KDTRee ... done!\n",
      "computing distances with L2 metric ..."
     ]
    },
    {
     "name": "stderr",
     "output_type": "stream",
     "text": [
      "[Parallel(n_jobs=-1)]: Using backend MultiprocessingBackend with 4 concurrent workers.\n",
      "[Parallel(n_jobs=-1)]: Done  42 tasks      | elapsed:    1.6s\n",
      "[Parallel(n_jobs=-1)]: Done 188 tasks      | elapsed:    7.1s\n",
      "[Parallel(n_jobs=-1)]: Done 434 tasks      | elapsed:   16.4s\n",
      "[Parallel(n_jobs=-1)]: Done 776 tasks      | elapsed:   29.3s\n",
      "[Parallel(n_jobs=-1)]: Done 1218 tasks      | elapsed:   46.1s\n",
      "[Parallel(n_jobs=-1)]: Done 1756 tasks      | elapsed:  1.1min\n",
      "[Parallel(n_jobs=-1)]: Done 2394 tasks      | elapsed:  1.5min\n",
      "[Parallel(n_jobs=-1)]: Done 3128 tasks      | elapsed:  2.0min\n",
      "[Parallel(n_jobs=-1)]: Done 3962 tasks      | elapsed:  2.6min\n",
      "[Parallel(n_jobs=-1)]: Done 4892 tasks      | elapsed:  3.2min\n",
      "[Parallel(n_jobs=-1)]: Done 5000 out of 5000 | elapsed:  3.3min finished\n"
     ]
    },
    {
     "name": "stdout",
     "output_type": "stream",
     "text": [
      "done! (elapse time: 197.21 secs.)\n",
      "getting sorted ranking ...done! (elapse time: 0.05 secs.)\n",
      "done!\n",
      "initializing KDTRee ... done!\n",
      "computing distances with L2 metric ..."
     ]
    },
    {
     "name": "stderr",
     "output_type": "stream",
     "text": [
      "[Parallel(n_jobs=-1)]: Using backend MultiprocessingBackend with 4 concurrent workers.\n",
      "[Parallel(n_jobs=-1)]: Done  42 tasks      | elapsed:    1.7s\n",
      "[Parallel(n_jobs=-1)]: Done 188 tasks      | elapsed:    7.1s\n",
      "[Parallel(n_jobs=-1)]: Done 434 tasks      | elapsed:   16.2s\n",
      "[Parallel(n_jobs=-1)]: Done 776 tasks      | elapsed:   28.9s\n",
      "[Parallel(n_jobs=-1)]: Done 1218 tasks      | elapsed:   45.3s\n",
      "[Parallel(n_jobs=-1)]: Done 1756 tasks      | elapsed:  1.1min\n",
      "[Parallel(n_jobs=-1)]: Done 2394 tasks      | elapsed:  1.5min\n",
      "[Parallel(n_jobs=-1)]: Done 3128 tasks      | elapsed:  2.0min\n",
      "[Parallel(n_jobs=-1)]: Done 3962 tasks      | elapsed:  2.5min\n",
      "[Parallel(n_jobs=-1)]: Done 4892 tasks      | elapsed:  3.0min\n"
     ]
    },
    {
     "name": "stdout",
     "output_type": "stream",
     "text": [
      "done! (elapse time: 187.13 secs.)\n",
      "getting sorted ranking ...done! (elapse time: 0.05 secs.)\n",
      "done!\n"
     ]
    },
    {
     "name": "stderr",
     "output_type": "stream",
     "text": [
      "[Parallel(n_jobs=-1)]: Done 5000 out of 5000 | elapsed:  3.1min finished\n"
     ]
    }
   ],
   "source": [
    "rank_1 = ind.similarity_search(y_simple_test_A, vectores_1)\n",
    "datos_1 = ind.get_formated_data()\n",
    "rank_2 = ind.similarity_search(y_simple_test_A, vectores_2)\n",
    "datos_2 = ind.get_formated_data()\n",
    "rank_3 = ind.similarity_search(y_simple_test_A, vectores_3)\n",
    "datos_3 = ind.get_formated_data()\n",
    "rank_4 = ind.similarity_search(y_simple_test_A, vectores_4)\n",
    "datos_4 = ind.get_formated_data()\n",
    "rank_5 = ind.similarity_search(y_simple_test_A, vectores_5)\n",
    "datos_5 = ind.get_formated_data()\n",
    "rank_6 = ind.similarity_search(y_simple_test_A, vectores_6)\n",
    "datos_6 = ind.get_formated_data()"
   ]
  },
  {
   "cell_type": "markdown",
   "metadata": {},
   "source": [
    "# Mostrar datos obtenidos\n",
    "\n",
    "Luego de calculados los vectores de posiciones, se grafican sus respectivos histogramas y una tabla con las metricas mencionadas anteriormente."
   ]
  },
  {
   "cell_type": "code",
   "execution_count": 13,
   "metadata": {},
   "outputs": [
    {
     "data": {
      "image/png": "[encoded data removed]",
      "text/plain": [
       "<Figure size 432x288 with 1 Axes>"
      ]
     },
     "metadata": {
      "needs_background": "light"
     },
     "output_type": "display_data"
    },
    {
     "data": {
      "image/png": "[encoded data removed]",
      "text/plain": [
       "<Figure size 432x288 with 1 Axes>"
      ]
     },
     "metadata": {
      "needs_background": "light"
     },
     "output_type": "display_data"
    },
    {
     "data": {
      "image/png": "[encoded data removed]",
      "text/plain": [
       "<Figure size 432x288 with 1 Axes>"
      ]
     },
     "metadata": {
      "needs_background": "light"
     },
     "output_type": "display_data"
    },
    {
     "data": {
      "image/png": "[encoded data removed]",
      "text/plain": [
       "<Figure size 432x288 with 1 Axes>"
      ]
     },
     "metadata": {
      "needs_background": "light"
     },
     "output_type": "display_data"
    },
    {
     "data": {
      "image/png": "[encoded data removed]",
      "text/plain": [
       "<Figure size 432x288 with 1 Axes>"
      ]
     },
     "metadata": {
      "needs_background": "light"
     },
     "output_type": "display_data"
    },
    {
     "data": {
      "image/png": "[encoded data removed]",
      "text/plain": [
       "<Figure size 432x288 with 1 Axes>"
      ]
     },
     "metadata": {
      "needs_background": "light"
     },
     "output_type": "display_data"
    }
   ],
   "source": [
    "labels = ['recall@1','recall@5','recall@10','MRR','Mean']\n",
    "index = ['CV_ngram11_none', 'CV_ngram14_none','CV_ngram14_StopWords',\n",
    "         'tf-idf_ngram11_none', 'tf-idf_ngram14_none','tf-idf_ngram14_StopWords']\n",
    "datos = [datos_1, datos_2, datos_3,datos_4, datos_5, datos_6]\n",
    "tabla = utils.get_table(datos, index, labels)\n",
    "utils.print_histo(rank_1,index[0])\n",
    "utils.print_histo(rank_2,index[1])\n",
    "utils.print_histo(rank_3,index[2])\n",
    "utils.print_histo(rank_4,index[3])\n",
    "utils.print_histo(rank_5,index[4])\n",
    "utils.print_histo(rank_6,index[5])"
   ]
  },
  {
   "cell_type": "code",
   "execution_count": 14,
   "metadata": {},
   "outputs": [
    {
     "data": {
      "text/html": [
       "<div>\n",
       "<style scoped>\n",
       "    .dataframe tbody tr th:only-of-type {\n",
       "        vertical-align: middle;\n",
       "    }\n",
       "\n",
       "    .dataframe tbody tr th {\n",
       "        vertical-align: top;\n",
       "    }\n",
       "\n",
       "    .dataframe thead th {\n",
       "        text-align: right;\n",
       "    }\n",
       "</style>\n",
       "<table border=\"1\" class=\"dataframe\">\n",
       "  <thead>\n",
       "    <tr style=\"text-align: right;\">\n",
       "      <th></th>\n",
       "      <th>recall@1</th>\n",
       "      <th>recall@5</th>\n",
       "      <th>recall@10</th>\n",
       "      <th>MRR</th>\n",
       "      <th>Mean</th>\n",
       "    </tr>\n",
       "  </thead>\n",
       "  <tbody>\n",
       "    <tr>\n",
       "      <th>CV_ngram11_none</th>\n",
       "      <td>0.0600</td>\n",
       "      <td>0.2192</td>\n",
       "      <td>0.3416</td>\n",
       "      <td>0.147287</td>\n",
       "      <td>123.0536</td>\n",
       "    </tr>\n",
       "    <tr>\n",
       "      <th>CV_ngram14_none</th>\n",
       "      <td>0.0636</td>\n",
       "      <td>0.2266</td>\n",
       "      <td>0.3402</td>\n",
       "      <td>0.150460</td>\n",
       "      <td>119.7922</td>\n",
       "    </tr>\n",
       "    <tr>\n",
       "      <th>CV_ngram14_StopWords</th>\n",
       "      <td>0.0652</td>\n",
       "      <td>0.2228</td>\n",
       "      <td>0.3458</td>\n",
       "      <td>0.152514</td>\n",
       "      <td>119.9920</td>\n",
       "    </tr>\n",
       "    <tr>\n",
       "      <th>tf-idf_ngram11_none</th>\n",
       "      <td>0.0644</td>\n",
       "      <td>0.2208</td>\n",
       "      <td>0.3376</td>\n",
       "      <td>0.149207</td>\n",
       "      <td>122.3536</td>\n",
       "    </tr>\n",
       "    <tr>\n",
       "      <th>tf-idf_ngram14_none</th>\n",
       "      <td>0.0678</td>\n",
       "      <td>0.2246</td>\n",
       "      <td>0.3464</td>\n",
       "      <td>0.153862</td>\n",
       "      <td>118.4948</td>\n",
       "    </tr>\n",
       "    <tr>\n",
       "      <th>tf-idf_ngram14_StopWords</th>\n",
       "      <td>0.0692</td>\n",
       "      <td>0.2248</td>\n",
       "      <td>0.3450</td>\n",
       "      <td>0.155181</td>\n",
       "      <td>119.1726</td>\n",
       "    </tr>\n",
       "  </tbody>\n",
       "</table>\n",
       "</div>"
      ],
      "text/plain": [
       "                          recall@1  recall@5  recall@10       MRR      Mean\n",
       "CV_ngram11_none             0.0600    0.2192     0.3416  0.147287  123.0536\n",
       "CV_ngram14_none             0.0636    0.2266     0.3402  0.150460  119.7922\n",
       "CV_ngram14_StopWords        0.0652    0.2228     0.3458  0.152514  119.9920\n",
       "tf-idf_ngram11_none         0.0644    0.2208     0.3376  0.149207  122.3536\n",
       "tf-idf_ngram14_none         0.0678    0.2246     0.3464  0.153862  118.4948\n",
       "tf-idf_ngram14_StopWords    0.0692    0.2248     0.3450  0.155181  119.1726"
      ]
     },
     "execution_count": 14,
     "metadata": {},
     "output_type": "execute_result"
    }
   ],
   "source": [
    "tabla"
   ]
  },
  {
   "cell_type": "markdown",
   "metadata": {},
   "source": [
    "Se observa que todos los experimentos tienen metricas muy parecidas, pero el que tiene las mejores métricas en general es el TF-IDF con ngram_range = (1,4) y con stop_words de español. Entonces probaremos con los test B y C para ver si tienen metricas similares tambien."
   ]
  },
  {
   "cell_type": "code",
   "execution_count": 15,
   "metadata": {},
   "outputs": [
    {
     "name": "stdout",
     "output_type": "stream",
     "text": [
      "leyendo ./data/train_data/train_images_names.txt\n",
      "leyendo ./data/train_data/train_images_vectors.bin\n",
      "20000 vectores de largo 2048\n",
      "leyendo ./data/test_B_data//test_B_images_names.txt\n",
      "leyendo ./data/test_B_data//test_B_images_vectors.bin\n",
      "1000 vectores de largo 2048\n",
      "doing vectorization with TfidfVectorizer\n",
      "fitting ...done\n",
      "getting test vectors transforms ...text descriptor shape: (5000, 640)\n",
      "done\n",
      "leyendo ./data/train_data/train_images_names.txt\n",
      "leyendo ./data/train_data/train_images_vectors.bin\n",
      "20000 vectores de largo 2048\n",
      "leyendo ./data/test_C_data//test_C_images_names.txt\n",
      "leyendo ./data/test_C_data//test_C_images_vectors.bin\n",
      "1000 vectores de largo 2048\n",
      "doing vectorization with TfidfVectorizer\n",
      "fitting ...done\n",
      "getting test vectors transforms ...text descriptor shape: (5000, 640)\n",
      "done\n",
      "initializing KDTRee ... done!\n",
      "computing distances with L2 metric ..."
     ]
    },
    {
     "name": "stderr",
     "output_type": "stream",
     "text": [
      "[Parallel(n_jobs=-1)]: Using backend MultiprocessingBackend with 4 concurrent workers.\n",
      "[Parallel(n_jobs=-1)]: Done  42 tasks      | elapsed:    1.9s\n",
      "[Parallel(n_jobs=-1)]: Done 188 tasks      | elapsed:    8.5s\n",
      "[Parallel(n_jobs=-1)]: Done 434 tasks      | elapsed:   18.2s\n",
      "[Parallel(n_jobs=-1)]: Done 776 tasks      | elapsed:   31.6s\n",
      "[Parallel(n_jobs=-1)]: Done 1218 tasks      | elapsed:   49.5s\n",
      "[Parallel(n_jobs=-1)]: Done 1756 tasks      | elapsed:  1.2min\n",
      "[Parallel(n_jobs=-1)]: Done 2394 tasks      | elapsed:  1.6min\n",
      "[Parallel(n_jobs=-1)]: Done 3128 tasks      | elapsed:  2.1min\n",
      "[Parallel(n_jobs=-1)]: Done 3962 tasks      | elapsed:  2.6min\n",
      "[Parallel(n_jobs=-1)]: Done 4892 tasks      | elapsed:  3.2min\n",
      "[Parallel(n_jobs=-1)]: Done 5000 out of 5000 | elapsed:  3.3min finished\n"
     ]
    },
    {
     "name": "stdout",
     "output_type": "stream",
     "text": [
      "done! (elapse time: 199.31 secs.)\n",
      "getting sorted ranking ...done! (elapse time: 0.05 secs.)\n",
      "done!\n",
      "initializing KDTRee ... done!\n",
      "computing distances with L2 metric ..."
     ]
    },
    {
     "name": "stderr",
     "output_type": "stream",
     "text": [
      "[Parallel(n_jobs=-1)]: Using backend MultiprocessingBackend with 4 concurrent workers.\n",
      "[Parallel(n_jobs=-1)]: Done  42 tasks      | elapsed:    1.9s\n",
      "[Parallel(n_jobs=-1)]: Done 188 tasks      | elapsed:    7.5s\n",
      "[Parallel(n_jobs=-1)]: Done 434 tasks      | elapsed:   16.6s\n",
      "[Parallel(n_jobs=-1)]: Done 776 tasks      | elapsed:   29.7s\n",
      "[Parallel(n_jobs=-1)]: Done 1218 tasks      | elapsed:   48.0s\n",
      "[Parallel(n_jobs=-1)]: Done 1756 tasks      | elapsed:  1.1min\n",
      "[Parallel(n_jobs=-1)]: Done 2394 tasks      | elapsed:  1.6min\n",
      "[Parallel(n_jobs=-1)]: Done 3128 tasks      | elapsed:  2.0min\n",
      "[Parallel(n_jobs=-1)]: Done 3962 tasks      | elapsed:  2.6min\n",
      "[Parallel(n_jobs=-1)]: Done 4892 tasks      | elapsed:  3.3min\n",
      "[Parallel(n_jobs=-1)]: Done 5000 out of 5000 | elapsed:  3.4min finished\n"
     ]
    },
    {
     "name": "stdout",
     "output_type": "stream",
     "text": [
      "done! (elapse time: 205.19 secs.)\n",
      "getting sorted ranking ...done! (elapse time: 0.09 secs.)\n",
      "done!\n"
     ]
    }
   ],
   "source": [
    "X_test6_B= data_B.get_data_test(method=\"tf-idf\", stop_words=stop_words, ngram_range=(1,4))\n",
    "X_test6_C= data_C.get_data_test(method=\"tf-idf\", stop_words=stop_words, ngram_range=(1,4))\n",
    "vectores_6_B = reg6.predict(X_test6_B)\n",
    "vectores_6_C = reg6.predict(X_test6_C)\n",
    "rank_6_B = ind.similarity_search(y_simple_test_B, vectores_6_B)\n",
    "datos_6_B = ind.get_formated_data()\n",
    "rank_6_C = ind.similarity_search(y_simple_test_C, vectores_6_C)\n",
    "datos_6_C = ind.get_formated_data()"
   ]
  },
  {
   "cell_type": "code",
   "execution_count": 16,
   "metadata": {},
   "outputs": [
    {
     "data": {
      "text/html": [
       "<div>\n",
       "<style scoped>\n",
       "    .dataframe tbody tr th:only-of-type {\n",
       "        vertical-align: middle;\n",
       "    }\n",
       "\n",
       "    .dataframe tbody tr th {\n",
       "        vertical-align: top;\n",
       "    }\n",
       "\n",
       "    .dataframe thead th {\n",
       "        text-align: right;\n",
       "    }\n",
       "</style>\n",
       "<table border=\"1\" class=\"dataframe\">\n",
       "  <thead>\n",
       "    <tr style=\"text-align: right;\">\n",
       "      <th></th>\n",
       "      <th>recall@1</th>\n",
       "      <th>recall@5</th>\n",
       "      <th>recall@10</th>\n",
       "      <th>MRR</th>\n",
       "      <th>Mean</th>\n",
       "    </tr>\n",
       "  </thead>\n",
       "  <tbody>\n",
       "    <tr>\n",
       "      <th>Test_A</th>\n",
       "      <td>0.0692</td>\n",
       "      <td>0.2248</td>\n",
       "      <td>0.3450</td>\n",
       "      <td>0.155181</td>\n",
       "      <td>119.1726</td>\n",
       "    </tr>\n",
       "    <tr>\n",
       "      <th>Test_B</th>\n",
       "      <td>0.0732</td>\n",
       "      <td>0.2348</td>\n",
       "      <td>0.3498</td>\n",
       "      <td>0.157697</td>\n",
       "      <td>120.7294</td>\n",
       "    </tr>\n",
       "    <tr>\n",
       "      <th>Test_C</th>\n",
       "      <td>0.0668</td>\n",
       "      <td>0.2364</td>\n",
       "      <td>0.3634</td>\n",
       "      <td>0.158091</td>\n",
       "      <td>108.4202</td>\n",
       "    </tr>\n",
       "  </tbody>\n",
       "</table>\n",
       "</div>"
      ],
      "text/plain": [
       "        recall@1  recall@5  recall@10       MRR      Mean\n",
       "Test_A    0.0692    0.2248     0.3450  0.155181  119.1726\n",
       "Test_B    0.0732    0.2348     0.3498  0.157697  120.7294\n",
       "Test_C    0.0668    0.2364     0.3634  0.158091  108.4202"
      ]
     },
     "execution_count": 16,
     "metadata": {},
     "output_type": "execute_result"
    }
   ],
   "source": [
    "index = ['Test_A', 'Test_B','Test_C']\n",
    "datos = [datos_6, datos_6_B, datos_6_C]\n",
    "tabla = utils.get_table(datos, index, labels)\n",
    "tabla"
   ]
  },
  {
   "cell_type": "code",
   "execution_count": 18,
   "metadata": {},
   "outputs": [
    {
     "data": {
      "text/plain": [
       "[0, 1, 4, 9, 16, 25, 36, 49, 64, 81]"
      ]
     },
     "execution_count": 18,
     "metadata": {},
     "output_type": "execute_result"
    }
   ],
   "source": [
    "#prueba esto, debiera funcionar sin problemas\n",
    "from joblib import Parallel, delayed\n",
    "import multiprocessing\n",
    "     \n",
    "# what are your inputs, and what operation do you want to \n",
    "# perform on each input. For example...\n",
    "inputs = range(10) \n",
    "def processInput(i):\n",
    "    return i * i\n",
    " \n",
    "num_cores = multiprocessing.cpu_count()\n",
    "     \n",
    "results = Parallel(n_jobs=num_cores)(delayed(processInput)(i) for i in inputs)\n",
    "results"
   ]
  }
 ],
 "metadata": {
  "kernelspec": {
   "display_name": "Python 3",
   "language": "python",
   "name": "python3"
  },
  "language_info": {
   "codemirror_mode": {
    "name": "ipython",
    "version": 3
   },
   "file_extension": ".py",
   "mimetype": "text/x-python",
   "name": "python",
   "nbconvert_exporter": "python",
   "pygments_lexer": "ipython3",
   "version": "3.6.8"
  }
 },
 "nbformat": 4,
 "nbformat_minor": 2
}
