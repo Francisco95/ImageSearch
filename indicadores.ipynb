{
 "cells": [
  {
   "cell_type": "code",
   "execution_count": 1,
   "metadata": {},
   "outputs": [
    {
     "name": "stderr",
     "output_type": "stream",
     "text": [
      "Using TensorFlow backend.\n"
     ]
    }
   ],
   "source": [
    "from src.filehandler import DataHandler\n",
    "from src.regressor import Regressor, r_square, rmse\n",
    "from stop_words import get_stop_words\n",
    "import src.utils as utils"
   ]
  },
  {
   "cell_type": "markdown",
   "metadata": {},
   "source": [
    "# Crear descriptores para los test A, B y C"
   ]
  },
  {
   "cell_type": "code",
   "execution_count": 2,
   "metadata": {},
   "outputs": [
    {
     "name": "stdout",
     "output_type": "stream",
     "text": [
      "leyendo ./data/train_data/train_images_names.txt\n",
      "leyendo ./data/train_data/train_images_vectors.bin\n",
      "20000 vectores de largo 2048\n",
      "leyendo ./data/test_A_data//test_A_images_names.txt\n",
      "leyendo ./data/test_A_data//test_A_images_vectors.bin\n",
      "1000 vectores de largo 2048\n",
      "doing vectorization with CountVectorizer\n",
      "fitting ...done\n",
      "getting vectors transforms ...done\n",
      "X_test_A: (5000, 573)\n",
      "leyendo ./data/train_data/train_images_names.txt\n",
      "leyendo ./data/train_data/train_images_vectors.bin\n",
      "20000 vectores de largo 2048\n",
      "leyendo ./data/test_B_data//test_B_images_names.txt\n",
      "leyendo ./data/test_B_data//test_B_images_vectors.bin\n",
      "1000 vectores de largo 2048\n",
      "doing vectorization with CountVectorizer\n",
      "fitting ...done\n",
      "getting vectors transforms ...done\n",
      "X_test_B: (5000, 573)\n",
      "leyendo ./data/train_data/train_images_names.txt\n",
      "leyendo ./data/train_data/train_images_vectors.bin\n",
      "20000 vectores de largo 2048\n",
      "leyendo ./data/test_C_data//test_C_images_names.txt\n",
      "leyendo ./data/test_C_data//test_C_images_vectors.bin\n",
      "1000 vectores de largo 2048\n",
      "doing vectorization with CountVectorizer\n",
      "fitting ...done\n",
      "getting vectors transforms ...done\n",
      "X_test_C: (5000, 573)\n"
     ]
    }
   ],
   "source": [
    "stop_words = get_stop_words('spanish')\n",
    "data_A = DataHandler(root_folder=\"./data\", train_folder=\"/train_data\", test_folder=\"/test_A_data\")\n",
    "data_B = DataHandler(root_folder=\"./data\", train_folder=\"/train_data\", test_folder=\"/test_B_data\")\n",
    "data_C = DataHandler(root_folder=\"./data\", train_folder=\"/train_data\", test_folder=\"/test_C_data\")\n",
    "#usamos el metodo get data para obtener el X_test de largo 5000 para cada vectorizer mencionado en las regresiones\n",
    "#test para Count-vectorizer con ngram_range = (1,1) y sin stop_words\n",
    "X_test_A_1= data_A.get_data(method=\"count-vectorizer\", stop_words=None, ngram_range=(1,1))[1]\n",
    "print(\"X_test_A:\", X_test_A_1.shape)\n",
    "X_test_B_1= data_B.get_data(method=\"count-vectorizer\", stop_words=None, ngram_range=(1,1))[1]\n",
    "print(\"X_test_B:\", X_test_B_1.shape)\n",
    "X_test_C_1= data_C.get_data(method=\"count-vectorizer\", stop_words=None, ngram_range=(1,1))[1]\n",
    "print(\"X_test_C:\", X_test_C_1.shape)"
   ]
  },
  {
   "cell_type": "markdown",
   "metadata": {},
   "source": [
    "# Leer Data"
   ]
  },
  {
   "cell_type": "code",
   "execution_count": null,
   "metadata": {},
   "outputs": [],
   "source": [
    "#stop_words = get_stop_words('spanish')\n",
    "#data = DataHandler(root_folder=\"./data\", train_folder=\"/train_data\", test_folder=\"/test_A_data\")\n",
    "#X_train, X_test, y_train, y_test = data.get_data_count_vectorizer()\n",
    "#X_train, X_test, y_train, y_test = data.get_data(method=\"tf-idf\", stop_words=stop_words, ngram_range=(1,1))\n",
    "#print(\"shapes\")\n",
    "#print(\"X_train:\", X_train.shape)\n",
    "#print(\"y_train:\", y_train.shape)\n",
    "#print(\"X_test:\", X_test.shape)\n",
    "#print(\"y_test:\", y_test.shape)"
   ]
  },
  {
   "cell_type": "markdown",
   "metadata": {},
   "source": [
    "# Cargar modelo"
   ]
  },
  {
   "cell_type": "code",
   "execution_count": 3,
   "metadata": {},
   "outputs": [
    {
     "name": "stdout",
     "output_type": "stream",
     "text": [
      "loading model from disk ... done!\n"
     ]
    },
    {
     "data": {
      "text/plain": [
       "{'val_loss': [0.5517921257019043,\n",
       "  0.5269154042005539,\n",
       "  0.5195567283034325,\n",
       "  0.5156024369597435,\n",
       "  0.5135611605644226,\n",
       "  0.5112409794330597,\n",
       "  0.5098605799674988,\n",
       "  0.509106334745884,\n",
       "  0.508329658806324,\n",
       "  0.5079494023323059,\n",
       "  0.5070360377430916,\n",
       "  0.50715715020895,\n",
       "  0.5068370795249939,\n",
       "  0.5065619432926178,\n",
       "  0.5063032013177872],\n",
       " 'val_mean_absolute_error': [0.45499359905719755,\n",
       "  0.4475104504823685,\n",
       "  0.43855724155902864,\n",
       "  0.43479357719421385,\n",
       "  0.43303067952394486,\n",
       "  0.43176506042480467,\n",
       "  0.4363171660900116,\n",
       "  0.43611047804355624,\n",
       "  0.43877775222063065,\n",
       "  0.4310839667916298,\n",
       "  0.4360451325774193,\n",
       "  0.4309844267368317,\n",
       "  0.4338907879590988,\n",
       "  0.43824971675872804,\n",
       "  0.43368701249361036],\n",
       " 'val_rmse': [0.7308616554737091,\n",
       "  0.7128676426410675,\n",
       "  0.7073274803161621,\n",
       "  0.7043778687715531,\n",
       "  0.702880722284317,\n",
       "  0.7012471503019333,\n",
       "  0.7004494577646255,\n",
       "  0.699929975271225,\n",
       "  0.6995401698350906,\n",
       "  0.6989316362142562,\n",
       "  0.6985502833127976,\n",
       "  0.6984155982732773,\n",
       "  0.6983737176656724,\n",
       "  0.6983798605203628,\n",
       "  0.6979176306724548],\n",
       " 'val_r_square': [0.2503436279296875,\n",
       "  0.2841475409269333,\n",
       "  0.2941491168737411,\n",
       "  0.29952558517456057,\n",
       "  0.3022953855991364,\n",
       "  0.30544521868228913,\n",
       "  0.30731612265110014,\n",
       "  0.3083379602432251,\n",
       "  0.30938624024391176,\n",
       "  0.3099181854724884,\n",
       "  0.3111431521177292,\n",
       "  0.3109900170564652,\n",
       "  0.3114187663793564,\n",
       "  0.31178347766399384,\n",
       "  0.31214317500591277],\n",
       " 'loss': [0.6233091256022454,\n",
       "  0.5362947820127011,\n",
       "  0.5219723863899708,\n",
       "  0.5154679658263922,\n",
       "  0.511111560612917,\n",
       "  0.50802953787148,\n",
       "  0.5056664077192545,\n",
       "  0.5035363704711199,\n",
       "  0.5017206445336342,\n",
       "  0.5003048861771822,\n",
       "  0.4989461800456047,\n",
       "  0.4977827963978052,\n",
       "  0.4966631203144789,\n",
       "  0.4957283563911915,\n",
       "  0.49484095044434073],\n",
       " 'mean_absolute_error': [0.47888429135084154,\n",
       "  0.4483417887240648,\n",
       "  0.44179402619600294,\n",
       "  0.4388915333151817,\n",
       "  0.4369204119592905,\n",
       "  0.4355840891599655,\n",
       "  0.4346020095795393,\n",
       "  0.43372469894587995,\n",
       "  0.4329774784296751,\n",
       "  0.4324310661107302,\n",
       "  0.4319003337621689,\n",
       "  0.43147441700100897,\n",
       "  0.4310359502583742,\n",
       "  0.4306931135058403,\n",
       "  0.43039971359074114],\n",
       " 'rmse': [0.7773930408060551,\n",
       "  0.7196272294223308,\n",
       "  0.7092666967213154,\n",
       "  0.7046660299599171,\n",
       "  0.70160271063447,\n",
       "  0.6994334577023983,\n",
       "  0.6977803373336792,\n",
       "  0.6962986224889756,\n",
       "  0.695040863007307,\n",
       "  0.6940573099255561,\n",
       "  0.693120618313551,\n",
       "  0.6923101282119751,\n",
       "  0.6915424999594688,\n",
       "  0.6909007382392883,\n",
       "  0.6903062903881073],\n",
       " 'r_square': [0.1515021251142025,\n",
       "  0.269925075173378,\n",
       "  0.2894327634572983,\n",
       "  0.2982925319671631,\n",
       "  0.30420091092586515,\n",
       "  0.30839260905981064,\n",
       "  0.3116507689654827,\n",
       "  0.3145302225649357,\n",
       "  0.31698801174759866,\n",
       "  0.31894815504550933,\n",
       "  0.3207696440815926,\n",
       "  0.3223581564426422,\n",
       "  0.32387531131505964,\n",
       "  0.3251516018807888,\n",
       "  0.32636802464723585]}"
      ]
     },
     "execution_count": 3,
     "metadata": {},
     "output_type": "execute_result"
    }
   ],
   "source": [
    "reg1 = Regressor()\n",
    "reg1.load(\"cv_ngram11_none\", custom_objects={\"rmse\": rmse, \"r_square\": r_square})"
   ]
  },
  {
   "cell_type": "markdown",
   "metadata": {},
   "source": [
    "# Calcular indicadores"
   ]
  },
  {
   "cell_type": "code",
   "execution_count": 4,
   "metadata": {},
   "outputs": [
    {
     "name": "stdout",
     "output_type": "stream",
     "text": [
      "leyendo ./data/test_A_data/test_A_images_names.txt\n",
      "leyendo ./data/test_A_data/test_A_images_vectors.bin\n",
      "1000 vectores de largo 2048\n",
      "leyendo ./data/test_B_data/test_B_images_names.txt\n",
      "leyendo ./data/test_B_data/test_B_images_vectors.bin\n",
      "1000 vectores de largo 2048\n",
      "leyendo ./data/test_C_data/test_C_images_names.txt\n",
      "leyendo ./data/test_C_data/test_C_images_vectors.bin\n",
      "1000 vectores de largo 2048\n"
     ]
    }
   ],
   "source": [
    "vectores_1A = reg1.predict(X_test_A_1)\n",
    "vectores_1B = reg1.predict(X_test_B_1)\n",
    "vectores_1C = reg1.predict(X_test_C_1)\n",
    "#este se puede hacer una vez y listo\n",
    "y_simple_test_A = data_A.load_simple_test(\"A\")\n",
    "y_simple_test_B = data_B.load_simple_test(\"B\")\n",
    "y_simple_test_C = data_C.load_simple_test(\"C\")"
   ]
  },
  {
   "cell_type": "code",
   "execution_count": 7,
   "metadata": {},
   "outputs": [
    {
     "data": {
      "text/plain": [
       "5000"
      ]
     },
     "execution_count": 7,
     "metadata": {},
     "output_type": "execute_result"
    }
   ],
   "source": [
    "len(vectores_1C)"
   ]
  },
  {
   "cell_type": "code",
   "execution_count": 8,
   "metadata": {},
   "outputs": [],
   "source": [
    "from src.indicators import Indicators\n",
    "ind = Indicators()"
   ]
  },
  {
   "cell_type": "code",
   "execution_count": 10,
   "metadata": {},
   "outputs": [
    {
     "name": "stdout",
     "output_type": "stream",
     "text": [
      "initializing KDTRee ... done!\n",
      "computing distances with L2 metric ..."
     ]
    },
    {
     "name": "stderr",
     "output_type": "stream",
     "text": [
      "[Parallel(n_jobs=-1)]: Using backend MultiprocessingBackend with 4 concurrent workers.\n",
      "[Parallel(n_jobs=-1)]: Done  13 tasks      | elapsed:    0.7s\n",
      "[Parallel(n_jobs=-1)]: Done  28 tasks      | elapsed:    1.2s\n",
      "[Parallel(n_jobs=-1)]: Done  53 tasks      | elapsed:    2.1s\n",
      "[Parallel(n_jobs=-1)]: Done  78 tasks      | elapsed:    3.1s\n",
      "[Parallel(n_jobs=-1)]: Done 113 tasks      | elapsed:    4.4s\n",
      "[Parallel(n_jobs=-1)]: Done 148 tasks      | elapsed:    5.9s\n",
      "[Parallel(n_jobs=-1)]: Done 193 tasks      | elapsed:    7.4s\n",
      "[Parallel(n_jobs=-1)]: Done 238 tasks      | elapsed:    9.1s\n",
      "[Parallel(n_jobs=-1)]: Done 293 tasks      | elapsed:   11.1s\n",
      "[Parallel(n_jobs=-1)]: Done 348 tasks      | elapsed:   13.0s\n",
      "[Parallel(n_jobs=-1)]: Done 413 tasks      | elapsed:   15.6s\n",
      "[Parallel(n_jobs=-1)]: Done 478 tasks      | elapsed:   17.8s\n",
      "[Parallel(n_jobs=-1)]: Done 553 tasks      | elapsed:   20.7s\n",
      "[Parallel(n_jobs=-1)]: Done 628 tasks      | elapsed:   23.7s\n",
      "[Parallel(n_jobs=-1)]: Done 713 tasks      | elapsed:   27.0s\n",
      "[Parallel(n_jobs=-1)]: Done 798 tasks      | elapsed:   30.2s\n",
      "[Parallel(n_jobs=-1)]: Done 893 tasks      | elapsed:   33.6s\n",
      "[Parallel(n_jobs=-1)]: Done 988 tasks      | elapsed:   37.4s\n",
      "[Parallel(n_jobs=-1)]: Done 1093 tasks      | elapsed:   41.5s\n",
      "[Parallel(n_jobs=-1)]: Done 1198 tasks      | elapsed:   45.7s\n",
      "[Parallel(n_jobs=-1)]: Done 1313 tasks      | elapsed:   49.6s\n",
      "[Parallel(n_jobs=-1)]: Done 1428 tasks      | elapsed:   53.8s\n",
      "[Parallel(n_jobs=-1)]: Done 1553 tasks      | elapsed:   58.2s\n",
      "[Parallel(n_jobs=-1)]: Done 1678 tasks      | elapsed:  1.0min\n",
      "[Parallel(n_jobs=-1)]: Done 1813 tasks      | elapsed:  1.1min\n",
      "[Parallel(n_jobs=-1)]: Done 1948 tasks      | elapsed:  1.2min\n",
      "[Parallel(n_jobs=-1)]: Done 2093 tasks      | elapsed:  1.3min\n",
      "[Parallel(n_jobs=-1)]: Done 2238 tasks      | elapsed:  1.4min\n",
      "[Parallel(n_jobs=-1)]: Done 2393 tasks      | elapsed:  1.5min\n",
      "[Parallel(n_jobs=-1)]: Done 2548 tasks      | elapsed:  1.6min\n",
      "[Parallel(n_jobs=-1)]: Done 2713 tasks      | elapsed:  1.7min\n",
      "[Parallel(n_jobs=-1)]: Done 2878 tasks      | elapsed:  1.8min\n",
      "[Parallel(n_jobs=-1)]: Done 3053 tasks      | elapsed:  1.9min\n",
      "[Parallel(n_jobs=-1)]: Done 3228 tasks      | elapsed:  2.0min\n",
      "[Parallel(n_jobs=-1)]: Done 3413 tasks      | elapsed:  2.1min\n",
      "[Parallel(n_jobs=-1)]: Done 3598 tasks      | elapsed:  2.3min\n",
      "[Parallel(n_jobs=-1)]: Done 3793 tasks      | elapsed:  2.4min\n",
      "[Parallel(n_jobs=-1)]: Done 3988 tasks      | elapsed:  2.5min\n",
      "[Parallel(n_jobs=-1)]: Done 4193 tasks      | elapsed:  2.6min\n",
      "[Parallel(n_jobs=-1)]: Done 4398 tasks      | elapsed:  2.8min\n",
      "[Parallel(n_jobs=-1)]: Done 4613 tasks      | elapsed:  2.9min\n",
      "[Parallel(n_jobs=-1)]: Done 4828 tasks      | elapsed:  3.0min\n",
      "[Parallel(n_jobs=-1)]: Done 5000 out of 5000 | elapsed:  3.1min finished\n"
     ]
    },
    {
     "name": "stdout",
     "output_type": "stream",
     "text": [
      "done! (elapse time: 188.91 secs.)\n",
      "getting sorted ranking ...done! (elapse time: 0.05 secs.)\n",
      "done!\n"
     ]
    }
   ],
   "source": [
    "rank_1A = ind.similarity_search(y_simple_test_A, vectores_1A)\n",
    "datos_1A = ind.get_formated_data()"
   ]
  },
  {
   "cell_type": "code",
   "execution_count": 11,
   "metadata": {},
   "outputs": [
    {
     "name": "stdout",
     "output_type": "stream",
     "text": [
      "initializing KDTRee ... done!\n",
      "computing distances with L2 metric ..."
     ]
    },
    {
     "name": "stderr",
     "output_type": "stream",
     "text": [
      "[Parallel(n_jobs=-1)]: Using backend MultiprocessingBackend with 4 concurrent workers.\n",
      "[Parallel(n_jobs=-1)]: Done  13 tasks      | elapsed:    0.8s\n",
      "[Parallel(n_jobs=-1)]: Done  28 tasks      | elapsed:    1.3s\n",
      "[Parallel(n_jobs=-1)]: Done  53 tasks      | elapsed:    2.5s\n",
      "[Parallel(n_jobs=-1)]: Done  78 tasks      | elapsed:    3.6s\n",
      "[Parallel(n_jobs=-1)]: Done 113 tasks      | elapsed:    4.9s\n",
      "[Parallel(n_jobs=-1)]: Done 148 tasks      | elapsed:    6.4s\n",
      "[Parallel(n_jobs=-1)]: Done 193 tasks      | elapsed:    8.0s\n",
      "[Parallel(n_jobs=-1)]: Done 238 tasks      | elapsed:    9.8s\n",
      "[Parallel(n_jobs=-1)]: Done 293 tasks      | elapsed:   11.7s\n",
      "[Parallel(n_jobs=-1)]: Done 348 tasks      | elapsed:   14.0s\n",
      "[Parallel(n_jobs=-1)]: Done 413 tasks      | elapsed:   16.4s\n",
      "[Parallel(n_jobs=-1)]: Done 478 tasks      | elapsed:   18.9s\n",
      "[Parallel(n_jobs=-1)]: Done 553 tasks      | elapsed:   21.6s\n",
      "[Parallel(n_jobs=-1)]: Done 628 tasks      | elapsed:   24.6s\n",
      "[Parallel(n_jobs=-1)]: Done 713 tasks      | elapsed:   27.8s\n",
      "[Parallel(n_jobs=-1)]: Done 798 tasks      | elapsed:   30.8s\n",
      "[Parallel(n_jobs=-1)]: Done 893 tasks      | elapsed:   34.3s\n",
      "[Parallel(n_jobs=-1)]: Done 988 tasks      | elapsed:   37.8s\n",
      "[Parallel(n_jobs=-1)]: Done 1093 tasks      | elapsed:   41.9s\n",
      "[Parallel(n_jobs=-1)]: Done 1198 tasks      | elapsed:   46.3s\n",
      "[Parallel(n_jobs=-1)]: Done 1313 tasks      | elapsed:   50.9s\n",
      "[Parallel(n_jobs=-1)]: Done 1428 tasks      | elapsed:   55.8s\n",
      "[Parallel(n_jobs=-1)]: Done 1553 tasks      | elapsed:  1.0min\n",
      "[Parallel(n_jobs=-1)]: Done 1678 tasks      | elapsed:  1.1min\n",
      "[Parallel(n_jobs=-1)]: Done 1813 tasks      | elapsed:  1.2min\n",
      "[Parallel(n_jobs=-1)]: Done 1948 tasks      | elapsed:  1.3min\n",
      "[Parallel(n_jobs=-1)]: Done 2093 tasks      | elapsed:  1.4min\n",
      "[Parallel(n_jobs=-1)]: Done 2238 tasks      | elapsed:  1.5min\n",
      "[Parallel(n_jobs=-1)]: Done 2393 tasks      | elapsed:  1.6min\n",
      "[Parallel(n_jobs=-1)]: Done 2548 tasks      | elapsed:  1.7min\n",
      "[Parallel(n_jobs=-1)]: Done 2713 tasks      | elapsed:  1.8min\n",
      "[Parallel(n_jobs=-1)]: Done 2878 tasks      | elapsed:  1.9min\n",
      "[Parallel(n_jobs=-1)]: Done 3053 tasks      | elapsed:  2.0min\n",
      "[Parallel(n_jobs=-1)]: Done 3228 tasks      | elapsed:  2.1min\n",
      "[Parallel(n_jobs=-1)]: Done 3413 tasks      | elapsed:  2.2min\n",
      "[Parallel(n_jobs=-1)]: Done 3598 tasks      | elapsed:  2.4min\n",
      "[Parallel(n_jobs=-1)]: Done 3793 tasks      | elapsed:  2.5min\n",
      "[Parallel(n_jobs=-1)]: Done 3988 tasks      | elapsed:  2.6min\n",
      "[Parallel(n_jobs=-1)]: Done 4193 tasks      | elapsed:  2.7min\n",
      "[Parallel(n_jobs=-1)]: Done 4398 tasks      | elapsed:  2.9min\n",
      "[Parallel(n_jobs=-1)]: Done 4613 tasks      | elapsed:  3.0min\n",
      "[Parallel(n_jobs=-1)]: Done 4828 tasks      | elapsed:  3.1min\n",
      "[Parallel(n_jobs=-1)]: Done 5000 out of 5000 | elapsed:  3.2min finished\n"
     ]
    },
    {
     "name": "stdout",
     "output_type": "stream",
     "text": [
      "done! (elapse time: 195.09 secs.)\n",
      "getting sorted ranking ...done! (elapse time: 0.06 secs.)\n",
      "done!\n"
     ]
    }
   ],
   "source": [
    "rank_1B = ind.similarity_search(y_simple_test_B, vectores_1B)\n",
    "datos_1B = ind.get_formated_data()"
   ]
  },
  {
   "cell_type": "code",
   "execution_count": 13,
   "metadata": {},
   "outputs": [
    {
     "name": "stdout",
     "output_type": "stream",
     "text": [
      "initializing KDTRee ... done!\n",
      "computing distances with L2 metric ..."
     ]
    },
    {
     "name": "stderr",
     "output_type": "stream",
     "text": [
      "[Parallel(n_jobs=-1)]: Using backend MultiprocessingBackend with 4 concurrent workers.\n",
      "[Parallel(n_jobs=-1)]: Done  13 tasks      | elapsed:    0.7s\n",
      "[Parallel(n_jobs=-1)]: Done  28 tasks      | elapsed:    1.2s\n",
      "[Parallel(n_jobs=-1)]: Done  53 tasks      | elapsed:    2.2s\n",
      "[Parallel(n_jobs=-1)]: Done  78 tasks      | elapsed:    3.1s\n",
      "[Parallel(n_jobs=-1)]: Done 113 tasks      | elapsed:    4.6s\n",
      "[Parallel(n_jobs=-1)]: Done 148 tasks      | elapsed:    5.8s\n",
      "[Parallel(n_jobs=-1)]: Done 193 tasks      | elapsed:    7.7s\n",
      "[Parallel(n_jobs=-1)]: Done 238 tasks      | elapsed:    9.2s\n",
      "[Parallel(n_jobs=-1)]: Done 293 tasks      | elapsed:   11.3s\n",
      "[Parallel(n_jobs=-1)]: Done 348 tasks      | elapsed:   13.2s\n",
      "[Parallel(n_jobs=-1)]: Done 413 tasks      | elapsed:   15.7s\n",
      "[Parallel(n_jobs=-1)]: Done 478 tasks      | elapsed:   18.1s\n",
      "[Parallel(n_jobs=-1)]: Done 553 tasks      | elapsed:   20.9s\n",
      "[Parallel(n_jobs=-1)]: Done 628 tasks      | elapsed:   23.7s\n",
      "[Parallel(n_jobs=-1)]: Done 713 tasks      | elapsed:   26.9s\n",
      "[Parallel(n_jobs=-1)]: Done 798 tasks      | elapsed:   30.0s\n",
      "[Parallel(n_jobs=-1)]: Done 893 tasks      | elapsed:   33.4s\n",
      "[Parallel(n_jobs=-1)]: Done 988 tasks      | elapsed:   36.8s\n",
      "[Parallel(n_jobs=-1)]: Done 1093 tasks      | elapsed:   40.7s\n",
      "[Parallel(n_jobs=-1)]: Done 1198 tasks      | elapsed:   44.7s\n",
      "[Parallel(n_jobs=-1)]: Done 1313 tasks      | elapsed:   49.0s\n",
      "[Parallel(n_jobs=-1)]: Done 1428 tasks      | elapsed:   54.0s\n",
      "[Parallel(n_jobs=-1)]: Done 1553 tasks      | elapsed:   58.6s\n",
      "[Parallel(n_jobs=-1)]: Done 1678 tasks      | elapsed:  1.1min\n",
      "[Parallel(n_jobs=-1)]: Done 1813 tasks      | elapsed:  1.1min\n",
      "[Parallel(n_jobs=-1)]: Done 1948 tasks      | elapsed:  1.2min\n",
      "[Parallel(n_jobs=-1)]: Done 2093 tasks      | elapsed:  1.3min\n",
      "[Parallel(n_jobs=-1)]: Done 2238 tasks      | elapsed:  1.4min\n",
      "[Parallel(n_jobs=-1)]: Done 2393 tasks      | elapsed:  1.5min\n",
      "[Parallel(n_jobs=-1)]: Done 2548 tasks      | elapsed:  1.6min\n",
      "[Parallel(n_jobs=-1)]: Done 2713 tasks      | elapsed:  1.7min\n",
      "[Parallel(n_jobs=-1)]: Done 2878 tasks      | elapsed:  1.8min\n",
      "[Parallel(n_jobs=-1)]: Done 3053 tasks      | elapsed:  1.9min\n",
      "[Parallel(n_jobs=-1)]: Done 3228 tasks      | elapsed:  2.0min\n",
      "[Parallel(n_jobs=-1)]: Done 3413 tasks      | elapsed:  2.1min\n",
      "[Parallel(n_jobs=-1)]: Done 3598 tasks      | elapsed:  2.3min\n",
      "[Parallel(n_jobs=-1)]: Done 3793 tasks      | elapsed:  2.4min\n",
      "[Parallel(n_jobs=-1)]: Done 3988 tasks      | elapsed:  2.5min\n",
      "[Parallel(n_jobs=-1)]: Done 4193 tasks      | elapsed:  2.6min\n",
      "[Parallel(n_jobs=-1)]: Done 4398 tasks      | elapsed:  2.8min\n",
      "[Parallel(n_jobs=-1)]: Done 4613 tasks      | elapsed:  2.9min\n",
      "[Parallel(n_jobs=-1)]: Done 4828 tasks      | elapsed:  3.0min\n",
      "[Parallel(n_jobs=-1)]: Done 5000 out of 5000 | elapsed:  3.1min finished\n"
     ]
    },
    {
     "name": "stdout",
     "output_type": "stream",
     "text": [
      "done! (elapse time: 187.87 secs.)\n",
      "getting sorted ranking ...done! (elapse time: 0.06 secs.)\n",
      "done!\n"
     ]
    }
   ],
   "source": [
    "rank_1C = ind.similarity_search(y_simple_test_C, vectores_1C)\n",
    "datos_1C = ind.get_formated_data()"
   ]
  },
  {
   "cell_type": "code",
   "execution_count": 14,
   "metadata": {},
   "outputs": [
    {
     "data": {
      "image/png": "[encoded data removed]",
      "text/plain": [
       "<Figure size 432x288 with 1 Axes>"
      ]
     },
     "metadata": {
      "needs_background": "light"
     },
     "output_type": "display_data"
    },
    {
     "data": {
      "image/png": "[encoded data removed]",
      "text/plain": [
       "<Figure size 432x288 with 1 Axes>"
      ]
     },
     "metadata": {
      "needs_background": "light"
     },
     "output_type": "display_data"
    },
    {
     "data": {
      "image/png": "[encoded data removed]",
      "text/plain": [
       "<Figure size 432x288 with 1 Axes>"
      ]
     },
     "metadata": {
      "needs_background": "light"
     },
     "output_type": "display_data"
    }
   ],
   "source": [
    "labels = ['recall@1','recall@5','recall@10','MRR','Mean']\n",
    "test_names = ['Test_A', 'Test_B','Test_C']\n",
    "datos = [datos_1A, datos_1B, datos_1C]\n",
    "tabla = utils.get_table(datos, test_names, labels)\n",
    "utils.print_histo(rank_1A)\n",
    "utils.print_histo(rank_1B)\n",
    "utils.print_histo(rank_1C)"
   ]
  },
  {
   "cell_type": "code",
   "execution_count": 15,
   "metadata": {},
   "outputs": [
    {
     "data": {
      "text/html": [
       "<div>\n",
       "<style scoped>\n",
       "    .dataframe tbody tr th:only-of-type {\n",
       "        vertical-align: middle;\n",
       "    }\n",
       "\n",
       "    .dataframe tbody tr th {\n",
       "        vertical-align: top;\n",
       "    }\n",
       "\n",
       "    .dataframe thead th {\n",
       "        text-align: right;\n",
       "    }\n",
       "</style>\n",
       "<table border=\"1\" class=\"dataframe\">\n",
       "  <thead>\n",
       "    <tr style=\"text-align: right;\">\n",
       "      <th></th>\n",
       "      <th>recall@1</th>\n",
       "      <th>recall@5</th>\n",
       "      <th>recall@10</th>\n",
       "      <th>MRR</th>\n",
       "      <th>Mean</th>\n",
       "    </tr>\n",
       "  </thead>\n",
       "  <tbody>\n",
       "    <tr>\n",
       "      <th>Test_A</th>\n",
       "      <td>0.0600</td>\n",
       "      <td>0.2192</td>\n",
       "      <td>0.3416</td>\n",
       "      <td>0.147287</td>\n",
       "      <td>123.0536</td>\n",
       "    </tr>\n",
       "    <tr>\n",
       "      <th>Test_B</th>\n",
       "      <td>0.0728</td>\n",
       "      <td>0.2310</td>\n",
       "      <td>0.3458</td>\n",
       "      <td>0.155580</td>\n",
       "      <td>125.6716</td>\n",
       "    </tr>\n",
       "    <tr>\n",
       "      <th>Test_C</th>\n",
       "      <td>0.0660</td>\n",
       "      <td>0.2264</td>\n",
       "      <td>0.3538</td>\n",
       "      <td>0.153387</td>\n",
       "      <td>113.2210</td>\n",
       "    </tr>\n",
       "  </tbody>\n",
       "</table>\n",
       "</div>"
      ],
      "text/plain": [
       "        recall@1  recall@5  recall@10       MRR      Mean\n",
       "Test_A    0.0600    0.2192     0.3416  0.147287  123.0536\n",
       "Test_B    0.0728    0.2310     0.3458  0.155580  125.6716\n",
       "Test_C    0.0660    0.2264     0.3538  0.153387  113.2210"
      ]
     },
     "execution_count": 15,
     "metadata": {},
     "output_type": "execute_result"
    }
   ],
   "source": [
    "tabla"
   ]
  }
 ],
 "metadata": {
  "kernelspec": {
   "display_name": "Python 3",
   "language": "python",
   "name": "python3"
  },
  "language_info": {
   "codemirror_mode": {
    "name": "ipython",
    "version": 3
   },
   "file_extension": ".py",
   "mimetype": "text/x-python",
   "name": "python",
   "nbconvert_exporter": "python",
   "pygments_lexer": "ipython3",
   "version": "3.6.8"
  }
 },
 "nbformat": 4,
 "nbformat_minor": 2
}
