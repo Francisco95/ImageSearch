{
 "cells": [
  {
   "cell_type": "markdown",
   "metadata": {},
   "source": [
    "# Notebook para probar cosas"
   ]
  },
  {
   "cell_type": "markdown",
   "metadata": {},
   "source": [
    "### Librerias que seran utilizadas\n",
    "\n",
    "* sklearn\n",
    "* tensorflow\n",
    "* keras\n",
    "* smart-open\n",
    "* matplotlib\n",
    "* seaborn\n",
    "* numpy"
   ]
  },
  {
   "cell_type": "markdown",
   "metadata": {},
   "source": [
    "### Pasos a seguir\n",
    "\n",
    "* practicar tutorial del profe\n",
    "* definir forma de acceder a los datos\n",
    "* definir forma de obtener los descriptores del texto\n",
    "* definir un regresor para obtener los descriptores de la imagen en base a descriptores de texto\n",
    "* entrenar utilizando pocas neuronas escondidas para no demorar tanto y testear resultados\n",
    "* realizar validaciones sobre la red, verificar sobre ajuste y metricas disponibles, iterar cuanto sea necesario.\n",
    "* entrenar para la red mas grande.\n",
    "* definir el calculador de distancias y la mertrica que se utilizara para realizar las busquedas\n",
    "* realizar pruebas sobre los resultados y crear graficos\n",
    "* concluir y generar un informe bonito"
   ]
  },
  {
   "cell_type": "markdown",
   "metadata": {},
   "source": [
    "### Bibliografia\n",
    "\n",
    "* http://queirozf.com/entries/evaluation-metrics-for-ranking-problems-introduction-and-examples\n",
    "* https://medium.com/datadriveninvestor/building-neural-network-using-keras-for-regression-ceee5a9eadff\n",
    "* tutorial del profe"
   ]
  },
  {
   "cell_type": "markdown",
   "metadata": {},
   "source": [
    "vayamos agregando los avances aqui, cosa que cuando uno quiera avanzar algo el otro pueda usar su avance y asi.\n",
    "\n",
    "Todos los archivos python que agregues metelos en /src, las funciones de un archivo se importan asi:\n",
    "\n",
    "    from src.foo import function\n",
    "    \n",
    "en /develop meti el codigo de MLP en tensorflow y del java del profe, creo que no los necesitaremos pero los deje por si acaso. Cualquier cosa que creas que podriamos utilizar pero no estes seguro agregala a develop"
   ]
  },
  {
   "cell_type": "code",
   "execution_count": null,
   "metadata": {},
   "outputs": [],
   "source": []
  }
 ],
 "metadata": {
  "kernelspec": {
   "display_name": "Python 3",
   "language": "python",
   "name": "python3"
  },
  "language_info": {
   "codemirror_mode": {
    "name": "ipython",
    "version": 3
   },
   "file_extension": ".py",
   "mimetype": "text/x-python",
   "name": "python",
   "nbconvert_exporter": "python",
   "pygments_lexer": "ipython3",
   "version": "3.7.3"
  }
 },
 "nbformat": 4,
 "nbformat_minor": 2
}
