{
 "cells": [
  {
   "cell_type": "markdown",
   "metadata": {},
   "source": [
    "# Notebook para probar cosas"
   ]
  },
  {
   "cell_type": "markdown",
   "metadata": {},
   "source": [
    "### Librerias que seran utilizadas\n",
    "\n",
    "* sklearn\n",
    "* tensorflow\n",
    "* keras\n",
    "* smart-open\n",
    "* matplotlib\n",
    "* seaborn\n",
    "* numpy"
   ]
  },
  {
   "cell_type": "code",
   "execution_count": 1,
   "metadata": {},
   "outputs": [
    {
     "name": "stderr",
     "output_type": "stream",
     "text": [
      "Using TensorFlow backend.\n"
     ]
    }
   ],
   "source": [
    "import os\n",
    "import matplotlib.pyplot as plt\n",
    "import seaborn as sns\n",
    "import numpy as np\n",
    "import pandas as pd\n",
    "from keras.models import Sequential\n",
    "from keras.layers import Dense\n",
    "from keras.models import model_from_json\n",
    "\n",
    "from sklearn.feature_extraction.text import CountVectorizer\n",
    "from sklearn.preprocessing import MinMaxScaler, MaxAbsScaler\n",
    "from sklearn.utils import shuffle as shfle # necesario para desordenar nuestros datos iniciales de manera consistente\n",
    "\n",
    "%matplotlib inline"
   ]
  },
  {
   "cell_type": "markdown",
   "metadata": {},
   "source": [
    "### Pasos a seguir\n",
    "\n",
    "* practicar tutorial del profe\n",
    "* definir forma de acceder a los datos  (**LISTO**)\n",
    "* definir una primera forma de obtener los descriptores del texto   (**LISTO**) -> usando countVectorizer\n",
    "* definir una segunda forma de obtener los descriptores del texto\n",
    "* definir pre procesamiento de los datos (ordenamiento, limpieza, escalado, etc)  (**LISTO**)\n",
    "* definir un regresor para obtener los descriptores de la imagen en base a descriptores de texto (**LISTO**)\n",
    "* entrenar utilizando pocas neuronas escondidas para no demorar tanto y testear resultados (**LISTO**)\n",
    "* realizar validaciones sobre la red, verificar sobre ajuste y metricas disponibles, iterar cuanto sea necesario.\n",
    "* entrenar para la red mas grande.\n",
    "* definir el calculador de distancias y la mertrica que se utilizara para realizar las busquedas\n",
    "* realizar pruebas sobre los resultados y crear graficos\n",
    "* concluir y generar un informe bonito"
   ]
  },
  {
   "cell_type": "markdown",
   "metadata": {},
   "source": [
    "### Bibliografia\n",
    "paginas desde donde sacaremos ideas, es para tener un registro\n",
    "\n",
    "* http://queirozf.com/entries/evaluation-metrics-for-ranking-problems-introduction-and-examples\n",
    "* https://medium.com/datadriveninvestor/building-neural-network-using-keras-for-regression-ceee5a9eadff\n",
    "* https://scikit-learn.org/stable/modules/feature_extraction.html#text-feature-extraction\n",
    "* https://datascienceplus.com/keras-regression-based-neural-networks/\n",
    "* https://machinelearningmastery.com/save-load-keras-deep-learning-models/\n",
    "* https://keras.io/callbacks/  <-- pal early stopping puede servir (si es que lo implementas)\n",
    "* https://keras.io/models/sequential/ <-- es parte del de arriba\n",
    "* https://keras.rstudio.com/articles/tutorial_overfit_underfit.html  <-- puede servir por si tienes dudas del overfitting\n",
    "* tutorial del profe"
   ]
  },
  {
   "cell_type": "markdown",
   "metadata": {},
   "source": [
    "vayamos agregando los avances aqui, cosa que cuando uno quiera avanzar algo el otro pueda usar su avance y asi.\n",
    "\n",
    "Todos los archivos python que agregues metelos en /src, las funciones de un archivo se importan asi:\n",
    "\n",
    "    from src.foo import function\n",
    "    \n",
    "en /develop meti el codigo de MLP en tensorflow y del java del profe, creo que no los necesitaremos pero los deje por si acaso. Cualquier cosa que creas que podriamos utilizar pero no estes seguro agregala a develop"
   ]
  },
  {
   "cell_type": "markdown",
   "metadata": {},
   "source": [
    "### accesso a los datos\n",
    "\n",
    "### IMPORTANTE:\n",
    "los datos guardalos de esta forma:\n",
    "(estamos en la carpeta raiz de nuestro proyecto)\n",
    "\n",
    "* ./data/train_data -> carpeta que contiene a los archivos .txt y al .bin de train\n",
    "\n",
    "\n",
    "* ./data/test_A_data -> carpeta que contiene a los archivos .txt y al .bin de test\n"
   ]
  },
  {
   "cell_type": "code",
   "execution_count": 2,
   "metadata": {},
   "outputs": [],
   "source": [
    "# probemos el codigo del profe para leer datos\n",
    "# cargando descriptores de imagenes\n",
    "# import numpy\n",
    "# import os\n",
    "\n",
    "# def load_file(file_names, file_vectors, num_vectors, vector_dimensions):\n",
    "#     assert os.path.isfile(file_names), \"no existe archivo \" + file_names\n",
    "#     assert os.path.isfile(file_vectors), \"no existe archivo \" + file_vectors\n",
    "#     print(\"leyendo \" + file_names)\n",
    "#     names = [line.strip() for line in open(file_names)]\n",
    "#     assert num_vectors == len(names), \"no cuadra largo archivo \" + len(names)\n",
    "#     print(\"leyendo \" + file_vectors)\n",
    "#     mat = numpy.fromfile(file_vectors, dtype=numpy.float32)\n",
    "#     vectors = numpy.reshape(mat, (num_vectors, vector_dimensions))\n",
    "#     print(str(num_vectors) + \" vectores de largo \" + str(vector_dimensions))\n",
    "#     return (names, vectors)\n",
    "\n",
    "# def load_train_vectors():\n",
    "#     return load_file(\"./data/train_data/train_images_names.txt\", \"./data/train_data/train_images_vectors.bin\", 20000, 2048)\n",
    "    \n",
    "# def load_test_vectors():\n",
    "#     return load_file(\"test_A_images_names.txt\", \"test_A_images_vectors.bin\", 1000, 2048)\n",
    "\n",
    "# (train_names, train_vectors) = load_train_vectors()\n",
    "# # (test_names, test_vectors) = load_test_vectors()\n",
    "# print(np.shape(train_names), np.shape(train_vectors))\n",
    "# print(\"Imagen \\\"\" + train_names[0] + \"\\\" tiene descriptor visual \" + str(train_vectors[0]) + \" de dimension \" + str(len(train_vectors[0])))"
   ]
  },
  {
   "cell_type": "code",
   "execution_count": 3,
   "metadata": {},
   "outputs": [],
   "source": [
    "# cargar captions de train\n",
    "# def load_captions(file_captions):\n",
    "#     assert os.path.isfile(file_captions), \"no existe archivo \" + file_captions\n",
    "#     return [line.strip().split(\"\\t\") for line in open(file_captions, encoding='utf-8')]\n",
    "\n",
    "# # test_captions = load_file(\"test_A_captions.txt\")\n",
    "# train_captions = load_captions(\"./data/train_data/train_captions.txt\")\n",
    "# print(np.shape(train_captions))\n",
    "# for i in range(6):\n",
    "#     print(\"Imagen \\\"\" + train_captions[i][0] + \"\\\" tiene caption \\\"\" + train_captions[i][1] + \"\\\"\")"
   ]
  },
  {
   "cell_type": "markdown",
   "metadata": {},
   "source": [
    "* tengo 20000 vectores de largo 2048, es decir la matriz de entrenamiento y sera de shape (20000, 2048)\n",
    "* pero tengo 5 captions por cada imaganes y por tanto, 5 captions por cada descriptor de imagen, entonces mis shapes seran:\n",
    "\n",
    "    - (100000, $\\alpha$) para la matriz de entrenamiento de entrada (X)\n",
    "    - (100000, 2048) para la matriz de entrenamiento de resultados (y)\n",
    "\n",
    "* donde $\\alpha$ esta dado por el descriptor de texto que creemos. El profe sugirio que seria de largo 1000"
   ]
  },
  {
   "cell_type": "markdown",
   "metadata": {},
   "source": [
    "### obtener descriptores de texto"
   ]
  },
  {
   "cell_type": "markdown",
   "metadata": {},
   "source": [
    "* countVectorizer usando ngram_range (1, 1) es igual a un unigrama, que es directamente el metodo de bag of words\n",
    "* tf-idf: aun no se lo que es ...\n",
    "* word embedding: es posible implementar esto dentro de la red, pero requiere usar convoluciones dentro de la regresion y para ello se necesita GPU y tal vez agregue mucha complejidad.\n",
    "\n",
    "ahora usare solo bag of words (countVectorizing)"
   ]
  },
  {
   "cell_type": "code",
   "execution_count": 4,
   "metadata": {},
   "outputs": [],
   "source": [
    "# obtengo solo los captions (asumo que los textos vienen ordenados)\n",
    "# train_captions = np.array(train_captions)\n",
    "# train_texts = train_captions[:,1]"
   ]
  },
  {
   "cell_type": "code",
   "execution_count": 5,
   "metadata": {},
   "outputs": [],
   "source": [
    "# from sklearn.feature_extraction.text import CountVectorizer\n",
    "\n",
    "# vectorizer = CountVectorizer(lowercase=False,ngram_range=(1,1),max_df=0.8,min_df=0.01,binary=True)\n",
    "# vectorizer.fit(train_texts)\n",
    "\n",
    "# X_train = vectorizer.transform(train_texts)\n",
    "# # X_test  = vectorizer.transform(texts_test)\n",
    "\n",
    "# print(\"Entrenamiento: {}\".format(X_train.shape))\n",
    "# # print(\"Test: {}\".format(X_test.shape))\n",
    "# X_train"
   ]
  },
  {
   "cell_type": "markdown",
   "metadata": {},
   "source": [
    "### ordenemos un poco todo"
   ]
  },
  {
   "cell_type": "code",
   "execution_count": 6,
   "metadata": {},
   "outputs": [],
   "source": [
    "def load_file(file_names, file_vectors, num_vectors, vector_dimensions):\n",
    "    assert os.path.isfile(file_names), \"no existe archivo \" + file_names\n",
    "    assert os.path.isfile(file_vectors), \"no existe archivo \" + file_vectors\n",
    "    print(\"leyendo \" + file_names)\n",
    "    names = [line.strip() for line in open(file_names)]\n",
    "    assert num_vectors == len(names), \"no cuadra largo archivo \" + len(names)\n",
    "    print(\"leyendo \" + file_vectors)\n",
    "    mat = np.fromfile(file_vectors, dtype=np.float32)\n",
    "    vectors = np.reshape(mat, (num_vectors, vector_dimensions))\n",
    "    print(str(num_vectors) + \" vectores de largo \" + str(vector_dimensions))\n",
    "    return (names, vectors)\n",
    "    \n",
    "def load_captions(file_captions):\n",
    "    assert os.path.isfile(file_captions), \"no existe archivo \" + file_captions\n",
    "    return [line.strip().split(\"\\t\") for line in open(file_captions, encoding='utf-8')]\n",
    "\n",
    "# crearemos una clase que simplifique todo el proceso de adquirir los datos\n",
    "class DataHandler(object):\n",
    "    def __init__(self, root_folder=\"./\"):\n",
    "        self.root = root_folder\n",
    "        self.vectors_dimension = 2048\n",
    "        self._data = {}\n",
    "        \n",
    "    def _load(self, names_file, vectors_file, captions_file, num_vectors):\n",
    "        (names, vectors) = load_file(names_file, vectors_file, num_vectors, self.vectors_dimension)\n",
    "        captions = load_captions(captions_file)\n",
    "        vectors_for_captions = []\n",
    "        for vector in vectors:\n",
    "            for _ in range(5):\n",
    "                vectors_for_captions.append(vector)\n",
    "        return names, np.array(vectors_for_captions), np.array(captions)\n",
    "        \n",
    "\n",
    "    def load_train(self, folder=\"\"):\n",
    "        if len(folder) > 0 and folder[0] != '/':\n",
    "            folder = '/' + folder\n",
    "        names_file = \"{}{}/train_images_names.txt\".format(self.root, folder)\n",
    "        captions_file = \"{}{}/train_captions.txt\".format(self.root, folder)\n",
    "        vectors_file = \"{}{}/train_images_vectors.bin\".format(self.root, folder)\n",
    "        return self._load(names_file, vectors_file, captions_file, 20000)\n",
    "    \n",
    "    def load_test(self, folder=\"\"):\n",
    "        if len(folder) > 0 and folder[0] != '/':\n",
    "            folder = '/' + folder\n",
    "        names_file = \"{}{}/test_A_images_names.txt\".format(self.root, folder)\n",
    "        captions_file = \"{}{}/test_A_captions.txt\".format(self.root, folder)\n",
    "        vectors_file = \"{}{}/test_A_images_vectors.bin\".format(self.root, folder)\n",
    "        return self._load(names_file, vectors_file, captions_file, 1000)\n",
    "    \n",
    "    def get_data_count_vectorizer(self, train_folder=\"/train_data\", test_folder=\"/test_A_data\", **kwargs):\n",
    "        train_names, train_vectors, train_image_captions = self.load_train(folder=train_folder)\n",
    "        test_names, test_vectors, test_image_captions = self.load_test(folder=test_folder)\n",
    "        \n",
    "        print(\"doing vectorization with CountVectorizer\")\n",
    "        train_captions = train_image_captions[:,1]\n",
    "        test_captions = test_image_captions[:,1]\n",
    "        vectorizer = CountVectorizer(lowercase=False,ngram_range=(1,1),max_df=0.8,min_df=0.01,binary=True)\n",
    "        print(\"fitting bag of words ...\", end=\"\")\n",
    "        vectorizer.fit(train_captions)\n",
    "        print(\"done\")\n",
    "        \n",
    "        print(\"getting vectors transforms ...\", end=\"\")\n",
    "        train_text_descriptors = vectorizer.transform(train_captions)\n",
    "        test_text_descriptors = vectorizer.transform(test_captions)\n",
    "        print(\"done\")\n",
    "        \n",
    "        # esto podria ser util\n",
    "#         self._data.update({\"train_names\": train_names, \n",
    "#                            \"train_text_descriptors\": train_text_descriptors,\n",
    "#                            \"train_image_descriptors\": train_vectors,\n",
    "#                            \"test_names\": test_names, \n",
    "#                            \"test_text_descriptors\": test_text_descriptors, \n",
    "#                            \"test_image_descriptors\": test_vectors})\n",
    "\n",
    "        return train_text_descriptors, test_text_descriptors, train_vectors, test_vectors\n",
    "    "
   ]
  },
  {
   "cell_type": "code",
   "execution_count": 7,
   "metadata": {},
   "outputs": [
    {
     "name": "stdout",
     "output_type": "stream",
     "text": [
      "leyendo ./data/train_data/train_images_names.txt\n",
      "leyendo ./data/train_data/train_images_vectors.bin\n",
      "20000 vectores de largo 2048\n",
      "leyendo ./data/test_A_data/test_A_images_names.txt\n",
      "leyendo ./data/test_A_data/test_A_images_vectors.bin\n",
      "1000 vectores de largo 2048\n",
      "doing vectorization with CountVectorizer\n",
      "fitting bag of words ...done\n",
      "getting vectors transforms ...done\n",
      "shapes\n",
      "X_train: (100000, 153)\n",
      "y_train: (100000, 2048)\n",
      "X_test: (5000, 153)\n",
      "y_test: (5000, 2048)\n"
     ]
    }
   ],
   "source": [
    "# luego bastaria con hacer\n",
    "\n",
    "data = DataHandler(root_folder=\"./data\")\n",
    "X_train, X_test, y_train, y_test = data.get_data_count_vectorizer()\n",
    "print(\"shapes\")\n",
    "print(\"X_train:\", X_train.shape)\n",
    "print(\"y_train:\", y_train.shape)\n",
    "print(\"X_test:\", X_test.shape)\n",
    "print(\"y_test:\", y_test.shape)"
   ]
  },
  {
   "cell_type": "markdown",
   "metadata": {},
   "source": [
    "### Regresor con keras\n",
    "la idea del regresor es poder guardar el modelo en disco asi cuando se entrene una red muy brijida la tengamos guardadita, para eso se necesita el h5py"
   ]
  },
  {
   "cell_type": "code",
   "execution_count": 21,
   "metadata": {},
   "outputs": [],
   "source": [
    "class Regressor(object):\n",
    "    \n",
    "    def __init__(self, input_dim, output_dim, n_layers=2, layer_size=2048, scale_data=False):\n",
    "        self.input_dim = input_dim\n",
    "        self.output_dim = output_dim\n",
    "        self._n = n_layers\n",
    "        self._size = layer_size\n",
    "        self.optimizer = \"adam\"\n",
    "        self.loss = \"mean_squared_error\"\n",
    "        self.metrics = [\"mae\", \"accuracy\"]\n",
    "        self.model = None\n",
    "        self.sc_X = None\n",
    "        self.sc_y = None\n",
    "        self.scaled = scale_data\n",
    "        \n",
    "    def build(self):\n",
    "        self.model = Sequential()\n",
    "        self.model.add(Dense(self._size, input_dim=self.input_dim, kernel_initializer='normal', activation='relu'))\n",
    "        i = self._n - 1\n",
    "        while i > 0:\n",
    "            self.model.add(Dense(self._size, activation='relu'))\n",
    "            i -= 1\n",
    "        self.model.add(Dense(self.output_dim, activation='linear'))\n",
    "        self.model.summary()\n",
    "        self.model.compile(loss=self.loss, optimizer=self.optimizer, metrics=self.metrics)\n",
    "        \n",
    "    def fit(self, X_train, y_train, epochs=100, batch_size=32, validation_split=0.1, shuffle=True, scale=None):\n",
    "        # shuffle data\n",
    "        X_train, y_train = shfle(X_train, y_train, random_state=0)\n",
    "        # necesitamos desordenar los datos antes para que la particion de validacion si tome datos variados.\n",
    "        \n",
    "        if scale is not None:\n",
    "            self.scaled = scale\n",
    "        if self.scaled:\n",
    "            self.sc_X = MaxAbsScaler()\n",
    "            self.sc_X.fit(X_train)\n",
    "            X_train = self.sc_X.transform(X_train)\n",
    "            self.sc_y = MaxAbsScaler()\n",
    "            self.sc_y.fit(y_train)\n",
    "            y_train = self.sc_y.transform(y_train)\n",
    "        results=self.model.fit(X_train,y_train, epochs=epochs, \n",
    "                               validation_split=validation_split,shuffle=shuffle,\n",
    "                               batch_size=batch_size)\n",
    "        return results\n",
    "    \n",
    "    def save(self, model_file=\"model\"):\n",
    "        # serialize model to JSON\n",
    "        model_json = self.model.to_json()\n",
    "        with open(\"./model/\" + model_file + \".json\", \"w\") as json_file:\n",
    "            json_file.write(model_json)\n",
    "        # serialize weights to HDF5\n",
    "        self.model.save_weights(\"./model/\" + model_file + \".h5\")\n",
    "        print(\"Saved model to disk\")\n",
    "    \n",
    "        \n",
    "    def load(self, model_file=\"model\"):\n",
    "        # load json and create model\n",
    "        json_file = open(\"./model/\" + model_file + '.json', 'r')\n",
    "        loaded_model_json = json_file.read()\n",
    "        json_file.close()\n",
    "        self.model = model_from_json(loaded_model_json)\n",
    "        # load weights into new model\n",
    "        self.model.load_weights(\"./model/\" + model_file + \".h5\")\n",
    "        print(\"Loaded model from disk\")\n",
    "        self.model.compile(loss=self.loss, optimizer=self.optimizer, metrics=self.metrics)\n",
    "    \n",
    "    def evaluate(self, X_test, y_test):\n",
    "        if self.scaled:\n",
    "            X_test = self.sc_X.transform(X_test)\n",
    "            y_test = self.sc_y.transform(y_test)\n",
    "        score = self.model.evaluate(X_test, y_test, verbose=True)\n",
    "        print(\"%s: %.2f\" % (self.model.metrics_names[1], score[1]))\n",
    "        print(\"%s: %.2f\" % (self.model.metrics_names[0], score[0]))\n",
    "        print(\"%s: %.2f%%\" % (self.model.metrics_names[2], score[2]*100))\n",
    "        return score\n",
    "        \n",
    "    def get_model(self):\n",
    "        return self.model\n",
    "    \n",
    "    def set_scaled(self, X_train, y_train):\n",
    "        elf.sc_X = MaxAbsScaler()\n",
    "        self.sc_X.fit(X_train)\n",
    "        self.sc_y = MaxAbsScaler()\n",
    "        self.sc_y.fit(y_train)\n",
    "        self.scaled = True\n",
    "        \n",
    "    def predict(self, X):\n",
    "        # aqui probablemente debamos normalizar X\n",
    "        X_scaled = self.sc_X.transform(X)\n",
    "        return self.model.predict(X_scaled)\n",
    "        # y probablemente debamos des-normalizar X e y_predicho\n",
    "        y = self.sc_y.inverse_transform(y_scaled) \n",
    "        X_reversed = self.sc_X.inverse_transform(X_scaled)\n",
    "        assert X == X_reversed\n",
    "        return y\n",
    "    \n",
    "def plot_metrics(history):\n",
    "    print(history.history.keys())\n",
    "    fig, ax = plt.subplots(1, 3, figsize=(16, 4))\n",
    "    ax[0].plot(history.history['loss'])\n",
    "    ax[0].plot(history.history['val_loss'])\n",
    "    ax[0].set_title('model loss')\n",
    "    ax[0].set_ylabel('loss')\n",
    "    ax[0].set_xlabel('epoch')\n",
    "    ax[0].legend(['train', 'validation'], loc='upper left')\n",
    "\n",
    "    ax[1].plot(history.history['acc'])\n",
    "    ax[1].plot(history.history['val_acc'])\n",
    "    ax[1].set_title('model acc')\n",
    "    ax[1].set_ylabel('acc')\n",
    "    ax[1].set_xlabel('epoch')\n",
    "    ax[1].legend(['train', 'validation'], loc='upper left')\n",
    "\n",
    "    ax[2].plot(history.history['mean_absolute_error'])\n",
    "    ax[2].plot(history.history['val_mean_absolute_error'])\n",
    "    ax[2].set_title('model MSE')\n",
    "    ax[2].set_ylabel('MSE')\n",
    "    ax[2].set_xlabel('epoch')\n",
    "    ax[2].legend(['train', 'validation'], loc='upper left')\n",
    "    return fig, ax"
   ]
  },
  {
   "cell_type": "markdown",
   "metadata": {},
   "source": [
    "#### Experimentos sobre la red\n",
    "tenemos que hacer 2 grandes experimentos a priori:\n",
    "* entrenar con los datos directos\n",
    "* entrenar con los datos normalizados\n",
    "\n",
    "en ambos usemos una NN de 2 capas internas pero con pocas neuronas, puede ser unas 100\n",
    "La idea es entrenar y botener los loss, MSE y accuracy para train y validation."
   ]
  },
  {
   "cell_type": "code",
   "execution_count": 24,
   "metadata": {},
   "outputs": [
    {
     "name": "stdout",
     "output_type": "stream",
     "text": [
      "_________________________________________________________________\n",
      "Layer (type)                 Output Shape              Param #   \n",
      "=================================================================\n",
      "dense_10 (Dense)             (None, 100)               15400     \n",
      "_________________________________________________________________\n",
      "dense_11 (Dense)             (None, 100)               10100     \n",
      "_________________________________________________________________\n",
      "dense_12 (Dense)             (None, 2048)              206848    \n",
      "=================================================================\n",
      "Total params: 232,348\n",
      "Trainable params: 232,348\n",
      "Non-trainable params: 0\n",
      "_________________________________________________________________\n",
      "Train on 80000 samples, validate on 20000 samples\n",
      "Epoch 1/10\n",
      "80000/80000 [==============================] - 7s 85us/step - loss: 0.6082 - mean_absolute_error: 0.4766 - acc: 0.1229 - val_loss: 0.5781 - val_mean_absolute_error: 0.4621 - val_acc: 0.1618\n",
      "Epoch 2/10\n",
      "80000/80000 [==============================] - 6s 76us/step - loss: 0.5735 - mean_absolute_error: 0.4631 - acc: 0.1683 - val_loss: 0.5703 - val_mean_absolute_error: 0.4658 - val_acc: 0.1746\n",
      "Epoch 3/10\n",
      "80000/80000 [==============================] - 6s 76us/step - loss: 0.5686 - mean_absolute_error: 0.4608 - acc: 0.1752 - val_loss: 0.5679 - val_mean_absolute_error: 0.4596 - val_acc: 0.1781\n",
      "Epoch 4/10\n",
      "80000/80000 [==============================] - 6s 78us/step - loss: 0.5661 - mean_absolute_error: 0.4597 - acc: 0.1776 - val_loss: 0.5661 - val_mean_absolute_error: 0.4574 - val_acc: 0.1803\n",
      "Epoch 5/10\n",
      "80000/80000 [==============================] - 6s 77us/step - loss: 0.5644 - mean_absolute_error: 0.4589 - acc: 0.1791 - val_loss: 0.5652 - val_mean_absolute_error: 0.4626 - val_acc: 0.1847\n",
      "Epoch 6/10\n",
      "80000/80000 [==============================] - 6s 76us/step - loss: 0.5632 - mean_absolute_error: 0.4584 - acc: 0.1806 - val_loss: 0.5644 - val_mean_absolute_error: 0.4590 - val_acc: 0.1837\n",
      "Epoch 7/10\n",
      "80000/80000 [==============================] - 6s 76us/step - loss: 0.5622 - mean_absolute_error: 0.4580 - acc: 0.1819 - val_loss: 0.5637 - val_mean_absolute_error: 0.4562 - val_acc: 0.1852\n",
      "Epoch 8/10\n",
      "80000/80000 [==============================] - 6s 76us/step - loss: 0.5614 - mean_absolute_error: 0.4577 - acc: 0.1829 - val_loss: 0.5632 - val_mean_absolute_error: 0.4585 - val_acc: 0.1850\n",
      "Epoch 9/10\n",
      "80000/80000 [==============================] - 6s 76us/step - loss: 0.5607 - mean_absolute_error: 0.4574 - acc: 0.1836 - val_loss: 0.5630 - val_mean_absolute_error: 0.4597 - val_acc: 0.1844\n",
      "Epoch 10/10\n",
      "80000/80000 [==============================] - 6s 76us/step - loss: 0.5601 - mean_absolute_error: 0.4571 - acc: 0.1835 - val_loss: 0.5632 - val_mean_absolute_error: 0.4624 - val_acc: 0.1852\n",
      "dict_keys(['val_loss', 'val_mean_absolute_error', 'val_acc', 'loss', 'mean_absolute_error', 'acc'])\n",
      "Saved model to disk\n",
      "5000/5000 [==============================] - 0s 23us/step\n",
      "mean_absolute_error: 0.46\n",
      "loss: 0.56\n",
      "acc: 16.58%\n"
     ]
    },
    {
     "data": {
      "text/plain": [
       "[0.5636493322372437, 0.4627211977958679, 0.1658]"
      ]
     },
     "execution_count": 24,
     "metadata": {},
     "output_type": "execute_result"
    },
    {
     "data": {
      "image/png": "[encoded data removed]",
      "text/plain": [
       "<Figure size 1152x288 with 3 Axes>"
      ]
     },
     "metadata": {
      "needs_background": "light"
     },
     "output_type": "display_data"
    }
   ],
   "source": [
    "# esto se debiese usar simplemente asi: (ejemplo con un regresor pequeño)\n",
    "reg = Regressor(X_train.shape[1], y_train.shape[1], n_layers=2, layer_size=100)\n",
    "reg.build()\n",
    "history = reg.fit(X_train, y_train, epochs=10, validation_split=0.2)\n",
    "plot_metrics(history)\n",
    "# guardamos el modelo por seguridad\n",
    "reg.save(model_file=\"model1\")\n",
    "# y luego podemos evaluar este modelo en el dataset de test\n",
    "reg.evaluate(X_test, y_test)"
   ]
  },
  {
   "cell_type": "code",
   "execution_count": 23,
   "metadata": {},
   "outputs": [
    {
     "name": "stdout",
     "output_type": "stream",
     "text": [
      "_________________________________________________________________\n",
      "Layer (type)                 Output Shape              Param #   \n",
      "=================================================================\n",
      "dense_7 (Dense)              (None, 100)               15400     \n",
      "_________________________________________________________________\n",
      "dense_8 (Dense)              (None, 100)               10100     \n",
      "_________________________________________________________________\n",
      "dense_9 (Dense)              (None, 2048)              206848    \n",
      "=================================================================\n",
      "Total params: 232,348\n",
      "Trainable params: 232,348\n",
      "Non-trainable params: 0\n",
      "_________________________________________________________________\n",
      "Train on 80000 samples, validate on 20000 samples\n",
      "Epoch 1/10\n",
      "80000/80000 [==============================] - 7s 88us/step - loss: 0.0050 - mean_absolute_error: 0.0450 - acc: 0.0333 - val_loss: 0.0048 - val_mean_absolute_error: 0.0440 - val_acc: 0.0447\n",
      "Epoch 2/10\n",
      "80000/80000 [==============================] - 6s 80us/step - loss: 0.0048 - mean_absolute_error: 0.0439 - acc: 0.0440 - val_loss: 0.0048 - val_mean_absolute_error: 0.0439 - val_acc: 0.0471\n",
      "Epoch 3/10\n",
      "80000/80000 [==============================] - 6s 81us/step - loss: 0.0048 - mean_absolute_error: 0.0438 - acc: 0.0456 - val_loss: 0.0048 - val_mean_absolute_error: 0.0438 - val_acc: 0.0496\n",
      "Epoch 4/10\n",
      "80000/80000 [==============================] - 7s 84us/step - loss: 0.0048 - mean_absolute_error: 0.0437 - acc: 0.0475 - val_loss: 0.0048 - val_mean_absolute_error: 0.0438 - val_acc: 0.0511\n",
      "Epoch 5/10\n",
      "80000/80000 [==============================] - 7s 84us/step - loss: 0.0048 - mean_absolute_error: 0.0436 - acc: 0.0485 - val_loss: 0.0048 - val_mean_absolute_error: 0.0439 - val_acc: 0.0527\n",
      "Epoch 6/10\n",
      "80000/80000 [==============================] - 7s 83us/step - loss: 0.0048 - mean_absolute_error: 0.0436 - acc: 0.0481 - val_loss: 0.0048 - val_mean_absolute_error: 0.0434 - val_acc: 0.0513\n",
      "Epoch 7/10\n",
      "80000/80000 [==============================] - 7s 83us/step - loss: 0.0048 - mean_absolute_error: 0.0435 - acc: 0.0491 - val_loss: 0.0048 - val_mean_absolute_error: 0.0436 - val_acc: 0.0526\n",
      "Epoch 8/10\n",
      "80000/80000 [==============================] - 7s 87us/step - loss: 0.0047 - mean_absolute_error: 0.0435 - acc: 0.0498 - val_loss: 0.0048 - val_mean_absolute_error: 0.0435 - val_acc: 0.0514\n",
      "Epoch 9/10\n",
      "80000/80000 [==============================] - 7s 83us/step - loss: 0.0047 - mean_absolute_error: 0.0434 - acc: 0.0504 - val_loss: 0.0048 - val_mean_absolute_error: 0.0439 - val_acc: 0.0522\n",
      "Epoch 10/10\n",
      "80000/80000 [==============================] - 7s 83us/step - loss: 0.0047 - mean_absolute_error: 0.0434 - acc: 0.0508 - val_loss: 0.0048 - val_mean_absolute_error: 0.0435 - val_acc: 0.0532\n",
      "dict_keys(['val_loss', 'val_mean_absolute_error', 'val_acc', 'loss', 'mean_absolute_error', 'acc'])\n",
      "Saved model to disk\n",
      "5000/5000 [==============================] - 0s 21us/step\n",
      "mean_absolute_error: 0.04\n",
      "loss: 0.00\n",
      "acc: 5.16%\n"
     ]
    },
    {
     "data": {
      "text/plain": [
       "[0.004817980595678091, 0.04364308735132218, 0.0516]"
      ]
     },
     "execution_count": 23,
     "metadata": {},
     "output_type": "execute_result"
    },
    {
     "data": {
      "image/png": "[encoded data removed]",
      "text/plain": [
       "<Figure size 1152x288 with 3 Axes>"
      ]
     },
     "metadata": {
      "needs_background": "light"
     },
     "output_type": "display_data"
    }
   ],
   "source": [
    "# esto se debiese usar simplemente asi: (ejemplo con un regresor pequeño)\n",
    "reg2 = Regressor(X_train.shape[1], y_train.shape[1], n_layers=2, layer_size=100)\n",
    "reg2.build()\n",
    "history2 = reg2.fit(X_train, y_train, epochs=10, validation_split=0.2, scale=True)\n",
    "plot_metrics(history2)\n",
    "# guardamos el modelo por seguridad\n",
    "reg2.save(model_file=\"model1_scaled\")\n",
    "# y luego podemos evaluar este modelo en el dataset de test\n",
    "reg2.evaluate(X_test, y_test)"
   ]
  },
  {
   "cell_type": "markdown",
   "metadata": {},
   "source": [
    "#### Experimento para una NN mucho mas grande\n",
    "la idea es ver si realmente usar una NN como la que recomendo el profe da mejores resultados.\n",
    "\n",
    "el profe dijo, usar 2 capas escondidas, cada una de tamaño 2048.\n",
    "\n",
    "En mi computador, cada epoca tardo serca de 10 min. No termine el test. Desconozco cuantas epocas son suficientes, hay que probar con redes pequeñas y encontrar el numero de pecosas optimas (el punto desde donde ocurre el overffit)"
   ]
  },
  {
   "cell_type": "code",
   "execution_count": null,
   "metadata": {},
   "outputs": [],
   "source": [
    "# ESTO PUEDE TARDAR BASTANTE!!!\n",
    "reg3 = Regressor(X_train.shape[1], y_train.shape[1], n_layers=2, layer_size=2048)\n",
    "reg3.build()\n",
    "history3 = reg3.fit(X_train, y_train, epochs=10, validation_split=0.2, scale=True)\n",
    "plot_metrics(history3)\n",
    "# guardamos el modelo por seguridad\n",
    "reg3.save(model_file=\"model_full_size\")\n",
    "# y luego podemos evaluar este modelo en el dataset de test\n",
    "reg3.evaluate(X_test, y_test)"
   ]
  }
 ],
 "metadata": {
  "kernelspec": {
   "display_name": "Python 3",
   "language": "python",
   "name": "python3"
  },
  "language_info": {
   "codemirror_mode": {
    "name": "ipython",
    "version": 3
   },
   "file_extension": ".py",
   "mimetype": "text/x-python",
   "name": "python",
   "nbconvert_exporter": "python",
   "pygments_lexer": "ipython3",
   "version": "3.7.3"
  }
 },
 "nbformat": 4,
 "nbformat_minor": 2
}
