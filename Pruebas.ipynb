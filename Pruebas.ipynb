{
 "cells": [
  {
   "cell_type": "markdown",
   "metadata": {},
   "source": [
    "# Notebook para probar cosas"
   ]
  },
  {
   "cell_type": "markdown",
   "metadata": {},
   "source": [
    "### Librerias que seran utilizadas\n",
    "\n",
    "* sklearn\n",
    "* tensorflow\n",
    "* keras\n",
    "* smart-open\n",
    "* matplotlib\n",
    "* seaborn\n",
    "* numpy\n",
    "* stop-words"
   ]
  },
  {
   "cell_type": "code",
   "execution_count": 1,
   "metadata": {},
   "outputs": [
    {
     "name": "stderr",
     "output_type": "stream",
     "text": [
      "Using TensorFlow backend.\n"
     ]
    }
   ],
   "source": [
    "import os\n",
    "import matplotlib.pyplot as plt\n",
    "import seaborn as sns\n",
    "import numpy as np\n",
    "import pandas as pd\n",
    "from keras.models import Sequential\n",
    "from keras.layers import Dense\n",
    "from keras.models import model_from_json\n",
    "\n",
    "from sklearn.feature_extraction.text import CountVectorizer\n",
    "from sklearn.feature_extraction.text import TfidfVectorizer\n",
    "from sklearn.preprocessing import MinMaxScaler, MaxAbsScaler\n",
    "from sklearn.utils import shuffle as shfle # necesario para desordenar nuestros datos iniciales de manera consistente\n",
    "\n",
    "from stop_words import get_stop_words #definimos las stop words para los vectorizer\n",
    "stop_words = get_stop_words('spanish')\n",
    "\n",
    "%matplotlib inline"
   ]
  },
  {
   "cell_type": "markdown",
   "metadata": {},
   "source": [
    "### Pasos a seguir\n",
    "\n",
    "* practicar tutorial del profe (**LISTO**)\n",
    "* definir forma de acceder a los datos  (**LISTO**)\n",
    "* definir una primera forma de obtener los descriptores del texto   (**LISTO**) -> usando countVectorizer\n",
    "* definir una segunda forma de obtener los descriptores del texto   (**LISTO**) -> usando tfidfVectorizer\n",
    "* definir pre procesamiento de los datos (ordenamiento, limpieza, escalado, etc)  (**LISTO**)\n",
    "* definir un regresor para obtener los descriptores de la imagen en base a descriptores de texto (**LISTO**)\n",
    "* entrenar utilizando pocas neuronas escondidas para no demorar tanto y testear resultados (**LISTO**)\n",
    "* realizar validaciones sobre la red, verificar sobre ajuste y metricas disponibles, iterar cuanto sea necesario.\n",
    "* entrenar para la red mas grande.\n",
    "* definir el calculador de distancias y la mertrica que se utilizara para realizar las busquedas\n",
    "* realizar pruebas sobre los resultados y crear graficos\n",
    "* concluir y generar un informe bonito"
   ]
  },
  {
   "cell_type": "markdown",
   "metadata": {},
   "source": [
    "### Bibliografia\n",
    "paginas desde donde sacaremos ideas, es para tener un registro\n",
    "\n",
    "* http://queirozf.com/entries/evaluation-metrics-for-ranking-problems-introduction-and-examples\n",
    "* https://medium.com/datadriveninvestor/building-neural-network-using-keras-for-regression-ceee5a9eadff\n",
    "* https://scikit-learn.org/stable/modules/feature_extraction.html#text-feature-extraction\n",
    "* https://datascienceplus.com/keras-regression-based-neural-networks/\n",
    "* https://machinelearningmastery.com/save-load-keras-deep-learning-models/\n",
    "* https://keras.io/callbacks/  <-- pal early stopping puede servir (si es que lo implementas)\n",
    "* https://keras.io/models/sequential/ <-- es parte del de arriba\n",
    "* https://keras.rstudio.com/articles/tutorial_overfit_underfit.html  <-- puede servir por si tienes dudas del overfitting\n",
    "* https://pypi.org/project/stop-words/ <-- por si acaso lo dejo aqui\n",
    "* tutorial del profe"
   ]
  },
  {
   "cell_type": "markdown",
   "metadata": {},
   "source": [
    "vayamos agregando los avances aqui, cosa que cuando uno quiera avanzar algo el otro pueda usar su avance y asi.\n",
    "\n",
    "Todos los archivos python que agregues metelos en /src, las funciones de un archivo se importan asi:\n",
    "\n",
    "    from src.foo import function\n",
    "    \n",
    "en /develop meti el codigo de MLP en tensorflow y del java del profe, creo que no los necesitaremos pero los deje por si acaso. Cualquier cosa que creas que podriamos utilizar pero no estes seguro agregala a develop"
   ]
  },
  {
   "cell_type": "markdown",
   "metadata": {},
   "source": [
    "### accesso a los datos\n",
    "\n",
    "### IMPORTANTE:\n",
    "los datos guardalos de esta forma:\n",
    "(estamos en la carpeta raiz de nuestro proyecto)\n",
    "\n",
    "* ./data/train_data -> carpeta que contiene a los archivos .txt y al .bin de train\n",
    "\n",
    "\n",
    "* ./data/test_A_data -> carpeta que contiene a los archivos .txt y al .bin de test\n"
   ]
  },
  {
   "cell_type": "code",
   "execution_count": 2,
   "metadata": {},
   "outputs": [],
   "source": [
    "# probemos el codigo del profe para leer datos\n",
    "# cargando descriptores de imagenes\n",
    "# import numpy\n",
    "# import os\n",
    "\n",
    "# def load_file(file_names, file_vectors, num_vectors, vector_dimensions):\n",
    "#     assert os.path.isfile(file_names), \"no existe archivo \" + file_names\n",
    "#     assert os.path.isfile(file_vectors), \"no existe archivo \" + file_vectors\n",
    "#     print(\"leyendo \" + file_names)\n",
    "#     names = [line.strip() for line in open(file_names)]\n",
    "#     assert num_vectors == len(names), \"no cuadra largo archivo \" + len(names)\n",
    "#     print(\"leyendo \" + file_vectors)\n",
    "#     mat = numpy.fromfile(file_vectors, dtype=numpy.float32)\n",
    "#     vectors = numpy.reshape(mat, (num_vectors, vector_dimensions))\n",
    "#     print(str(num_vectors) + \" vectores de largo \" + str(vector_dimensions))\n",
    "#     return (names, vectors)\n",
    "\n",
    "# def load_train_vectors():\n",
    "#     return load_file(\"./data/train_data/train_images_names.txt\", \"./data/train_data/train_images_vectors.bin\", 20000, 2048)\n",
    "    \n",
    "# def load_test_vectors():\n",
    "#     return load_file(\"test_A_images_names.txt\", \"test_A_images_vectors.bin\", 1000, 2048)\n",
    "\n",
    "# (train_names, train_vectors) = load_train_vectors()\n",
    "# # (test_names, test_vectors) = load_test_vectors()\n",
    "# print(np.shape(train_names), np.shape(train_vectors))\n",
    "# print(\"Imagen \\\"\" + train_names[0] + \"\\\" tiene descriptor visual \" + str(train_vectors[0]) + \" de dimension \" + str(len(train_vectors[0])))"
   ]
  },
  {
   "cell_type": "code",
   "execution_count": 3,
   "metadata": {},
   "outputs": [],
   "source": [
    "# cargar captions de train\n",
    "# def load_captions(file_captions):\n",
    "#     assert os.path.isfile(file_captions), \"no existe archivo \" + file_captions\n",
    "#     return [line.strip().split(\"\\t\") for line in open(file_captions, encoding='utf-8')]\n",
    "\n",
    "# # test_captions = load_file(\"test_A_captions.txt\")\n",
    "# train_captions = load_captions(\"./data/train_data/train_captions.txt\")\n",
    "# print(np.shape(train_captions))\n",
    "# for i in range(6):\n",
    "#     print(\"Imagen \\\"\" + train_captions[i][0] + \"\\\" tiene caption \\\"\" + train_captions[i][1] + \"\\\"\")"
   ]
  },
  {
   "cell_type": "markdown",
   "metadata": {},
   "source": [
    "* tengo 20000 vectores de largo 2048, es decir la matriz de entrenamiento y sera de shape (20000, 2048)\n",
    "* pero tengo 5 captions por cada imaganes y por tanto, 5 captions por cada descriptor de imagen, entonces mis shapes seran:\n",
    "\n",
    "    - (100000, $\\alpha$) para la matriz de entrenamiento de entrada (X)\n",
    "    - (100000, 2048) para la matriz de entrenamiento de resultados (y)\n",
    "\n",
    "* donde $\\alpha$ esta dado por el descriptor de texto que creemos. El profe sugirio que seria de largo 1000"
   ]
  },
  {
   "cell_type": "markdown",
   "metadata": {},
   "source": [
    "### obtener descriptores de texto"
   ]
  },
  {
   "cell_type": "markdown",
   "metadata": {},
   "source": [
    "* countVectorizer usando ngram_range (1, 1) es igual a un unigrama, que es directamente el metodo de bag of words\n",
    "* tf-idf: aun no se lo que es ...\n",
    "* word embedding: es posible implementar esto dentro de la red, pero requiere usar convoluciones dentro de la regresion y para ello se necesita GPU y tal vez agregue mucha complejidad.\n",
    "\n",
    "ahora usare solo bag of words (countVectorizing)"
   ]
  },
  {
   "cell_type": "code",
   "execution_count": 4,
   "metadata": {},
   "outputs": [],
   "source": [
    "# obtengo solo los captions (asumo que los textos vienen ordenados)\n",
    "# train_captions = np.array(train_captions)\n",
    "# train_texts = train_captions[:,1]"
   ]
  },
  {
   "cell_type": "code",
   "execution_count": 5,
   "metadata": {},
   "outputs": [],
   "source": [
    "# from sklearn.feature_extraction.text import CountVectorizer\n",
    "\n",
    "# vectorizer = CountVectorizer(lowercase=False,ngram_range=(1,1),max_df=0.8,min_df=0.01,binary=True)\n",
    "# vectorizer.fit(train_texts)\n",
    "\n",
    "# X_train = vectorizer.transform(train_texts)\n",
    "# # X_test  = vectorizer.transform(texts_test)\n",
    "\n",
    "# print(\"Entrenamiento: {}\".format(X_train.shape))\n",
    "# # print(\"Test: {}\".format(X_test.shape))\n",
    "# X_train"
   ]
  },
  {
   "cell_type": "markdown",
   "metadata": {},
   "source": [
    "### ordenemos un poco todo"
   ]
  },
  {
   "cell_type": "code",
   "execution_count": 10,
   "metadata": {},
   "outputs": [],
   "source": [
    "def load_file(file_names, file_vectors, num_vectors, vector_dimensions):\n",
    "    assert os.path.isfile(file_names), \"no existe archivo \" + file_names\n",
    "    assert os.path.isfile(file_vectors), \"no existe archivo \" + file_vectors\n",
    "    print(\"leyendo \" + file_names)\n",
    "    names = [line.strip() for line in open(file_names)]\n",
    "    assert num_vectors == len(names), \"no cuadra largo archivo \" + len(names)\n",
    "    print(\"leyendo \" + file_vectors)\n",
    "    mat = np.fromfile(file_vectors, dtype=np.float32)\n",
    "    vectors = np.reshape(mat, (num_vectors, vector_dimensions))\n",
    "    print(str(num_vectors) + \" vectores de largo \" + str(vector_dimensions))\n",
    "    return (names, vectors)\n",
    "    \n",
    "def load_captions(file_captions):\n",
    "    assert os.path.isfile(file_captions), \"no existe archivo \" + file_captions\n",
    "    return [line.strip().split(\"\\t\") for line in open(file_captions, encoding='utf-8')]\n",
    "\n",
    "# crearemos una clase que simplifique todo el proceso de adquirir los datos\n",
    "class DataHandler(object):\n",
    "    def __init__(self, root_folder=\"./\"):\n",
    "        self.root = root_folder\n",
    "        self.vectors_dimension = 2048\n",
    "        self._data = {}\n",
    "        \n",
    "    def _load(self, names_file, vectors_file, captions_file, num_vectors):\n",
    "        (names, vectors) = load_file(names_file, vectors_file, num_vectors, self.vectors_dimension)\n",
    "        captions = load_captions(captions_file)\n",
    "        vectors_for_captions = []\n",
    "        for vector in vectors:\n",
    "            for _ in range(5):\n",
    "                vectors_for_captions.append(vector)\n",
    "        return names, np.array(vectors_for_captions), np.array(captions)\n",
    "        \n",
    "\n",
    "    def load_train(self, folder=\"\"):\n",
    "        if len(folder) > 0 and folder[0] != '/':\n",
    "            folder = '/' + folder\n",
    "        names_file = \"{}{}/train_images_names.txt\".format(self.root, folder)\n",
    "        captions_file = \"{}{}/train_captions.txt\".format(self.root, folder)\n",
    "        vectors_file = \"{}{}/train_images_vectors.bin\".format(self.root, folder)\n",
    "        return self._load(names_file, vectors_file, captions_file, 20000)\n",
    "    \n",
    "    def load_test(self, folder=\"\"):\n",
    "        if len(folder) > 0 and folder[0] != '/':\n",
    "            folder = '/' + folder\n",
    "        names_file = \"{}{}/test_A_images_names.txt\".format(self.root, folder)\n",
    "        captions_file = \"{}{}/test_A_captions.txt\".format(self.root, folder)\n",
    "        vectors_file = \"{}{}/test_A_images_vectors.bin\".format(self.root, folder)\n",
    "        return self._load(names_file, vectors_file, captions_file, 1000)\n",
    "    \n",
    "    def load_simple_test(self):\n",
    "        names_file = \"{}{}/test_A_images_names.txt\".format(self.root, \"/test_A_data\")\n",
    "        captions_file = \"{}{}/test_A_captions.txt\".format(self.root, \"/test_A_data\")\n",
    "        vectors_file = \"{}{}/test_A_images_vectors.bin\".format(self.root, \"/test_A_data\")\n",
    "        (names, vectors) = load_file(names_file, vectors_file, 1000, self.vectors_dimension)\n",
    "        return np.array(vectors)\n",
    "    \n",
    "    def get_data_count_vectorizer(self, train_folder=\"/train_data\", test_folder=\"/test_A_data\", **kwargs):\n",
    "        train_names, train_vectors, train_image_captions = self.load_train(folder=train_folder)\n",
    "        test_names, test_vectors, test_image_captions = self.load_test(folder=test_folder)\n",
    "        \n",
    "        print(\"doing vectorization with CountVectorizer\")\n",
    "        train_captions = train_image_captions[:,1]\n",
    "        test_captions = test_image_captions[:,1]\n",
    "        vectorizer = CountVectorizer(lowercase=False,ngram_range=(1,1),max_df=0.8,min_df=0.01,binary=True)\n",
    "        print(\"fitting bag of words ...\", end=\"\")\n",
    "        vectorizer.fit(train_captions)\n",
    "        print(\"done\")\n",
    "        \n",
    "        print(\"getting vectors transforms ...\", end=\"\")\n",
    "        train_text_descriptors = vectorizer.transform(train_captions)\n",
    "        test_text_descriptors = vectorizer.transform(test_captions)\n",
    "        print(\"done\")\n",
    "        \n",
    "        # esto podria ser util\n",
    "#         self._data.update({\"train_names\": train_names, \n",
    "#                            \"train_text_descriptors\": train_text_descriptors,\n",
    "#                            \"train_image_descriptors\": train_vectors,\n",
    "#                            \"test_names\": test_names, \n",
    "#                            \"test_text_descriptors\": test_text_descriptors, \n",
    "#                            \"test_image_descriptors\": test_vectors})\n",
    "\n",
    "        return train_text_descriptors, test_text_descriptors, train_vectors, test_vectors\n",
    "\n",
    "    #esta es una version de get_data_count_vectorizer, solo cambia el vectorize por tfidf, se puede\n",
    "    #hacer en una sola funcion, esta es solo para probar\n",
    "    def get_data_tfidf_vectorizer(self, train_folder=\"/train_data\", test_folder=\"/test_A_data\", **kwargs):\n",
    "        train_names, train_vectors, train_image_captions = self.load_train(folder=train_folder)\n",
    "        test_names, test_vectors, test_image_captions = self.load_test(folder=test_folder)\n",
    "        \n",
    "        print(\"doing vectorization with TfidfVectorizer\")\n",
    "        train_captions = train_image_captions[:,1]\n",
    "        #print(train_captions[0])\n",
    "        test_captions = test_image_captions[:,1]\n",
    "        vectorizer = TfidfVectorizer(lowercase=False,ngram_range=(1,4),max_df=0.9,min_df=0.002,\n",
    "                                     stop_words=stop_words)\n",
    "        print(\"fitting tf idf ...\", end=\"\")\n",
    "        vectorizer.fit(train_captions)\n",
    "        #print(vectorizer.get_feature_names())\n",
    "        print(\"done\")\n",
    "        \n",
    "        print(\"getting vectors transforms ...\", end=\"\")\n",
    "        train_text_descriptors = vectorizer.transform(train_captions)\n",
    "        test_text_descriptors = vectorizer.transform(test_captions)\n",
    "        print(\"done\")\n",
    "\n",
    "        return train_text_descriptors, test_text_descriptors, train_vectors, test_vectors\n",
    "    "
   ]
  },
  {
   "cell_type": "code",
   "execution_count": null,
   "metadata": {},
   "outputs": [],
   "source": []
  },
  {
   "cell_type": "code",
   "execution_count": 11,
   "metadata": {},
   "outputs": [
    {
     "name": "stdout",
     "output_type": "stream",
     "text": [
      "leyendo ./data/train_data/train_images_names.txt\n",
      "leyendo ./data/train_data/train_images_vectors.bin\n",
      "20000 vectores de largo 2048\n",
      "leyendo ./data/test_A_data/test_A_images_names.txt\n",
      "leyendo ./data/test_A_data/test_A_images_vectors.bin\n",
      "1000 vectores de largo 2048\n",
      "doing vectorization with TfidfVectorizer\n",
      "fitting tf idf ...done\n",
      "getting vectors transforms ...done\n",
      "shapes\n",
      "X_train: (100000, 738)\n",
      "y_train: (100000, 2048)\n",
      "X_test: (5000, 738)\n",
      "y_test: (5000, 2048)\n"
     ]
    }
   ],
   "source": [
    "# luego bastaria con hacer\n",
    "\n",
    "data = DataHandler(root_folder=\"./data\")\n",
    "#X_train, X_test, y_train, y_test = data.get_data_count_vectorizer()\n",
    "X_train, X_test, y_train, y_test = data.get_data_tfidf_vectorizer()\n",
    "print(\"shapes\")\n",
    "print(\"X_train:\", X_train.shape)\n",
    "print(\"y_train:\", y_train.shape)\n",
    "print(\"X_test:\", X_test.shape)\n",
    "print(\"y_test:\", y_test.shape)"
   ]
  },
  {
   "cell_type": "markdown",
   "metadata": {},
   "source": [
    "### Regresor con keras\n",
    "la idea del regresor es poder guardar el modelo en disco asi cuando se entrene una red muy brijida la tengamos guardadita, para eso se necesita el h5py"
   ]
  },
  {
   "cell_type": "code",
   "execution_count": 4,
   "metadata": {},
   "outputs": [],
   "source": [
    "class Regressor(object):\n",
    "    \n",
    "    def __init__(self, input_dim, output_dim, n_layers=2, layer_size=2048, scale_data=False):\n",
    "        self.input_dim = input_dim\n",
    "        self.output_dim = output_dim\n",
    "        self._n = n_layers\n",
    "        self._size = layer_size\n",
    "        self.optimizer = \"adam\"\n",
    "        self.loss = \"mean_squared_error\"\n",
    "        self.metrics = [\"mae\", \"accuracy\"]\n",
    "        self.model = None\n",
    "        self.sc_X = None\n",
    "        self.sc_y = None\n",
    "        self.scaled = scale_data\n",
    "        \n",
    "    def build(self):\n",
    "        self.model = Sequential()\n",
    "        self.model.add(Dense(self._size, input_dim=self.input_dim, kernel_initializer='normal', activation='relu'))\n",
    "        i = self._n - 1\n",
    "        while i > 0:\n",
    "            self.model.add(Dense(self._size, activation='relu'))\n",
    "            i -= 1\n",
    "        self.model.add(Dense(self.output_dim, activation='linear'))\n",
    "        self.model.summary()\n",
    "        self.model.compile(loss=self.loss, optimizer=self.optimizer, metrics=self.metrics)\n",
    "        \n",
    "    def fit(self, X_train, y_train, epochs=100, batch_size=32, validation_split=0.1, shuffle=True, scale=None):\n",
    "        # shuffle data\n",
    "        X_train, y_train = shfle(X_train, y_train, random_state=0)\n",
    "        # necesitamos desordenar los datos antes para que la particion de validacion si tome datos variados.\n",
    "        \n",
    "        if scale is not None:\n",
    "            self.scaled = scale\n",
    "        if self.scaled:\n",
    "            self.sc_X = MaxAbsScaler()\n",
    "            self.sc_X.fit(X_train)\n",
    "            X_train = self.sc_X.transform(X_train)\n",
    "            self.sc_y = MaxAbsScaler()\n",
    "            self.sc_y.fit(y_train)\n",
    "            y_train = self.sc_y.transform(y_train)\n",
    "        results=self.model.fit(X_train,y_train, epochs=epochs, \n",
    "                               validation_split=validation_split,shuffle=shuffle,\n",
    "                               batch_size=batch_size)\n",
    "        return results\n",
    "    \n",
    "    def save(self, model_file=\"model\"):\n",
    "        # serialize model to JSON\n",
    "        model_json = self.model.to_json()\n",
    "        with open(\"./model/\" + model_file + \".json\", \"w\") as json_file:\n",
    "            json_file.write(model_json)\n",
    "        # serialize weights to HDF5\n",
    "        self.model.save_weights(\"./model/\" + model_file + \".h5\")\n",
    "        print(\"Saved model to disk\")\n",
    "    \n",
    "        \n",
    "    def load(self, model_file=\"model\"):\n",
    "        # load json and create model\n",
    "        json_file = open(\"./model/\" + model_file + '.json', 'r')\n",
    "        loaded_model_json = json_file.read()\n",
    "        json_file.close()\n",
    "        self.model = model_from_json(loaded_model_json)\n",
    "        # load weights into new model\n",
    "        self.model.load_weights(\"./model/\" + model_file + \".h5\")\n",
    "        print(\"Loaded model from disk\")\n",
    "        self.model.compile(loss=self.loss, optimizer=self.optimizer, metrics=self.metrics)\n",
    "    \n",
    "    def evaluate(self, X_test, y_test):\n",
    "        print(\"evaluando test\")\n",
    "        if self.scaled:\n",
    "            X_test = self.sc_X.transform(X_test)\n",
    "            y_test = self.sc_y.transform(y_test)\n",
    "        score = self.model.evaluate(X_test, y_test, verbose=True)\n",
    "        print(\"%s: %.2f\" % (self.model.metrics_names[1], score[1]))\n",
    "        print(\"%s: %.2f\" % (self.model.metrics_names[0], score[0]))\n",
    "        print(\"%s: %.2f%%\" % (self.model.metrics_names[2], score[2]*100))\n",
    "        return score\n",
    "        \n",
    "    def get_model(self):\n",
    "        return self.model\n",
    "    \n",
    "    def set_scaled(self, X_train, y_train):\n",
    "        elf.sc_X = MaxAbsScaler()\n",
    "        self.sc_X.fit(X_train)\n",
    "        self.sc_y = MaxAbsScaler()\n",
    "        self.sc_y.fit(y_train)\n",
    "        self.scaled = True\n",
    "        \n",
    "    def predict(self, X):\n",
    "        # aqui probablemente debamos normalizar X\n",
    "        #X_scaled = self.sc_X.transform(X)\n",
    "        #return self.model.predict(X_scaled)\n",
    "        return self.model.predict(X)\n",
    "        # y probablemente debamos des-normalizar X e y_predicho\n",
    "        y = self.sc_y.inverse_transform(y_scaled) \n",
    "        X_reversed = self.sc_X.inverse_transform(X_scaled)\n",
    "        assert X == X_reversed\n",
    "        return y\n",
    "    \n",
    "def plot_metrics(history):\n",
    "    print(history.history.keys())\n",
    "    fig, ax = plt.subplots(1, 3, figsize=(16, 4))\n",
    "    ax[0].plot(history.history['loss'])\n",
    "    ax[0].plot(history.history['val_loss'])\n",
    "    ax[0].set_title('model loss')\n",
    "    ax[0].set_ylabel('loss')\n",
    "    ax[0].set_xlabel('epoch')\n",
    "    ax[0].legend(['train', 'validation'], loc='upper left')\n",
    "\n",
    "    ax[1].plot(history.history['acc'])\n",
    "    ax[1].plot(history.history['val_acc'])\n",
    "    ax[1].set_title('model acc')\n",
    "    ax[1].set_ylabel('acc')\n",
    "    ax[1].set_xlabel('epoch')\n",
    "    ax[1].legend(['train', 'validation'], loc='upper left')\n",
    "\n",
    "    ax[2].plot(history.history['mean_absolute_error'])\n",
    "    ax[2].plot(history.history['val_mean_absolute_error'])\n",
    "    ax[2].set_title('model MSE')\n",
    "    ax[2].set_ylabel('MSE')\n",
    "    ax[2].set_xlabel('epoch')\n",
    "    ax[2].legend(['train', 'validation'], loc='upper left')\n",
    "    return fig, ax"
   ]
  },
  {
   "cell_type": "code",
   "execution_count": null,
   "metadata": {},
   "outputs": [],
   "source": []
  },
  {
   "cell_type": "markdown",
   "metadata": {},
   "source": [
    "#### Experimentos sobre la red\n",
    "tenemos que hacer 2 grandes experimentos a priori:\n",
    "* entrenar con los datos directos\n",
    "* entrenar con los datos normalizados\n",
    "\n",
    "en ambos usemos una NN de 2 capas internas pero con pocas neuronas, puede ser unas 100\n",
    "La idea es entrenar y botener los loss, MSE y accuracy para train y validation."
   ]
  },
  {
   "cell_type": "code",
   "execution_count": 5,
   "metadata": {},
   "outputs": [
    {
     "name": "stdout",
     "output_type": "stream",
     "text": [
      "_________________________________________________________________\n",
      "Layer (type)                 Output Shape              Param #   \n",
      "=================================================================\n",
      "dense_1 (Dense)              (None, 100)               73900     \n",
      "_________________________________________________________________\n",
      "dense_2 (Dense)              (None, 100)               10100     \n",
      "_________________________________________________________________\n",
      "dense_3 (Dense)              (None, 2048)              206848    \n",
      "=================================================================\n",
      "Total params: 290,848\n",
      "Trainable params: 290,848\n",
      "Non-trainable params: 0\n",
      "_________________________________________________________________\n",
      "Train on 80000 samples, validate on 20000 samples\n",
      "Epoch 1/10\n",
      "80000/80000 [==============================] - 24s 294us/step - loss: 0.5874 - mean_absolute_error: 0.4677 - acc: 0.1288 - val_loss: 0.5415 - val_mean_absolute_error: 0.4566 - val_acc: 0.1932\n",
      "Epoch 2/10\n",
      "80000/80000 [==============================] - 23s 283us/step - loss: 0.5322 - mean_absolute_error: 0.4460 - acc: 0.2057 - val_loss: 0.5264 - val_mean_absolute_error: 0.4417 - val_acc: 0.2189\n",
      "Epoch 3/10\n",
      "80000/80000 [==============================] - 23s 284us/step - loss: 0.5228 - mean_absolute_error: 0.4419 - acc: 0.2197 - val_loss: 0.5218 - val_mean_absolute_error: 0.4418 - val_acc: 0.2253\n",
      "Epoch 4/10\n",
      "80000/80000 [==============================] - 23s 285us/step - loss: 0.5182 - mean_absolute_error: 0.4400 - acc: 0.2259 - val_loss: 0.5194 - val_mean_absolute_error: 0.4348 - val_acc: 0.2311\n",
      "Epoch 5/10\n",
      "80000/80000 [==============================] - 23s 288us/step - loss: 0.5153 - mean_absolute_error: 0.4389 - acc: 0.2305 - val_loss: 0.5169 - val_mean_absolute_error: 0.4393 - val_acc: 0.2341\n",
      "Epoch 6/10\n",
      "80000/80000 [==============================] - 23s 288us/step - loss: 0.5132 - mean_absolute_error: 0.4380 - acc: 0.2340 - val_loss: 0.5152 - val_mean_absolute_error: 0.4373 - val_acc: 0.2371\n",
      "Epoch 7/10\n",
      "80000/80000 [==============================] - 23s 290us/step - loss: 0.5117 - mean_absolute_error: 0.4374 - acc: 0.2354 - val_loss: 0.5152 - val_mean_absolute_error: 0.4422 - val_acc: 0.2384\n",
      "Epoch 8/10\n",
      "80000/80000 [==============================] - 23s 292us/step - loss: 0.5105 - mean_absolute_error: 0.4370 - acc: 0.2378 - val_loss: 0.5145 - val_mean_absolute_error: 0.4364 - val_acc: 0.2391\n",
      "Epoch 9/10\n",
      "80000/80000 [==============================] - 24s 298us/step - loss: 0.5095 - mean_absolute_error: 0.4365 - acc: 0.2387 - val_loss: 0.5140 - val_mean_absolute_error: 0.4413 - val_acc: 0.2392\n",
      "Epoch 10/10\n",
      "80000/80000 [==============================] - 23s 293us/step - loss: 0.5086 - mean_absolute_error: 0.4363 - acc: 0.2398 - val_loss: 0.5136 - val_mean_absolute_error: 0.4376 - val_acc: 0.2387\n",
      "dict_keys(['val_loss', 'val_mean_absolute_error', 'val_acc', 'loss', 'mean_absolute_error', 'acc'])\n",
      "Saved model to disk\n",
      "evaluando test\n",
      "5000/5000 [==============================] - 1s 103us/step\n",
      "mean_absolute_error: 0.44\n",
      "loss: 0.52\n",
      "acc: 21.30%\n"
     ]
    },
    {
     "data": {
      "text/plain": [
       "[0.5201643978118896, 0.4403628619194031, 0.213]"
      ]
     },
     "execution_count": 5,
     "metadata": {},
     "output_type": "execute_result"
    },
    {
     "data": {
      "image/png": "[encoded data removed]",
      "text/plain": [
       "<Figure size 1152x288 with 3 Axes>"
      ]
     },
     "metadata": {
      "needs_background": "light"
     },
     "output_type": "display_data"
    }
   ],
   "source": [
    "# esto se debiese usar simplemente asi: (ejemplo con un regresor pequeño)\n",
    "reg = Regressor(X_train.shape[1], y_train.shape[1], n_layers=2, layer_size=100)\n",
    "reg.build()\n",
    "history = reg.fit(X_train, y_train, epochs=10, validation_split=0.2)\n",
    "plot_metrics(history)\n",
    "# guardamos el modelo por seguridad\n",
    "reg.save(model_file=\"model1\")\n",
    "# y luego podemos evaluar este modelo en el dataset de test\n",
    "reg.evaluate(X_test, y_test)"
   ]
  },
  {
   "cell_type": "code",
   "execution_count": 12,
   "metadata": {},
   "outputs": [
    {
     "name": "stdout",
     "output_type": "stream",
     "text": [
      "Loaded model from disk\n",
      "leyendo ./data/test_A_data/test_A_images_names.txt\n",
      "leyendo ./data/test_A_data/test_A_images_vectors.bin\n",
      "1000 vectores de largo 2048\n"
     ]
    }
   ],
   "source": [
    "#cargar modelo y predict\n",
    "reg.load(model_file=\"model1\")\n",
    "vectores = reg.predict(X_test)\n",
    "y_simple = data.load_simple_test() #obtengo los vectores de las imagenes de test\n"
   ]
  },
  {
   "cell_type": "code",
   "execution_count": 30,
   "metadata": {},
   "outputs": [],
   "source": [
    "from scipy import spatial\n",
    "tree = spatial.KDTree(y_simple)"
   ]
  },
  {
   "cell_type": "code",
   "execution_count": 66,
   "metadata": {},
   "outputs": [],
   "source": [
    "#esta parte igual se demora unos minutitos\n",
    "dist_vec = [tree.query(i,k=1000)[1] for i in vectores]"
   ]
  },
  {
   "cell_type": "code",
   "execution_count": 82,
   "metadata": {},
   "outputs": [
    {
     "name": "stdout",
     "output_type": "stream",
     "text": [
      "262 1018 1585\n"
     ]
    }
   ],
   "source": [
    "#encontrar la posicion de la respuesta correcta\n",
    "count_v = 0\n",
    "count_i = 0\n",
    "k1 = 0\n",
    "k5 = 0\n",
    "k10 = 0\n",
    "#donde se guardan las posiciones de las respuestas correctas\n",
    "min_dist_vec = []\n",
    "#se va cambiando cada 5 valores el count_i, que indica la posicion que debiera\n",
    "#tener el vector v como respuesta correcta\n",
    "for v in dist_vec:\n",
    "    valor_aux = np.where(v==count_i)[0][0]+1 #le puse +1 para ajustar los indices desde el 1 al 1000\n",
    "    #estos if para ir contando cuantos valores estan bajo k\n",
    "    if valor_aux<11:\n",
    "        k10+=1\n",
    "        if valor_aux<6:\n",
    "            k5+=1\n",
    "            if valor_aux<2:\n",
    "                k1+=1\n",
    "    min_dist_vec.append(valor_aux)\n",
    "    count_v+=1\n",
    "    if count_v>4:\n",
    "        count_v = 0\n",
    "        count_i+=1\n",
    "min_dist_vec = np.array(min_dist_vec)\n",
    "print(k1,k5,k10)"
   ]
  },
  {
   "cell_type": "code",
   "execution_count": 86,
   "metadata": {},
   "outputs": [
    {
     "data": {
      "image/png": "[encoded data removed]",
      "text/plain": [
       "<Figure size 432x288 with 1 Axes>"
      ]
     },
     "metadata": {
      "needs_background": "light"
     },
     "output_type": "display_data"
    },
    {
     "name": "stdout",
     "output_type": "stream",
     "text": [
      "Recall@1 0.0524\n",
      "Recall@5 0.2036\n",
      "Recall@10 0.317\n"
     ]
    }
   ],
   "source": [
    "#histograma y recall@k\n",
    "plt.title('graph')\n",
    "plt.hist(min_dist_vec,bins = 1000)\n",
    "plt.show()\n",
    "print('Recall@1',k1/5000)\n",
    "print('Recall@5',k5/5000)\n",
    "print('Recall@10',k10/5000)\n"
   ]
  },
  {
   "cell_type": "code",
   "execution_count": 87,
   "metadata": {},
   "outputs": [
    {
     "data": {
      "text/plain": [
       "0.13591363613184781"
      ]
     },
     "execution_count": 87,
     "metadata": {},
     "output_type": "execute_result"
    }
   ],
   "source": [
    "#MRR\n",
    "def mrr(rank):\n",
    "    sum = 0\n",
    "    for ri in rank:\n",
    "        sum+=1.0/ri\n",
    "    return sum/len(rank)\n",
    "\n",
    "mrr(min_dist_vec)"
   ]
  },
  {
   "cell_type": "code",
   "execution_count": 26,
   "metadata": {},
   "outputs": [
    {
     "name": "stdout",
     "output_type": "stream",
     "text": [
      "_________________________________________________________________\n",
      "Layer (type)                 Output Shape              Param #   \n",
      "=================================================================\n",
      "dense_13 (Dense)             (None, 100)               73900     \n",
      "_________________________________________________________________\n",
      "dense_14 (Dense)             (None, 100)               10100     \n",
      "_________________________________________________________________\n",
      "dense_15 (Dense)             (None, 2048)              206848    \n",
      "=================================================================\n",
      "Total params: 290,848\n",
      "Trainable params: 290,848\n",
      "Non-trainable params: 0\n",
      "_________________________________________________________________\n"
     ]
    },
    {
     "ename": "KeyboardInterrupt",
     "evalue": "",
     "output_type": "error",
     "traceback": [
      "\u001b[0;31m---------------------------------------------------------------------------\u001b[0m",
      "\u001b[0;31mInvalidArgumentError\u001b[0m                      Traceback (most recent call last)",
      "\u001b[0;32m~/.local/lib/python3.6/site-packages/tensorflow/python/framework/ops.py\u001b[0m in \u001b[0;36mget_attr\u001b[0;34m(self, name)\u001b[0m\n\u001b[1;32m   2322\u001b[0m       \u001b[0;32mwith\u001b[0m \u001b[0mc_api_util\u001b[0m\u001b[0;34m.\u001b[0m\u001b[0mtf_buffer\u001b[0m\u001b[0;34m(\u001b[0m\u001b[0;34m)\u001b[0m \u001b[0;32mas\u001b[0m \u001b[0mbuf\u001b[0m\u001b[0;34m:\u001b[0m\u001b[0;34m\u001b[0m\u001b[0;34m\u001b[0m\u001b[0m\n\u001b[0;32m-> 2323\u001b[0;31m         \u001b[0mc_api\u001b[0m\u001b[0;34m.\u001b[0m\u001b[0mTF_OperationGetAttrValueProto\u001b[0m\u001b[0;34m(\u001b[0m\u001b[0mself\u001b[0m\u001b[0;34m.\u001b[0m\u001b[0m_c_op\u001b[0m\u001b[0;34m,\u001b[0m \u001b[0mname\u001b[0m\u001b[0;34m,\u001b[0m \u001b[0mbuf\u001b[0m\u001b[0;34m)\u001b[0m\u001b[0;34m\u001b[0m\u001b[0;34m\u001b[0m\u001b[0m\n\u001b[0m\u001b[1;32m   2324\u001b[0m         \u001b[0mdata\u001b[0m \u001b[0;34m=\u001b[0m \u001b[0mc_api\u001b[0m\u001b[0;34m.\u001b[0m\u001b[0mTF_GetBuffer\u001b[0m\u001b[0;34m(\u001b[0m\u001b[0mbuf\u001b[0m\u001b[0;34m)\u001b[0m\u001b[0;34m\u001b[0m\u001b[0;34m\u001b[0m\u001b[0m\n",
      "\u001b[0;31mInvalidArgumentError\u001b[0m: Operation 'loss_4/dense_15_loss/truediv' has no attr named '_XlaCompile'.",
      "\nDuring handling of the above exception, another exception occurred:\n",
      "\u001b[0;31mValueError\u001b[0m                                Traceback (most recent call last)",
      "\u001b[0;32m~/.local/lib/python3.6/site-packages/tensorflow/python/ops/gradients_impl.py\u001b[0m in \u001b[0;36m_MaybeCompile\u001b[0;34m(scope, op, func, grad_fn)\u001b[0m\n\u001b[1;32m    402\u001b[0m     \u001b[0;32mtry\u001b[0m\u001b[0;34m:\u001b[0m\u001b[0;34m\u001b[0m\u001b[0;34m\u001b[0m\u001b[0m\n\u001b[0;32m--> 403\u001b[0;31m       \u001b[0mxla_compile\u001b[0m \u001b[0;34m=\u001b[0m \u001b[0mop\u001b[0m\u001b[0;34m.\u001b[0m\u001b[0mget_attr\u001b[0m\u001b[0;34m(\u001b[0m\u001b[0;34m\"_XlaCompile\"\u001b[0m\u001b[0;34m)\u001b[0m\u001b[0;34m\u001b[0m\u001b[0;34m\u001b[0m\u001b[0m\n\u001b[0m\u001b[1;32m    404\u001b[0m       xla_separate_compiled_gradients = op.get_attr(\n",
      "\u001b[0;32m~/.local/lib/python3.6/site-packages/tensorflow/python/framework/ops.py\u001b[0m in \u001b[0;36mget_attr\u001b[0;34m(self, name)\u001b[0m\n\u001b[1;32m   2326\u001b[0m       \u001b[0;31m# Convert to ValueError for backwards compatibility.\u001b[0m\u001b[0;34m\u001b[0m\u001b[0;34m\u001b[0m\u001b[0;34m\u001b[0m\u001b[0m\n\u001b[0;32m-> 2327\u001b[0;31m       \u001b[0;32mraise\u001b[0m \u001b[0mValueError\u001b[0m\u001b[0;34m(\u001b[0m\u001b[0mstr\u001b[0m\u001b[0;34m(\u001b[0m\u001b[0me\u001b[0m\u001b[0;34m)\u001b[0m\u001b[0;34m)\u001b[0m\u001b[0;34m\u001b[0m\u001b[0;34m\u001b[0m\u001b[0m\n\u001b[0m\u001b[1;32m   2328\u001b[0m     \u001b[0mx\u001b[0m \u001b[0;34m=\u001b[0m \u001b[0mattr_value_pb2\u001b[0m\u001b[0;34m.\u001b[0m\u001b[0mAttrValue\u001b[0m\u001b[0;34m(\u001b[0m\u001b[0;34m)\u001b[0m\u001b[0;34m\u001b[0m\u001b[0;34m\u001b[0m\u001b[0m\n",
      "\u001b[0;31mValueError\u001b[0m: Operation 'loss_4/dense_15_loss/truediv' has no attr named '_XlaCompile'.",
      "\nDuring handling of the above exception, another exception occurred:\n",
      "\u001b[0;31mKeyboardInterrupt\u001b[0m                         Traceback (most recent call last)",
      "\u001b[0;32m<ipython-input-26-3a338d378acd>\u001b[0m in \u001b[0;36m<module>\u001b[0;34m\u001b[0m\n\u001b[1;32m      2\u001b[0m \u001b[0mreg2\u001b[0m \u001b[0;34m=\u001b[0m \u001b[0mRegressor\u001b[0m\u001b[0;34m(\u001b[0m\u001b[0mX_train\u001b[0m\u001b[0;34m.\u001b[0m\u001b[0mshape\u001b[0m\u001b[0;34m[\u001b[0m\u001b[0;36m1\u001b[0m\u001b[0;34m]\u001b[0m\u001b[0;34m,\u001b[0m \u001b[0my_train\u001b[0m\u001b[0;34m.\u001b[0m\u001b[0mshape\u001b[0m\u001b[0;34m[\u001b[0m\u001b[0;36m1\u001b[0m\u001b[0;34m]\u001b[0m\u001b[0;34m,\u001b[0m \u001b[0mn_layers\u001b[0m\u001b[0;34m=\u001b[0m\u001b[0;36m2\u001b[0m\u001b[0;34m,\u001b[0m \u001b[0mlayer_size\u001b[0m\u001b[0;34m=\u001b[0m\u001b[0;36m100\u001b[0m\u001b[0;34m)\u001b[0m\u001b[0;34m\u001b[0m\u001b[0;34m\u001b[0m\u001b[0m\n\u001b[1;32m      3\u001b[0m \u001b[0mreg2\u001b[0m\u001b[0;34m.\u001b[0m\u001b[0mbuild\u001b[0m\u001b[0;34m(\u001b[0m\u001b[0;34m)\u001b[0m\u001b[0;34m\u001b[0m\u001b[0;34m\u001b[0m\u001b[0m\n\u001b[0;32m----> 4\u001b[0;31m \u001b[0mhistory2\u001b[0m \u001b[0;34m=\u001b[0m \u001b[0mreg2\u001b[0m\u001b[0;34m.\u001b[0m\u001b[0mfit\u001b[0m\u001b[0;34m(\u001b[0m\u001b[0mX_train\u001b[0m\u001b[0;34m,\u001b[0m \u001b[0my_train\u001b[0m\u001b[0;34m,\u001b[0m \u001b[0mepochs\u001b[0m\u001b[0;34m=\u001b[0m\u001b[0;36m10\u001b[0m\u001b[0;34m,\u001b[0m \u001b[0mvalidation_split\u001b[0m\u001b[0;34m=\u001b[0m\u001b[0;36m0.2\u001b[0m\u001b[0;34m,\u001b[0m \u001b[0mscale\u001b[0m\u001b[0;34m=\u001b[0m\u001b[0;32mTrue\u001b[0m\u001b[0;34m)\u001b[0m\u001b[0;34m\u001b[0m\u001b[0;34m\u001b[0m\u001b[0m\n\u001b[0m\u001b[1;32m      5\u001b[0m \u001b[0mplot_metrics\u001b[0m\u001b[0;34m(\u001b[0m\u001b[0mhistory2\u001b[0m\u001b[0;34m)\u001b[0m\u001b[0;34m\u001b[0m\u001b[0;34m\u001b[0m\u001b[0m\n\u001b[1;32m      6\u001b[0m \u001b[0;31m# guardamos el modelo por seguridad\u001b[0m\u001b[0;34m\u001b[0m\u001b[0;34m\u001b[0m\u001b[0;34m\u001b[0m\u001b[0m\n",
      "\u001b[0;32m<ipython-input-7-1b55e31b2558>\u001b[0m in \u001b[0;36mfit\u001b[0;34m(self, X_train, y_train, epochs, batch_size, validation_split, shuffle, scale)\u001b[0m\n\u001b[1;32m     41\u001b[0m         results=self.model.fit(X_train,y_train, epochs=epochs, \n\u001b[1;32m     42\u001b[0m                                \u001b[0mvalidation_split\u001b[0m\u001b[0;34m=\u001b[0m\u001b[0mvalidation_split\u001b[0m\u001b[0;34m,\u001b[0m\u001b[0mshuffle\u001b[0m\u001b[0;34m=\u001b[0m\u001b[0mshuffle\u001b[0m\u001b[0;34m,\u001b[0m\u001b[0;34m\u001b[0m\u001b[0;34m\u001b[0m\u001b[0m\n\u001b[0;32m---> 43\u001b[0;31m                                batch_size=batch_size)\n\u001b[0m\u001b[1;32m     44\u001b[0m         \u001b[0;32mreturn\u001b[0m \u001b[0mresults\u001b[0m\u001b[0;34m\u001b[0m\u001b[0;34m\u001b[0m\u001b[0m\n\u001b[1;32m     45\u001b[0m \u001b[0;34m\u001b[0m\u001b[0m\n",
      "\u001b[0;32m/usr/local/lib/python3.6/dist-packages/keras/engine/training.py\u001b[0m in \u001b[0;36mfit\u001b[0;34m(self, x, y, batch_size, epochs, verbose, callbacks, validation_split, validation_data, shuffle, class_weight, sample_weight, initial_epoch, steps_per_epoch, validation_steps, **kwargs)\u001b[0m\n\u001b[1;32m   1008\u001b[0m         \u001b[0;32melse\u001b[0m\u001b[0;34m:\u001b[0m\u001b[0;34m\u001b[0m\u001b[0;34m\u001b[0m\u001b[0m\n\u001b[1;32m   1009\u001b[0m             \u001b[0mins\u001b[0m \u001b[0;34m=\u001b[0m \u001b[0mx\u001b[0m \u001b[0;34m+\u001b[0m \u001b[0my\u001b[0m \u001b[0;34m+\u001b[0m \u001b[0msample_weights\u001b[0m\u001b[0;34m\u001b[0m\u001b[0;34m\u001b[0m\u001b[0m\n\u001b[0;32m-> 1010\u001b[0;31m         \u001b[0mself\u001b[0m\u001b[0;34m.\u001b[0m\u001b[0m_make_train_function\u001b[0m\u001b[0;34m(\u001b[0m\u001b[0;34m)\u001b[0m\u001b[0;34m\u001b[0m\u001b[0;34m\u001b[0m\u001b[0m\n\u001b[0m\u001b[1;32m   1011\u001b[0m         \u001b[0mf\u001b[0m \u001b[0;34m=\u001b[0m \u001b[0mself\u001b[0m\u001b[0;34m.\u001b[0m\u001b[0mtrain_function\u001b[0m\u001b[0;34m\u001b[0m\u001b[0;34m\u001b[0m\u001b[0m\n\u001b[1;32m   1012\u001b[0m \u001b[0;34m\u001b[0m\u001b[0m\n",
      "\u001b[0;32m/usr/local/lib/python3.6/dist-packages/keras/engine/training.py\u001b[0m in \u001b[0;36m_make_train_function\u001b[0;34m(self)\u001b[0m\n\u001b[1;32m    507\u001b[0m                     training_updates = self.optimizer.get_updates(\n\u001b[1;32m    508\u001b[0m                         \u001b[0mparams\u001b[0m\u001b[0;34m=\u001b[0m\u001b[0mself\u001b[0m\u001b[0;34m.\u001b[0m\u001b[0m_collected_trainable_weights\u001b[0m\u001b[0;34m,\u001b[0m\u001b[0;34m\u001b[0m\u001b[0;34m\u001b[0m\u001b[0m\n\u001b[0;32m--> 509\u001b[0;31m                         loss=self.total_loss)\n\u001b[0m\u001b[1;32m    510\u001b[0m                 updates = (self.updates +\n\u001b[1;32m    511\u001b[0m                            \u001b[0mtraining_updates\u001b[0m \u001b[0;34m+\u001b[0m\u001b[0;34m\u001b[0m\u001b[0;34m\u001b[0m\u001b[0m\n",
      "\u001b[0;32m/usr/local/lib/python3.6/dist-packages/keras/legacy/interfaces.py\u001b[0m in \u001b[0;36mwrapper\u001b[0;34m(*args, **kwargs)\u001b[0m\n\u001b[1;32m     89\u001b[0m                 warnings.warn('Update your `' + object_name + '` call to the ' +\n\u001b[1;32m     90\u001b[0m                               'Keras 2 API: ' + signature, stacklevel=2)\n\u001b[0;32m---> 91\u001b[0;31m             \u001b[0;32mreturn\u001b[0m \u001b[0mfunc\u001b[0m\u001b[0;34m(\u001b[0m\u001b[0;34m*\u001b[0m\u001b[0margs\u001b[0m\u001b[0;34m,\u001b[0m \u001b[0;34m**\u001b[0m\u001b[0mkwargs\u001b[0m\u001b[0;34m)\u001b[0m\u001b[0;34m\u001b[0m\u001b[0;34m\u001b[0m\u001b[0m\n\u001b[0m\u001b[1;32m     92\u001b[0m         \u001b[0mwrapper\u001b[0m\u001b[0;34m.\u001b[0m\u001b[0m_original_function\u001b[0m \u001b[0;34m=\u001b[0m \u001b[0mfunc\u001b[0m\u001b[0;34m\u001b[0m\u001b[0;34m\u001b[0m\u001b[0m\n\u001b[1;32m     93\u001b[0m         \u001b[0;32mreturn\u001b[0m \u001b[0mwrapper\u001b[0m\u001b[0;34m\u001b[0m\u001b[0;34m\u001b[0m\u001b[0m\n",
      "\u001b[0;32m/usr/local/lib/python3.6/dist-packages/keras/optimizers.py\u001b[0m in \u001b[0;36mget_updates\u001b[0;34m(self, loss, params)\u001b[0m\n\u001b[1;32m    473\u001b[0m     \u001b[0;34m@\u001b[0m\u001b[0minterfaces\u001b[0m\u001b[0;34m.\u001b[0m\u001b[0mlegacy_get_updates_support\u001b[0m\u001b[0;34m\u001b[0m\u001b[0;34m\u001b[0m\u001b[0m\n\u001b[1;32m    474\u001b[0m     \u001b[0;32mdef\u001b[0m \u001b[0mget_updates\u001b[0m\u001b[0;34m(\u001b[0m\u001b[0mself\u001b[0m\u001b[0;34m,\u001b[0m \u001b[0mloss\u001b[0m\u001b[0;34m,\u001b[0m \u001b[0mparams\u001b[0m\u001b[0;34m)\u001b[0m\u001b[0;34m:\u001b[0m\u001b[0;34m\u001b[0m\u001b[0;34m\u001b[0m\u001b[0m\n\u001b[0;32m--> 475\u001b[0;31m         \u001b[0mgrads\u001b[0m \u001b[0;34m=\u001b[0m \u001b[0mself\u001b[0m\u001b[0;34m.\u001b[0m\u001b[0mget_gradients\u001b[0m\u001b[0;34m(\u001b[0m\u001b[0mloss\u001b[0m\u001b[0;34m,\u001b[0m \u001b[0mparams\u001b[0m\u001b[0;34m)\u001b[0m\u001b[0;34m\u001b[0m\u001b[0;34m\u001b[0m\u001b[0m\n\u001b[0m\u001b[1;32m    476\u001b[0m         \u001b[0mself\u001b[0m\u001b[0;34m.\u001b[0m\u001b[0mupdates\u001b[0m \u001b[0;34m=\u001b[0m \u001b[0;34m[\u001b[0m\u001b[0mK\u001b[0m\u001b[0;34m.\u001b[0m\u001b[0mupdate_add\u001b[0m\u001b[0;34m(\u001b[0m\u001b[0mself\u001b[0m\u001b[0;34m.\u001b[0m\u001b[0miterations\u001b[0m\u001b[0;34m,\u001b[0m \u001b[0;36m1\u001b[0m\u001b[0;34m)\u001b[0m\u001b[0;34m]\u001b[0m\u001b[0;34m\u001b[0m\u001b[0;34m\u001b[0m\u001b[0m\n\u001b[1;32m    477\u001b[0m \u001b[0;34m\u001b[0m\u001b[0m\n",
      "\u001b[0;32m/usr/local/lib/python3.6/dist-packages/keras/optimizers.py\u001b[0m in \u001b[0;36mget_gradients\u001b[0;34m(self, loss, params)\u001b[0m\n\u001b[1;32m     87\u001b[0m \u001b[0;34m\u001b[0m\u001b[0m\n\u001b[1;32m     88\u001b[0m     \u001b[0;32mdef\u001b[0m \u001b[0mget_gradients\u001b[0m\u001b[0;34m(\u001b[0m\u001b[0mself\u001b[0m\u001b[0;34m,\u001b[0m \u001b[0mloss\u001b[0m\u001b[0;34m,\u001b[0m \u001b[0mparams\u001b[0m\u001b[0;34m)\u001b[0m\u001b[0;34m:\u001b[0m\u001b[0;34m\u001b[0m\u001b[0;34m\u001b[0m\u001b[0m\n\u001b[0;32m---> 89\u001b[0;31m         \u001b[0mgrads\u001b[0m \u001b[0;34m=\u001b[0m \u001b[0mK\u001b[0m\u001b[0;34m.\u001b[0m\u001b[0mgradients\u001b[0m\u001b[0;34m(\u001b[0m\u001b[0mloss\u001b[0m\u001b[0;34m,\u001b[0m \u001b[0mparams\u001b[0m\u001b[0;34m)\u001b[0m\u001b[0;34m\u001b[0m\u001b[0;34m\u001b[0m\u001b[0m\n\u001b[0m\u001b[1;32m     90\u001b[0m         \u001b[0;32mif\u001b[0m \u001b[0;32mNone\u001b[0m \u001b[0;32min\u001b[0m \u001b[0mgrads\u001b[0m\u001b[0;34m:\u001b[0m\u001b[0;34m\u001b[0m\u001b[0;34m\u001b[0m\u001b[0m\n\u001b[1;32m     91\u001b[0m             raise ValueError('An operation has `None` for gradient. '\n",
      "\u001b[0;32m/usr/local/lib/python3.6/dist-packages/keras/backend/tensorflow_backend.py\u001b[0m in \u001b[0;36mgradients\u001b[0;34m(loss, variables)\u001b[0m\n\u001b[1;32m   2755\u001b[0m         \u001b[0mA\u001b[0m \u001b[0mgradients\u001b[0m \u001b[0mtensor\u001b[0m\u001b[0;34m.\u001b[0m\u001b[0;34m\u001b[0m\u001b[0;34m\u001b[0m\u001b[0m\n\u001b[1;32m   2756\u001b[0m     \"\"\"\n\u001b[0;32m-> 2757\u001b[0;31m     \u001b[0;32mreturn\u001b[0m \u001b[0mtf\u001b[0m\u001b[0;34m.\u001b[0m\u001b[0mgradients\u001b[0m\u001b[0;34m(\u001b[0m\u001b[0mloss\u001b[0m\u001b[0;34m,\u001b[0m \u001b[0mvariables\u001b[0m\u001b[0;34m,\u001b[0m \u001b[0mcolocate_gradients_with_ops\u001b[0m\u001b[0;34m=\u001b[0m\u001b[0;32mTrue\u001b[0m\u001b[0;34m)\u001b[0m\u001b[0;34m\u001b[0m\u001b[0;34m\u001b[0m\u001b[0m\n\u001b[0m\u001b[1;32m   2758\u001b[0m \u001b[0;34m\u001b[0m\u001b[0m\n\u001b[1;32m   2759\u001b[0m \u001b[0;34m\u001b[0m\u001b[0m\n",
      "\u001b[0;32m~/.local/lib/python3.6/site-packages/tensorflow/python/ops/gradients_impl.py\u001b[0m in \u001b[0;36mgradients\u001b[0;34m(ys, xs, grad_ys, name, colocate_gradients_with_ops, gate_gradients, aggregation_method, stop_gradients)\u001b[0m\n\u001b[1;32m    628\u001b[0m   \u001b[0;32mwith\u001b[0m \u001b[0mops\u001b[0m\u001b[0;34m.\u001b[0m\u001b[0mget_default_graph\u001b[0m\u001b[0;34m(\u001b[0m\u001b[0;34m)\u001b[0m\u001b[0;34m.\u001b[0m\u001b[0m_mutation_lock\u001b[0m\u001b[0;34m(\u001b[0m\u001b[0;34m)\u001b[0m\u001b[0;34m:\u001b[0m  \u001b[0;31m# pylint: disable=protected-access\u001b[0m\u001b[0;34m\u001b[0m\u001b[0;34m\u001b[0m\u001b[0m\n\u001b[1;32m    629\u001b[0m     return _GradientsHelper(ys, xs, grad_ys, name, colocate_gradients_with_ops,\n\u001b[0;32m--> 630\u001b[0;31m                             gate_gradients, aggregation_method, stop_gradients)\n\u001b[0m\u001b[1;32m    631\u001b[0m \u001b[0;34m\u001b[0m\u001b[0m\n\u001b[1;32m    632\u001b[0m \u001b[0;34m\u001b[0m\u001b[0m\n",
      "\u001b[0;32m~/.local/lib/python3.6/site-packages/tensorflow/python/ops/gradients_impl.py\u001b[0m in \u001b[0;36m_GradientsHelper\u001b[0;34m(ys, xs, grad_ys, name, colocate_gradients_with_ops, gate_gradients, aggregation_method, stop_gradients, src_graph)\u001b[0m\n\u001b[1;32m    812\u001b[0m                 \u001b[0;31m# functions.\u001b[0m\u001b[0;34m\u001b[0m\u001b[0;34m\u001b[0m\u001b[0;34m\u001b[0m\u001b[0m\n\u001b[1;32m    813\u001b[0m                 in_grads = _MaybeCompile(grad_scope, op, func_call,\n\u001b[0;32m--> 814\u001b[0;31m                                          lambda: grad_fn(op, *out_grads))\n\u001b[0m\u001b[1;32m    815\u001b[0m               \u001b[0;32melse\u001b[0m\u001b[0;34m:\u001b[0m\u001b[0;34m\u001b[0m\u001b[0;34m\u001b[0m\u001b[0m\n\u001b[1;32m    816\u001b[0m                 \u001b[0;31m# For function call ops, we add a 'SymbolicGradient'\u001b[0m\u001b[0;34m\u001b[0m\u001b[0;34m\u001b[0m\u001b[0;34m\u001b[0m\u001b[0m\n",
      "\u001b[0;32m~/.local/lib/python3.6/site-packages/tensorflow/python/ops/gradients_impl.py\u001b[0m in \u001b[0;36m_MaybeCompile\u001b[0;34m(scope, op, func, grad_fn)\u001b[0m\n\u001b[1;32m    406\u001b[0m       \u001b[0mxla_scope\u001b[0m \u001b[0;34m=\u001b[0m \u001b[0mop\u001b[0m\u001b[0;34m.\u001b[0m\u001b[0mget_attr\u001b[0m\u001b[0;34m(\u001b[0m\u001b[0;34m\"_XlaScope\"\u001b[0m\u001b[0;34m)\u001b[0m\u001b[0;34m.\u001b[0m\u001b[0mdecode\u001b[0m\u001b[0;34m(\u001b[0m\u001b[0;34m)\u001b[0m\u001b[0;34m\u001b[0m\u001b[0;34m\u001b[0m\u001b[0m\n\u001b[1;32m    407\u001b[0m     \u001b[0;32mexcept\u001b[0m \u001b[0mValueError\u001b[0m\u001b[0;34m:\u001b[0m\u001b[0;34m\u001b[0m\u001b[0;34m\u001b[0m\u001b[0m\n\u001b[0;32m--> 408\u001b[0;31m       \u001b[0;32mreturn\u001b[0m \u001b[0mgrad_fn\u001b[0m\u001b[0;34m(\u001b[0m\u001b[0;34m)\u001b[0m  \u001b[0;31m# Exit early\u001b[0m\u001b[0;34m\u001b[0m\u001b[0;34m\u001b[0m\u001b[0m\n\u001b[0m\u001b[1;32m    409\u001b[0m \u001b[0;34m\u001b[0m\u001b[0m\n\u001b[1;32m    410\u001b[0m   \u001b[0;32mif\u001b[0m \u001b[0;32mnot\u001b[0m \u001b[0mxla_compile\u001b[0m\u001b[0;34m:\u001b[0m\u001b[0;34m\u001b[0m\u001b[0;34m\u001b[0m\u001b[0m\n",
      "\u001b[0;32m~/.local/lib/python3.6/site-packages/tensorflow/python/ops/gradients_impl.py\u001b[0m in \u001b[0;36m<lambda>\u001b[0;34m()\u001b[0m\n\u001b[1;32m    812\u001b[0m                 \u001b[0;31m# functions.\u001b[0m\u001b[0;34m\u001b[0m\u001b[0;34m\u001b[0m\u001b[0;34m\u001b[0m\u001b[0m\n\u001b[1;32m    813\u001b[0m                 in_grads = _MaybeCompile(grad_scope, op, func_call,\n\u001b[0;32m--> 814\u001b[0;31m                                          lambda: grad_fn(op, *out_grads))\n\u001b[0m\u001b[1;32m    815\u001b[0m               \u001b[0;32melse\u001b[0m\u001b[0;34m:\u001b[0m\u001b[0;34m\u001b[0m\u001b[0;34m\u001b[0m\u001b[0m\n\u001b[1;32m    816\u001b[0m                 \u001b[0;31m# For function call ops, we add a 'SymbolicGradient'\u001b[0m\u001b[0;34m\u001b[0m\u001b[0;34m\u001b[0m\u001b[0;34m\u001b[0m\u001b[0m\n",
      "\u001b[0;32m~/.local/lib/python3.6/site-packages/tensorflow/python/ops/math_grad.py\u001b[0m in \u001b[0;36m_RealDivGrad\u001b[0;34m(op, grad)\u001b[0m\n\u001b[1;32m   1004\u001b[0m           array_ops.reshape(\n\u001b[1;32m   1005\u001b[0m               math_ops.reduce_sum(\n\u001b[0;32m-> 1006\u001b[0;31m                   grad * math_ops.realdiv(math_ops.realdiv(-x, y), y), ry), sy))\n\u001b[0m\u001b[1;32m   1007\u001b[0m \u001b[0;34m\u001b[0m\u001b[0m\n\u001b[1;32m   1008\u001b[0m \u001b[0;34m\u001b[0m\u001b[0m\n",
      "\u001b[0;32m~/.local/lib/python3.6/site-packages/tensorflow/python/ops/math_ops.py\u001b[0m in \u001b[0;36mbinary_op_wrapper\u001b[0;34m(x, y)\u001b[0m\n\u001b[1;32m    864\u001b[0m     \u001b[0;32mwith\u001b[0m \u001b[0mops\u001b[0m\u001b[0;34m.\u001b[0m\u001b[0mname_scope\u001b[0m\u001b[0;34m(\u001b[0m\u001b[0;32mNone\u001b[0m\u001b[0;34m,\u001b[0m \u001b[0mop_name\u001b[0m\u001b[0;34m,\u001b[0m \u001b[0;34m[\u001b[0m\u001b[0mx\u001b[0m\u001b[0;34m,\u001b[0m \u001b[0my\u001b[0m\u001b[0;34m]\u001b[0m\u001b[0;34m)\u001b[0m \u001b[0;32mas\u001b[0m \u001b[0mname\u001b[0m\u001b[0;34m:\u001b[0m\u001b[0;34m\u001b[0m\u001b[0;34m\u001b[0m\u001b[0m\n\u001b[1;32m    865\u001b[0m       \u001b[0;32mif\u001b[0m \u001b[0misinstance\u001b[0m\u001b[0;34m(\u001b[0m\u001b[0mx\u001b[0m\u001b[0;34m,\u001b[0m \u001b[0mops\u001b[0m\u001b[0;34m.\u001b[0m\u001b[0mTensor\u001b[0m\u001b[0;34m)\u001b[0m \u001b[0;32mand\u001b[0m \u001b[0misinstance\u001b[0m\u001b[0;34m(\u001b[0m\u001b[0my\u001b[0m\u001b[0;34m,\u001b[0m \u001b[0mops\u001b[0m\u001b[0;34m.\u001b[0m\u001b[0mTensor\u001b[0m\u001b[0;34m)\u001b[0m\u001b[0;34m:\u001b[0m\u001b[0;34m\u001b[0m\u001b[0;34m\u001b[0m\u001b[0m\n\u001b[0;32m--> 866\u001b[0;31m         \u001b[0;32mreturn\u001b[0m \u001b[0mfunc\u001b[0m\u001b[0;34m(\u001b[0m\u001b[0mx\u001b[0m\u001b[0;34m,\u001b[0m \u001b[0my\u001b[0m\u001b[0;34m,\u001b[0m \u001b[0mname\u001b[0m\u001b[0;34m=\u001b[0m\u001b[0mname\u001b[0m\u001b[0;34m)\u001b[0m\u001b[0;34m\u001b[0m\u001b[0;34m\u001b[0m\u001b[0m\n\u001b[0m\u001b[1;32m    867\u001b[0m       \u001b[0;32melif\u001b[0m \u001b[0;32mnot\u001b[0m \u001b[0misinstance\u001b[0m\u001b[0;34m(\u001b[0m\u001b[0my\u001b[0m\u001b[0;34m,\u001b[0m \u001b[0msparse_tensor\u001b[0m\u001b[0;34m.\u001b[0m\u001b[0mSparseTensor\u001b[0m\u001b[0;34m)\u001b[0m\u001b[0;34m:\u001b[0m\u001b[0;34m\u001b[0m\u001b[0;34m\u001b[0m\u001b[0m\n\u001b[1;32m    868\u001b[0m         \u001b[0;32mtry\u001b[0m\u001b[0;34m:\u001b[0m\u001b[0;34m\u001b[0m\u001b[0;34m\u001b[0m\u001b[0m\n",
      "\u001b[0;32m~/.local/lib/python3.6/site-packages/tensorflow/python/ops/math_ops.py\u001b[0m in \u001b[0;36m_mul_dispatch\u001b[0;34m(x, y, name)\u001b[0m\n\u001b[1;32m   1129\u001b[0m   \u001b[0mis_tensor_y\u001b[0m \u001b[0;34m=\u001b[0m \u001b[0misinstance\u001b[0m\u001b[0;34m(\u001b[0m\u001b[0my\u001b[0m\u001b[0;34m,\u001b[0m \u001b[0mops\u001b[0m\u001b[0;34m.\u001b[0m\u001b[0mTensor\u001b[0m\u001b[0;34m)\u001b[0m\u001b[0;34m\u001b[0m\u001b[0;34m\u001b[0m\u001b[0m\n\u001b[1;32m   1130\u001b[0m   \u001b[0;32mif\u001b[0m \u001b[0mis_tensor_y\u001b[0m\u001b[0;34m:\u001b[0m\u001b[0;34m\u001b[0m\u001b[0;34m\u001b[0m\u001b[0m\n\u001b[0;32m-> 1131\u001b[0;31m     \u001b[0;32mreturn\u001b[0m \u001b[0mgen_math_ops\u001b[0m\u001b[0;34m.\u001b[0m\u001b[0mmul\u001b[0m\u001b[0;34m(\u001b[0m\u001b[0mx\u001b[0m\u001b[0;34m,\u001b[0m \u001b[0my\u001b[0m\u001b[0;34m,\u001b[0m \u001b[0mname\u001b[0m\u001b[0;34m=\u001b[0m\u001b[0mname\u001b[0m\u001b[0;34m)\u001b[0m\u001b[0;34m\u001b[0m\u001b[0;34m\u001b[0m\u001b[0m\n\u001b[0m\u001b[1;32m   1132\u001b[0m   \u001b[0;32melse\u001b[0m\u001b[0;34m:\u001b[0m\u001b[0;34m\u001b[0m\u001b[0;34m\u001b[0m\u001b[0m\n\u001b[1;32m   1133\u001b[0m     \u001b[0;32massert\u001b[0m \u001b[0misinstance\u001b[0m\u001b[0;34m(\u001b[0m\u001b[0my\u001b[0m\u001b[0;34m,\u001b[0m \u001b[0msparse_tensor\u001b[0m\u001b[0;34m.\u001b[0m\u001b[0mSparseTensor\u001b[0m\u001b[0;34m)\u001b[0m  \u001b[0;31m# Case: Dense * Sparse.\u001b[0m\u001b[0;34m\u001b[0m\u001b[0;34m\u001b[0m\u001b[0m\n",
      "\u001b[0;32m~/.local/lib/python3.6/site-packages/tensorflow/python/ops/gen_math_ops.py\u001b[0m in \u001b[0;36mmul\u001b[0;34m(x, y, name)\u001b[0m\n\u001b[1;32m   5040\u001b[0m   \u001b[0;32mif\u001b[0m \u001b[0m_ctx\u001b[0m \u001b[0;32mis\u001b[0m \u001b[0;32mNone\u001b[0m \u001b[0;32mor\u001b[0m \u001b[0;32mnot\u001b[0m \u001b[0m_ctx\u001b[0m\u001b[0;34m.\u001b[0m\u001b[0m_eager_context\u001b[0m\u001b[0;34m.\u001b[0m\u001b[0mis_eager\u001b[0m\u001b[0;34m:\u001b[0m\u001b[0;34m\u001b[0m\u001b[0;34m\u001b[0m\u001b[0m\n\u001b[1;32m   5041\u001b[0m     _, _, _op = _op_def_lib._apply_op_helper(\n\u001b[0;32m-> 5042\u001b[0;31m         \"Mul\", x=x, y=y, name=name)\n\u001b[0m\u001b[1;32m   5043\u001b[0m     \u001b[0m_result\u001b[0m \u001b[0;34m=\u001b[0m \u001b[0m_op\u001b[0m\u001b[0;34m.\u001b[0m\u001b[0moutputs\u001b[0m\u001b[0;34m[\u001b[0m\u001b[0;34m:\u001b[0m\u001b[0;34m]\u001b[0m\u001b[0;34m\u001b[0m\u001b[0;34m\u001b[0m\u001b[0m\n\u001b[1;32m   5044\u001b[0m     \u001b[0m_inputs_flat\u001b[0m \u001b[0;34m=\u001b[0m \u001b[0m_op\u001b[0m\u001b[0;34m.\u001b[0m\u001b[0minputs\u001b[0m\u001b[0;34m\u001b[0m\u001b[0;34m\u001b[0m\u001b[0m\n",
      "\u001b[0;32m~/.local/lib/python3.6/site-packages/tensorflow/python/framework/op_def_library.py\u001b[0m in \u001b[0;36m_apply_op_helper\u001b[0;34m(self, op_type_name, name, **keywords)\u001b[0m\n\u001b[1;32m    785\u001b[0m         op = g.create_op(op_type_name, inputs, output_types, name=scope,\n\u001b[1;32m    786\u001b[0m                          \u001b[0minput_types\u001b[0m\u001b[0;34m=\u001b[0m\u001b[0minput_types\u001b[0m\u001b[0;34m,\u001b[0m \u001b[0mattrs\u001b[0m\u001b[0;34m=\u001b[0m\u001b[0mattr_protos\u001b[0m\u001b[0;34m,\u001b[0m\u001b[0;34m\u001b[0m\u001b[0;34m\u001b[0m\u001b[0m\n\u001b[0;32m--> 787\u001b[0;31m                          op_def=op_def)\n\u001b[0m\u001b[1;32m    788\u001b[0m       \u001b[0;32mreturn\u001b[0m \u001b[0moutput_structure\u001b[0m\u001b[0;34m,\u001b[0m \u001b[0mop_def\u001b[0m\u001b[0;34m.\u001b[0m\u001b[0mis_stateful\u001b[0m\u001b[0;34m,\u001b[0m \u001b[0mop\u001b[0m\u001b[0;34m\u001b[0m\u001b[0;34m\u001b[0m\u001b[0m\n\u001b[1;32m    789\u001b[0m \u001b[0;34m\u001b[0m\u001b[0m\n",
      "\u001b[0;32m~/.local/lib/python3.6/site-packages/tensorflow/python/util/deprecation.py\u001b[0m in \u001b[0;36mnew_func\u001b[0;34m(*args, **kwargs)\u001b[0m\n\u001b[1;32m    459\u001b[0m       \u001b[0;32mif\u001b[0m \u001b[0mis_in_graph_mode\u001b[0m\u001b[0;34m.\u001b[0m\u001b[0mIS_IN_GRAPH_MODE\u001b[0m\u001b[0;34m(\u001b[0m\u001b[0;34m)\u001b[0m \u001b[0;32mand\u001b[0m \u001b[0m_PRINT_DEPRECATION_WARNINGS\u001b[0m\u001b[0;34m:\u001b[0m\u001b[0;34m\u001b[0m\u001b[0;34m\u001b[0m\u001b[0m\n\u001b[1;32m    460\u001b[0m         \u001b[0minvalid_args\u001b[0m \u001b[0;34m=\u001b[0m \u001b[0;34m[\u001b[0m\u001b[0;34m]\u001b[0m\u001b[0;34m\u001b[0m\u001b[0;34m\u001b[0m\u001b[0m\n\u001b[0;32m--> 461\u001b[0;31m         \u001b[0mnamed_args\u001b[0m \u001b[0;34m=\u001b[0m \u001b[0mtf_inspect\u001b[0m\u001b[0;34m.\u001b[0m\u001b[0mgetcallargs\u001b[0m\u001b[0;34m(\u001b[0m\u001b[0mfunc\u001b[0m\u001b[0;34m,\u001b[0m \u001b[0;34m*\u001b[0m\u001b[0margs\u001b[0m\u001b[0;34m,\u001b[0m \u001b[0;34m**\u001b[0m\u001b[0mkwargs\u001b[0m\u001b[0;34m)\u001b[0m\u001b[0;34m\u001b[0m\u001b[0;34m\u001b[0m\u001b[0m\n\u001b[0m\u001b[1;32m    462\u001b[0m         \u001b[0;32mfor\u001b[0m \u001b[0marg_name\u001b[0m\u001b[0;34m,\u001b[0m \u001b[0mspec\u001b[0m \u001b[0;32min\u001b[0m \u001b[0miter\u001b[0m\u001b[0;34m(\u001b[0m\u001b[0mdeprecated_positions\u001b[0m\u001b[0;34m.\u001b[0m\u001b[0mitems\u001b[0m\u001b[0;34m(\u001b[0m\u001b[0;34m)\u001b[0m\u001b[0;34m)\u001b[0m\u001b[0;34m:\u001b[0m\u001b[0;34m\u001b[0m\u001b[0;34m\u001b[0m\u001b[0m\n\u001b[1;32m    463\u001b[0m           if (spec.position < len(args) and\n",
      "\u001b[0;32m~/.local/lib/python3.6/site-packages/tensorflow/python/util/tf_inspect.py\u001b[0m in \u001b[0;36mgetcallargs\u001b[0;34m(func, *positional, **named)\u001b[0m\n\u001b[1;32m    233\u001b[0m   \u001b[0margspec\u001b[0m \u001b[0mwill\u001b[0m \u001b[0mbe\u001b[0m \u001b[0mused\u001b[0m\u001b[0;34m.\u001b[0m\u001b[0;34m\u001b[0m\u001b[0;34m\u001b[0m\u001b[0m\n\u001b[1;32m    234\u001b[0m   \"\"\"\n\u001b[0;32m--> 235\u001b[0;31m   \u001b[0margspec\u001b[0m \u001b[0;34m=\u001b[0m \u001b[0mgetfullargspec\u001b[0m\u001b[0;34m(\u001b[0m\u001b[0mfunc\u001b[0m\u001b[0;34m)\u001b[0m\u001b[0;34m\u001b[0m\u001b[0;34m\u001b[0m\u001b[0m\n\u001b[0m\u001b[1;32m    236\u001b[0m   \u001b[0mcall_args\u001b[0m \u001b[0;34m=\u001b[0m \u001b[0mnamed\u001b[0m\u001b[0;34m.\u001b[0m\u001b[0mcopy\u001b[0m\u001b[0;34m(\u001b[0m\u001b[0;34m)\u001b[0m\u001b[0;34m\u001b[0m\u001b[0;34m\u001b[0m\u001b[0m\n\u001b[1;32m    237\u001b[0m   \u001b[0mthis\u001b[0m \u001b[0;34m=\u001b[0m \u001b[0mgetattr\u001b[0m\u001b[0;34m(\u001b[0m\u001b[0mfunc\u001b[0m\u001b[0;34m,\u001b[0m \u001b[0;34m'im_self'\u001b[0m\u001b[0;34m,\u001b[0m \u001b[0;32mNone\u001b[0m\u001b[0;34m)\u001b[0m \u001b[0;32mor\u001b[0m \u001b[0mgetattr\u001b[0m\u001b[0;34m(\u001b[0m\u001b[0mfunc\u001b[0m\u001b[0;34m,\u001b[0m \u001b[0;34m'__self__'\u001b[0m\u001b[0;34m,\u001b[0m \u001b[0;32mNone\u001b[0m\u001b[0;34m)\u001b[0m\u001b[0;34m\u001b[0m\u001b[0;34m\u001b[0m\u001b[0m\n",
      "\u001b[0;32m~/.local/lib/python3.6/site-packages/tensorflow/python/util/tf_inspect.py\u001b[0m in \u001b[0;36mgetfullargspec\u001b[0;34m(obj)\u001b[0m\n\u001b[1;32m    214\u001b[0m   return next((d.decorator_argspec\n\u001b[1;32m    215\u001b[0m                \u001b[0;32mfor\u001b[0m \u001b[0md\u001b[0m \u001b[0;32min\u001b[0m \u001b[0mdecorators\u001b[0m\u001b[0;34m\u001b[0m\u001b[0;34m\u001b[0m\u001b[0m\n\u001b[0;32m--> 216\u001b[0;31m                if d.decorator_argspec is not None), _getfullargspec(target))\n\u001b[0m\u001b[1;32m    217\u001b[0m \u001b[0;34m\u001b[0m\u001b[0m\n\u001b[1;32m    218\u001b[0m \u001b[0;34m\u001b[0m\u001b[0m\n",
      "\u001b[0;32m/usr/lib/python3.6/inspect.py\u001b[0m in \u001b[0;36mgetfullargspec\u001b[0;34m(func)\u001b[0m\n\u001b[1;32m   1124\u001b[0m                                        \u001b[0mfollow_wrapper_chains\u001b[0m\u001b[0;34m=\u001b[0m\u001b[0;32mFalse\u001b[0m\u001b[0;34m,\u001b[0m\u001b[0;34m\u001b[0m\u001b[0;34m\u001b[0m\u001b[0m\n\u001b[1;32m   1125\u001b[0m                                        \u001b[0mskip_bound_arg\u001b[0m\u001b[0;34m=\u001b[0m\u001b[0;32mFalse\u001b[0m\u001b[0;34m,\u001b[0m\u001b[0;34m\u001b[0m\u001b[0;34m\u001b[0m\u001b[0m\n\u001b[0;32m-> 1126\u001b[0;31m                                        sigcls=Signature)\n\u001b[0m\u001b[1;32m   1127\u001b[0m     \u001b[0;32mexcept\u001b[0m \u001b[0mException\u001b[0m \u001b[0;32mas\u001b[0m \u001b[0mex\u001b[0m\u001b[0;34m:\u001b[0m\u001b[0;34m\u001b[0m\u001b[0;34m\u001b[0m\u001b[0m\n\u001b[1;32m   1128\u001b[0m         \u001b[0;31m# Most of the times 'signature' will raise ValueError.\u001b[0m\u001b[0;34m\u001b[0m\u001b[0;34m\u001b[0m\u001b[0;34m\u001b[0m\u001b[0m\n",
      "\u001b[0;32m/usr/lib/python3.6/inspect.py\u001b[0m in \u001b[0;36m_signature_from_callable\u001b[0;34m(obj, follow_wrapper_chains, skip_bound_arg, sigcls)\u001b[0m\n\u001b[1;32m   2267\u001b[0m         \u001b[0;31m# If it's a pure Python function, or an object that is duck type\u001b[0m\u001b[0;34m\u001b[0m\u001b[0;34m\u001b[0m\u001b[0;34m\u001b[0m\u001b[0m\n\u001b[1;32m   2268\u001b[0m         \u001b[0;31m# of a Python function (Cython functions, for instance), then:\u001b[0m\u001b[0;34m\u001b[0m\u001b[0;34m\u001b[0m\u001b[0;34m\u001b[0m\u001b[0m\n\u001b[0;32m-> 2269\u001b[0;31m         \u001b[0;32mreturn\u001b[0m \u001b[0m_signature_from_function\u001b[0m\u001b[0;34m(\u001b[0m\u001b[0msigcls\u001b[0m\u001b[0;34m,\u001b[0m \u001b[0mobj\u001b[0m\u001b[0;34m)\u001b[0m\u001b[0;34m\u001b[0m\u001b[0;34m\u001b[0m\u001b[0m\n\u001b[0m\u001b[1;32m   2270\u001b[0m \u001b[0;34m\u001b[0m\u001b[0m\n\u001b[1;32m   2271\u001b[0m     \u001b[0;32mif\u001b[0m \u001b[0m_signature_is_builtin\u001b[0m\u001b[0;34m(\u001b[0m\u001b[0mobj\u001b[0m\u001b[0;34m)\u001b[0m\u001b[0;34m:\u001b[0m\u001b[0;34m\u001b[0m\u001b[0;34m\u001b[0m\u001b[0m\n",
      "\u001b[0;32m/usr/lib/python3.6/inspect.py\u001b[0m in \u001b[0;36m_signature_from_function\u001b[0;34m(cls, func)\u001b[0m\n\u001b[1;32m   2144\u001b[0m         parameters.append(Parameter(name, annotation=annotation,\n\u001b[1;32m   2145\u001b[0m                                     \u001b[0mkind\u001b[0m\u001b[0;34m=\u001b[0m\u001b[0m_POSITIONAL_OR_KEYWORD\u001b[0m\u001b[0;34m,\u001b[0m\u001b[0;34m\u001b[0m\u001b[0;34m\u001b[0m\u001b[0m\n\u001b[0;32m-> 2146\u001b[0;31m                                     default=defaults[offset]))\n\u001b[0m\u001b[1;32m   2147\u001b[0m \u001b[0;34m\u001b[0m\u001b[0m\n\u001b[1;32m   2148\u001b[0m     \u001b[0;31m# *args\u001b[0m\u001b[0;34m\u001b[0m\u001b[0;34m\u001b[0m\u001b[0;34m\u001b[0m\u001b[0m\n",
      "\u001b[0;32m/usr/lib/python3.6/inspect.py\u001b[0m in \u001b[0;36m__init__\u001b[0;34m(self, name, kind, default, annotation)\u001b[0m\n\u001b[1;32m   2452\u001b[0m     \u001b[0;32mdef\u001b[0m \u001b[0m__init__\u001b[0m\u001b[0;34m(\u001b[0m\u001b[0mself\u001b[0m\u001b[0;34m,\u001b[0m \u001b[0mname\u001b[0m\u001b[0;34m,\u001b[0m \u001b[0mkind\u001b[0m\u001b[0;34m,\u001b[0m \u001b[0;34m*\u001b[0m\u001b[0;34m,\u001b[0m \u001b[0mdefault\u001b[0m\u001b[0;34m=\u001b[0m\u001b[0m_empty\u001b[0m\u001b[0;34m,\u001b[0m \u001b[0mannotation\u001b[0m\u001b[0;34m=\u001b[0m\u001b[0m_empty\u001b[0m\u001b[0;34m)\u001b[0m\u001b[0;34m:\u001b[0m\u001b[0;34m\u001b[0m\u001b[0;34m\u001b[0m\u001b[0m\n\u001b[1;32m   2453\u001b[0m         \u001b[0;32mtry\u001b[0m\u001b[0;34m:\u001b[0m\u001b[0;34m\u001b[0m\u001b[0;34m\u001b[0m\u001b[0m\n\u001b[0;32m-> 2454\u001b[0;31m             \u001b[0mself\u001b[0m\u001b[0;34m.\u001b[0m\u001b[0m_kind\u001b[0m \u001b[0;34m=\u001b[0m \u001b[0m_ParameterKind\u001b[0m\u001b[0;34m(\u001b[0m\u001b[0mkind\u001b[0m\u001b[0;34m)\u001b[0m\u001b[0;34m\u001b[0m\u001b[0;34m\u001b[0m\u001b[0m\n\u001b[0m\u001b[1;32m   2455\u001b[0m         \u001b[0;32mexcept\u001b[0m \u001b[0mValueError\u001b[0m\u001b[0;34m:\u001b[0m\u001b[0;34m\u001b[0m\u001b[0;34m\u001b[0m\u001b[0m\n\u001b[1;32m   2456\u001b[0m             \u001b[0;32mraise\u001b[0m \u001b[0mValueError\u001b[0m\u001b[0;34m(\u001b[0m\u001b[0;34mf'value {kind!r} is not a valid Parameter.kind'\u001b[0m\u001b[0;34m)\u001b[0m\u001b[0;34m\u001b[0m\u001b[0;34m\u001b[0m\u001b[0m\n",
      "\u001b[0;32m/usr/lib/python3.6/enum.py\u001b[0m in \u001b[0;36m__call__\u001b[0;34m(cls, value, names, module, qualname, type, start)\u001b[0m\n\u001b[1;32m    291\u001b[0m         \"\"\"\n\u001b[1;32m    292\u001b[0m         \u001b[0;32mif\u001b[0m \u001b[0mnames\u001b[0m \u001b[0;32mis\u001b[0m \u001b[0;32mNone\u001b[0m\u001b[0;34m:\u001b[0m  \u001b[0;31m# simple value lookup\u001b[0m\u001b[0;34m\u001b[0m\u001b[0;34m\u001b[0m\u001b[0m\n\u001b[0;32m--> 293\u001b[0;31m             \u001b[0;32mreturn\u001b[0m \u001b[0mcls\u001b[0m\u001b[0;34m.\u001b[0m\u001b[0m__new__\u001b[0m\u001b[0;34m(\u001b[0m\u001b[0mcls\u001b[0m\u001b[0;34m,\u001b[0m \u001b[0mvalue\u001b[0m\u001b[0;34m)\u001b[0m\u001b[0;34m\u001b[0m\u001b[0;34m\u001b[0m\u001b[0m\n\u001b[0m\u001b[1;32m    294\u001b[0m         \u001b[0;31m# otherwise, functional API: we're creating a new Enum type\u001b[0m\u001b[0;34m\u001b[0m\u001b[0;34m\u001b[0m\u001b[0;34m\u001b[0m\u001b[0m\n\u001b[1;32m    295\u001b[0m         \u001b[0;32mreturn\u001b[0m \u001b[0mcls\u001b[0m\u001b[0;34m.\u001b[0m\u001b[0m_create_\u001b[0m\u001b[0;34m(\u001b[0m\u001b[0mvalue\u001b[0m\u001b[0;34m,\u001b[0m \u001b[0mnames\u001b[0m\u001b[0;34m,\u001b[0m \u001b[0mmodule\u001b[0m\u001b[0;34m=\u001b[0m\u001b[0mmodule\u001b[0m\u001b[0;34m,\u001b[0m \u001b[0mqualname\u001b[0m\u001b[0;34m=\u001b[0m\u001b[0mqualname\u001b[0m\u001b[0;34m,\u001b[0m \u001b[0mtype\u001b[0m\u001b[0;34m=\u001b[0m\u001b[0mtype\u001b[0m\u001b[0;34m,\u001b[0m \u001b[0mstart\u001b[0m\u001b[0;34m=\u001b[0m\u001b[0mstart\u001b[0m\u001b[0;34m)\u001b[0m\u001b[0;34m\u001b[0m\u001b[0;34m\u001b[0m\u001b[0m\n",
      "\u001b[0;31mKeyboardInterrupt\u001b[0m: "
     ]
    }
   ],
   "source": [
    "# esto se debiese usar simplemente asi: (ejemplo con un regresor pequeño)\n",
    "reg2 = Regressor(X_train.shape[1], y_train.shape[1], n_layers=2, layer_size=100)\n",
    "reg2.build()\n",
    "history2 = reg2.fit(X_train, y_train, epochs=10, validation_split=0.2, scale=True)\n",
    "plot_metrics(history2)\n",
    "# guardamos el modelo por seguridad\n",
    "reg2.save(model_file=\"model1_scaled\")\n",
    "# y luego podemos evaluar este modelo en el dataset de test\n",
    "reg2.evaluate(X_test, y_test)"
   ]
  },
  {
   "cell_type": "markdown",
   "metadata": {},
   "source": [
    "#### Experimento para una NN mucho mas grande\n",
    "la idea es ver si realmente usar una NN como la que recomendo el profe da mejores resultados.\n",
    "\n",
    "el profe dijo, usar 2 capas escondidas, cada una de tamaño 2048.\n",
    "\n",
    "En mi computador, cada epoca tardo serca de 10 min. No termine el test. Desconozco cuantas epocas son suficientes, hay que probar con redes pequeñas y encontrar el numero de pecosas optimas (el punto desde donde ocurre el overffit)"
   ]
  },
  {
   "cell_type": "code",
   "execution_count": null,
   "metadata": {},
   "outputs": [],
   "source": [
    "# ESTO PUEDE TARDAR BASTANTE!!!\n",
    "reg3 = Regressor(X_train.shape[1], y_train.shape[1], n_layers=2, layer_size=2048)\n",
    "reg3.build()\n",
    "history3 = reg3.fit(X_train, y_train, epochs=10, validation_split=0.2, scale=True)\n",
    "plot_metrics(history3)\n",
    "# guardamos el modelo por seguridad\n",
    "reg3.save(model_file=\"model_full_size\")\n",
    "# y luego podemos evaluar este modelo en el dataset de test\n",
    "reg3.evaluate(X_test, y_test)"
   ]
  }
 ],
 "metadata": {
  "kernelspec": {
   "display_name": "Python 3",
   "language": "python",
   "name": "python3"
  },
  "language_info": {
   "codemirror_mode": {
    "name": "ipython",
    "version": 3
   },
   "file_extension": ".py",
   "mimetype": "text/x-python",
   "name": "python",
   "nbconvert_exporter": "python",
   "pygments_lexer": "ipython3",
   "version": "3.6.8"
  }
 },
 "nbformat": 4,
 "nbformat_minor": 2
}
